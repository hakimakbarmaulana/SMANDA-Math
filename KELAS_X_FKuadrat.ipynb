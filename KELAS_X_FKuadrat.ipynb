{
 "cells": [
  {
   "cell_type": "markdown",
   "id": "f501b46c",
   "metadata": {},
   "source": [
    "# Persamaan dan Fungsi Kuadrat"
   ]
  },
  {
   "cell_type": "markdown",
   "id": "3e75437e",
   "metadata": {},
   "source": [
    "Masih ingat operasi aljabar?\n",
    "Coba tentukan variabel-variabel, koefisen yang bersesuaian, dan konstanta dari bentuk berikut:\n",
    "<center>$4x-5y-7$\n",
    "<center>$2x^2-3x+10$\n",
    "<img src=\"https://ilma95.net/edukasi/grafik_fungsi_kuadrat/media/lightmatter_golden_gate_bridge.jpg\">"
   ]
  },
  {
   "cell_type": "markdown",
   "id": "4045e83b",
   "metadata": {},
   "source": [
    "## Persamaan Kuadrat"
   ]
  },
  {
   "cell_type": "markdown",
   "id": "7cc1229f",
   "metadata": {},
   "source": [
    "Persamaan kuadrat adalah persamaan yang variabelnya **memiliki pangkat tertingginya sama dengan 2**. Persamaan ini berbeda dengan eksponensial, karena pangkatnya tidak mengandung variabel.\n",
    "\n",
    "Notasi umum persamaan kuadrat sebagai berikut:\n",
    "> $ax^2+bx+c=0, a\\ne0$ \\\n",
    "dimana:\\\n",
    "x = variabel\\\n",
    "a = koefisien kuadrat dari $x^2$\\\n",
    "b = koefisien linear dari $x$\\\n",
    "c = konstanta\\\n",
    "\\\n",
    "untuk bentuk yang tak umum seperti \\\n",
    "$(ax+b)^2=0\\\\\n",
    "(ax+b)(cx+d)=0\\\\\n",
    "a(x+b)^2+c=0$"
   ]
  },
  {
   "cell_type": "markdown",
   "id": "74d71b47",
   "metadata": {},
   "source": [
    "**Latihan**:\\\n",
    "Ubah ke dalam bentuk umum/standar persamaan kuadrat dan tentukan nilai $a$, $b$, dan $c$ :\n",
    "1. $3x^2-2x-1=x^2-2x+3$\n",
    "1. $2-3x-5x^2=2x^2+2+x$\n",
    "1. $(2x-3)(3x+4)=0$\n",
    "1. $(1-x)^2=-7$\n",
    "1. $2(x+2)^2+2=0$\n",
    "1. $(2x-5)^2=3x-6$\n",
    "1. $(x-1)(3+2x)=(x+1)^2$\n",
    "1. $\\frac{3}{4}(4x-6)^2=2-5x$"
   ]
  },
  {
   "cell_type": "markdown",
   "id": "ff8b178b",
   "metadata": {},
   "source": [
    "### Penyelesaian Persamaan Kuadrat"
   ]
  },
  {
   "cell_type": "markdown",
   "id": "4bf5fc90",
   "metadata": {},
   "source": [
    "Terdapatkan beberapa metode dalam penyelesaian persamaan kuadrat, antara lain:\n",
    "- Pemfaktoran\n",
    "> $x^2+bx+c=0\\\\\n",
    "(x+p)(x+q)=0\\\\\n",
    "p+q=b\\\\\n",
    "p.q=c$\n",
    "\n",
    "- Rumus Akar Kuadrat\n",
    "> $x_{1,2}=\\frac{-b\\pm \\sqrt{b^2-4ac}}{2a}$\\\n",
    "atau\\\n",
    "$x_{1,2}=\\frac{-b\\pm \\sqrt{D}}{2a}$\\\n",
    "dimana $D$ adalah nilai **diskriminan** yang besarnya:\\\n",
    "$D=b^2-4ac$\n",
    "\n",
    "\n",
    "- Melengkapi kuadrat sempurna \\\n",
    "$\\begin{eqnarray}\n",
    "ax^2+bx+c&=&0\\\\\n",
    "ax^2+bx&=&-c\\\\\n",
    "x^2+\\frac{b}{a}x&=&-\\frac{c}{a}\\\\\n",
    "x^2+2.\\frac{b}{2a}x&=&-\\frac{c}{a}\\\\\n",
    "x^2+2.\\frac{b}{2a}x+\\left(\\frac{b}{2a}\\right)^2&=&-\\frac{c}{a}+\\left(\\frac{b}{2a}\\right)^2\\\\\n",
    "\\left(x+\\frac{b}{2a}\\right)^2&=&-\\frac{c}{a}+\\left(\\frac{b}{2a}\\right)^2\\\\\n",
    "x+\\frac{b}{2a}&=&\\pm\\sqrt{-\\frac{c}{a}+\\left(\\frac{b}{2a}\\right)^2}\\\\\n",
    "x&=&-\\frac{b}{2a}\\pm\\sqrt{-\\frac{c}{a}+\\left(\\frac{b}{2a}\\right)^2}\\\\\n",
    "x&=&-\\frac{b}{2a}\\pm\\sqrt{-\\frac{c}{a}+\\frac{b^2}{4a^2}}\\\\\n",
    "x&=&-\\frac{b}{2a}\\pm\\sqrt{-\\frac{4ac}{4a^2}+\\frac{b^2}{4a^2}}\\\\\n",
    "x&=&-\\frac{b}{2a}\\pm\\sqrt{\\frac{-4ac+b^2}{4a^2}}\\\\\n",
    "x&=&-\\frac{b}{2a}\\pm\\frac{\\sqrt{-4ac+b^2}}{2a}\\\\\n",
    "x&=&\\frac{-b\\pm\\sqrt{-4ac+b^2}}{2a}\\\\\n",
    "x&=&\\frac{-b\\pm\\sqrt{b^2-4ac}}{2a}\\\\\n",
    "\\end{eqnarray}$"
   ]
  },
  {
   "cell_type": "markdown",
   "id": "826e641d",
   "metadata": {},
   "source": [
    "**Contoh:**"
   ]
  },
  {
   "cell_type": "markdown",
   "id": "b7f2e23a",
   "metadata": {},
   "source": [
    "**Latihan:**"
   ]
  },
  {
   "cell_type": "code",
   "execution_count": 3,
   "id": "48ef4993",
   "metadata": {},
   "outputs": [
    {
     "name": "stdout",
     "output_type": "stream",
     "text": [
      "1. x² - 2x + 1=0\n",
      "2. x² + 4x=0\n",
      "3. x² + 7x=0\n",
      "4. x² - 10x + 21=0\n",
      "5. x² + 8x + 15=0\n",
      "6. x² + 7x + 10=0\n",
      "7. x² - 2x - 35=0\n",
      "8. x² + 11x + 30=0\n",
      "9. x² + 6x - 7=0\n",
      "10. x² - x - 12=0\n"
     ]
    }
   ],
   "source": [
    "import numpy as np\n",
    "import sympy as sp\n",
    "\n",
    "x = sp.Symbol('x')\n",
    "c = 7\n",
    "np.random.seed(100)\n",
    "for i in range(10):\n",
    "    x1, x2 = np.random.choice(range(-c,c+1),2)\n",
    "    y = (x-x1)*(x-x2)\n",
    "    print(f'{i+1}. {sp.expand(y)}=0'.replace('**2','²').replace('*',''))\n",
    "#     print(f'   > {y}'.replace('**','^').replace('*',''))"
   ]
  },
  {
   "cell_type": "code",
   "execution_count": 6,
   "id": "96bce3d2",
   "metadata": {},
   "outputs": [
    {
     "name": "stdout",
     "output_type": "stream",
     "text": [
      "1. 2x² - 3x + 1=0\n",
      "2. 2x²=0\n",
      "3. 2x² - 17x + 21=0\n",
      "4. 2x² + 9x + 10=0\n",
      "5. 2x² - 9x - 35=0\n",
      "6. 2x² + 20x + 42=0\n",
      "7. 2x² - 5x - 12=0\n",
      "8. 2x² + 11x - 21=0\n",
      "9. 2x² - 14x + 12=0\n",
      "10. 2x² - 3x - 20=0\n"
     ]
    }
   ],
   "source": [
    "c = 7\n",
    "np.random.seed(100)\n",
    "for i in range(10):\n",
    "    x1, x2, k = np.random.choice(range(-c,c+1),3)\n",
    "    y = (2*x-x1)*(x-x2)\n",
    "    print(f'{i+1}. {sp.expand(y)}=0'.replace('**2','²').replace('*',''))\n",
    "#     print(f'   > {y}'.replace('**','^').replace('*',''))"
   ]
  },
  {
   "cell_type": "markdown",
   "id": "38d4ed11",
   "metadata": {},
   "source": [
    "### Sifat-Sifat Akar Persamaan Kuadrat"
   ]
  },
  {
   "cell_type": "markdown",
   "id": "e45911f8",
   "metadata": {},
   "source": [
    "Operasi dari akar persamaan kuadrat tentunya dapat dilakukan setelah mendapatkan solusi dari persamaan kuadrat. Tetapi untuk beberapa operasi, solusi tidak harus ditemukan terlebih dahulu.\n",
    "\n",
    "Misalkan persamaan kuadrat $ax^2+bx+c=0, a\\ne0$, maka terdapat suatu teorema berikut:\n",
    "> **TEOREMA VIETA**\\\n",
    "$x_1+x_2=\\frac{-b}{a}\\\\\n",
    "x_1.x_2=\\frac{c}{a}$\n",
    "$|x_1-x_2|=\\frac{\\sqrt{D}}{a}$ (Selisih)\\\n",
    "kombinasi lainnya dapat diturunkan dari kedua rumus di pertama\n"
   ]
  },
  {
   "cell_type": "markdown",
   "id": "8ae67f74",
   "metadata": {},
   "source": [
    "**Contoh:**\\\n",
    "Misalkan persamaan kuadrat $3x^2-2x+4=0$, maka\n",
    "- $x_1 + x_2=\\frac{-(-2)}{3}=\\frac{2}{3}$\n",
    "- $x_1 . x_2=\\frac{4}{3}$"
   ]
  },
  {
   "cell_type": "markdown",
   "id": "bda5733b",
   "metadata": {},
   "source": [
    "**Latihan:**\n",
    "Misalkan terdapat persamaan kuadrat $2x^2-3x-1=0$, tentukan:\n",
    "1. $x_1 + x_2$\n",
    "1. $x_1 . x_2$\n",
    "1. $\\frac{1}{x_1} . \\frac{1}{x_2}$\n",
    "1. $\\frac{1}{x_1} + \\frac{1}{x_2}$\n",
    "1. $x_1^2 + x_2^2$\n",
    "1. $\\frac{x_2}{x_1} + \\frac{x_1}{x_2}$\n",
    "1. $(x_1 - x_2)^2$\n",
    "1. $x_1^2 - x_2^2$ dimana $x_1>x_2$"
   ]
  },
  {
   "cell_type": "markdown",
   "id": "65f7c0be",
   "metadata": {},
   "source": [
    "### Masalah Terkait Persamaan Kuadrat"
   ]
  },
  {
   "cell_type": "markdown",
   "id": "c644bd92",
   "metadata": {},
   "source": []
  },
  {
   "cell_type": "markdown",
   "id": "4efce5c1",
   "metadata": {},
   "source": []
  },
  {
   "cell_type": "markdown",
   "id": "177f42ce",
   "metadata": {},
   "source": [
    "# Fungsi Kuadrat"
   ]
  },
  {
   "cell_type": "markdown",
   "id": "02656415",
   "metadata": {},
   "source": [
    "Fungsi kuadrat adalah fungsi yang variabelnya memiliki pangkat tertingginya sama dengan 2. Berikut bentuk umum fungsi kuadrat :\n",
    "> $f(x)=ax^2+bx+c, a\\ne0$\n",
    "\n",
    "Domain (daerah asal) dari suatu fungsi kuadrat adalah seluruh bilangan real. Sedangkan Range dari fungsi kuadrat tergantung dari titik puncak dan arah parabola fungsi kuadrat tersebut."
   ]
  },
  {
   "cell_type": "markdown",
   "id": "dc50f689",
   "metadata": {},
   "source": [
    "### Nilai fungsi\n",
    "Nilai dari fungsi kuadrat didapatkan dengan menyubstitusi atau mengganti variabel $x$ dengan suatu nilai tertentu.\n",
    "\n",
    "**Contoh:**\\\n",
    "Tentukan nilai fungsi $f(x)=2x^2-3x-1$ saat $x$ bernilai -2.\n",
    "\n",
    "$\\begin{eqnarray}\n",
    "f(x)&=&2x^2-3x-1\\\\\n",
    "f(-2)&=&2(-2)^2-3(-2)-1\\\\\n",
    "&=&2.4+6-1\\\\\n",
    "&=&8+5\\\\\n",
    "&=&13\n",
    "\\end{eqnarray}$\n"
   ]
  },
  {
   "cell_type": "markdown",
   "id": "bd39d968",
   "metadata": {},
   "source": [
    "### Grafik Fungsi Kuadrat "
   ]
  },
  {
   "cell_type": "markdown",
   "id": "b464c5ce",
   "metadata": {},
   "source": [
    "Langkah awal menggambar fungsi kuadrat, mirip dengan langkah menggambarkan grafik linear. Langkah langkahnya antara lain:\n",
    "- Perpotongan dengan sumbu $y$, maka $x=0$\\\n",
    "$y=a.0^2+b.0+c=0+0+c=c$, maka perpotongannya di titik $(0,c)$\n",
    "- Perpotongan dengan sumbu $x$, maka $y=0$\\\n",
    "Misal akar dari $ax^2+bx+c=0$ adalah $x_1$ dan $x_2$, maka perpotongannya di titik $(x_1,0)$ dan $(x_2,0)$\n",
    "- Titik bantu bebas, terlebih di dekat titik puncak $(x_p,y_p)$\\\n",
    "Titik puncak ditentukan dengan rumus berikut:\n",
    "> $x_p=\\frac{-b}{2a}\\\\\n",
    "y_p=\\frac{-D}{4a}$\n",
    "dimana $D=b^2-4ac$\n",
    "\n",
    "Semakin banyak titik bantu, maka grafik akan semakin mulus."
   ]
  },
  {
   "cell_type": "markdown",
   "id": "60f2cc60",
   "metadata": {},
   "source": [
    "**Contoh:**\\\n",
    "Tentukan sketsa grafik fungsi $f(x)=x^2-2x-8$\n",
    "- Perpotongan dengan sumbu $y$, maka $x=0$\\\n",
    "$y=0^2-2.0-8=0-0-8=-8$, maka perpotongannya di titik $(0,-8)$\n",
    "- Perpotongan dengan sumbu $x$, maka $y=0$\\\n",
    "Akar dari $x^2-2x-8=0$ adalah $(x-4)(x+2)=0$ atau $x_1=4$ dan $x_2=-2$, maka perpotongannya di titik $(4,0)$ dan $(-2,0)$\n",
    "- Titik bantu bebas, terlebih di dekat titik puncak\\\n",
    "Titik puncak ditentukan dengan rumus berikut:\n",
    "$x_p=\\frac{-(-2)}{2.1}=\\frac{2}{2}=1\\\\\n",
    "y_p=-\\frac{(-2)^2-4.1.(-8)}{4.1}=-\\frac{4+32}{4}=-\\frac{36}{4}=-9$\n",
    "Jadi titik puncaknya di $(1,-9)$\\\n",
    "Titik Bantu:\n",
    "|x|f(x)|Ket|\n",
    "|--|--|:--|\n",
    "|-2|0|Akar|\n",
    "|-1.5|-2.75||\n",
    "|-1|-5||\n",
    "|-0.5|-6.75||\n",
    "|0|-8|Tipot sb y|\n",
    "|1|-9|Titik Puncak|\n",
    "|2|-8||\n",
    "|2.5|-6.75||\n",
    "|3|-5||\n",
    "|3.5|-2.75||\n",
    "|4|0|Akar|\n"
   ]
  },
  {
   "cell_type": "code",
   "execution_count": 2,
   "id": "209dbd8f",
   "metadata": {},
   "outputs": [
    {
     "data": {
      "text/html": [
       "\n",
       "        <iframe\n",
       "            width=\"610\"\n",
       "            height=\"250\"\n",
       "            src=\"https://www.desmos.com/calculator/xc0vtskygj\"\n",
       "            frameborder=\"0\"\n",
       "            allowfullscreen\n",
       "        ></iframe>\n",
       "        "
      ],
      "text/plain": [
       "<IPython.lib.display.IFrame at 0x1e3f4e56a30>"
      ]
     },
     "metadata": {},
     "output_type": "display_data"
    }
   ],
   "source": [
    "from IPython.display import IFrame\n",
    "display(IFrame('https://www.desmos.com/calculator/xc0vtskygj', 610, 250))"
   ]
  },
  {
   "cell_type": "markdown",
   "id": "8bdd278b",
   "metadata": {},
   "source": [
    "### Sifat-Sifat Grafik Fungsi Kuadrat "
   ]
  },
  {
   "cell_type": "markdown",
   "id": "aa12aace",
   "metadata": {},
   "source": [
    "Grafik fungsi kuadrat $f(x)=ax^2+bx+c, a\\ne0$ memiliki sifat tertentu berdasarkan koefisien-koefisiennya.\n",
    "\n",
    "Koefisien|Nilai|Sifat\n",
    ":---:|:---:|:--\n",
    "a|a>0|Kurva terbuka ke atas\n",
    " |a<0|Kurva terbuka ke bawah\n",
    "ab|ab>0|puncak berada di kiri sumbu y\n",
    " |ab<0|puncak berada di kanan sumbu y\n",
    " |ab=0 atau b=0|puncak berada tepat sumbu y\n",
    "c|c>0|memotong di sumbu y positif\n",
    " |c<0|memotong di sumbu y negatif\n",
    " |c=0|melalui titik (0,0)\n",
    "D|D>0|memotong sumbu x di dua titik/ memiki 2 akar\n",
    " |D<0|tidak memotong sumbu x\n",
    " |D=0|menyinggung sumbu x di satu titik/ memiki 1 akar atau 2 akar kembar"
   ]
  },
  {
   "cell_type": "code",
   "execution_count": 3,
   "id": "00056f30",
   "metadata": {},
   "outputs": [
    {
     "data": {
      "text/html": [
       "\n",
       "        <iframe\n",
       "            width=\"610\"\n",
       "            height=\"250\"\n",
       "            src=\"https://www.desmos.com/calculator/dez8p2pees\"\n",
       "            frameborder=\"0\"\n",
       "            allowfullscreen\n",
       "        ></iframe>\n",
       "        "
      ],
      "text/plain": [
       "<IPython.lib.display.IFrame at 0x1e3f4e56a90>"
      ]
     },
     "metadata": {},
     "output_type": "display_data"
    }
   ],
   "source": [
    "from IPython.display import IFrame\n",
    "display(IFrame('https://www.desmos.com/calculator/dez8p2pees', 610, 250))"
   ]
  },
  {
   "cell_type": "markdown",
   "id": "44064c01",
   "metadata": {},
   "source": [
    "### Menentukan Fungsi Kuadrat"
   ]
  },
  {
   "cell_type": "markdown",
   "id": "e581bfb0",
   "metadata": {},
   "source": [
    "Suatu fungsi kuadrat dapat dicari mengguakan salah satu dari cara berikut:\n",
    "- Jika diketahui titik puncak yaitu $(x_p,y_p)$ dan 1 titik bebas $(p,q)$\n",
    "> $y=a(x-x_p)+y_p$\\\n",
    "dimana $a$ adalah solusi dari\\\n",
    "$q=a(p-x_p)+y_p$\n",
    "- Jika diketahui kedua akar yaitu $(x_1, 0)$ dan $(x_2,0)$, serta 1 titik bebas $(p,q)$\n",
    "> $y=a(x-x_1)(x-x_2)$\\\n",
    "dimana $a$ adalah solusi dari\\\n",
    "$q=a(p-x_1)(p-x_2)$\n",
    "- Jika diketahui 3 titik bebas $(p,q),(r,s),(t,u)$\n",
    "> $y=ax^2+bx+c$\\\n",
    "dimana $a, b, c$ adalah solusi dari SPLTV\\\n",
    "$\\begin{cases}\n",
    "a.p^2+b.p+c=q\\\\\n",
    "a.r^2+b.r+c=s\\\\\n",
    "a.t^2+b.t+c=u\\\\\n",
    "\\end{cases}$"
   ]
  },
  {
   "cell_type": "markdown",
   "id": "d06d572d",
   "metadata": {},
   "source": [
    "**Latihan Soal :**\\\n",
    "Tentukan fungsi kuadrat titik yang tertentu berikut:\n",
    "1. Jika memiliki titik puncak $(1,-2)$ dan melalui titik $(0,1)$\n",
    "1. Jika diketahui akar-akarnya di $x_1=-3$ dan $x_2=2$  dan melalui titik $(0,-2)$\n",
    "1. Jika melalui titik $(0,-2)$, $(-2,0)$, dan $(4,6)$"
   ]
  },
  {
   "cell_type": "markdown",
   "id": "75375bc3",
   "metadata": {},
   "source": [
    "### Praktikum\n",
    "Alat dan bahan:\n",
    "- Tali\n",
    "- Bola\n",
    "- Alat ukur panjang\n",
    "\n",
    "Alur:\n",
    "- Lakukan kegiatan secara berkelompok,\n",
    "- **Langkah pertama** dapat dilakukan di kelas atau di lab,\n",
    "- Ukur panjang tali,\n",
    "- Pegang atau tautkan kedua ujung tali,\n",
    "- Tarik tali tersebut tetapi tetap kendor, biarkan terjadi lengkungan,\n",
    "- Ukur jarak kedua ujung tali,\n",
    "- Ukur panjang kekendoran tali (jarak dari ujung ke bawah),\n",
    "- Dokumentasikan gambar (lengkungan tali) pada saat praktikum,\n",
    "- Anggap salah satu titik ujung tali adalah koordinat $(0,0)$. Buatlah rumus fungsi kuadrat dari tali tersebut,\n",
    "- Gambar grafik fungsi tersebut dengan aplikasi desmos.\n",
    "- **Langkah kedua** dapat dilakukan di lapangan atau tempat lapang,\n",
    "- Lakukan pelemparan bola seperti melakukan shooting basket (tangan tepat di atas kepala),\n",
    "- Dokumentasikan foto dan video,\n",
    "- Ukur jarak :\n",
    "    - tempat berdiri ke tempat jatuhnya bola\n",
    "    - tinggi pelempar bola\n",
    "    - tinggi maksimum bola dan jaraknya ke pelempar (dapat dikira-kira dari hasil video)\n",
    "- Sama seperti langkah sebelumnya, anggap salah satu titik ujung tali adalah koordinat $(0,0)$. Buatlah rumus fungsi kuadrat dari tali tersebut,\n",
    "- Gambar grafik fungsi tersebut dengan aplikasi desmos."
   ]
  },
  {
   "cell_type": "markdown",
   "id": "e91a673f",
   "metadata": {},
   "source": []
  },
  {
   "cell_type": "code",
   "execution_count": 1,
   "id": "c08789a1",
   "metadata": {},
   "outputs": [
    {
     "data": {
      "text/html": [
       "\n",
       "        <iframe\n",
       "            width=\"610\"\n",
       "            height=\"250\"\n",
       "            src=\"https://www.desmos.com/calculator/sjfhi0ay2e\"\n",
       "            frameborder=\"0\"\n",
       "            allowfullscreen\n",
       "        ></iframe>\n",
       "        "
      ],
      "text/plain": [
       "<IPython.lib.display.IFrame at 0x1c7e32c2e50>"
      ]
     },
     "metadata": {},
     "output_type": "display_data"
    }
   ],
   "source": [
    "from IPython.display import IFrame\n",
    "display(IFrame('https://www.desmos.com/calculator/sjfhi0ay2e', 610, 250))"
   ]
  },
  {
   "cell_type": "markdown",
   "id": "723023dc",
   "metadata": {},
   "source": [
    "### Masalah Terkait Fungsi Kuadrat "
   ]
  },
  {
   "cell_type": "code",
   "execution_count": 2,
   "id": "d3c13080",
   "metadata": {},
   "outputs": [
    {
     "data": {
      "text/html": [
       "\n",
       "        <iframe\n",
       "            width=\"610\"\n",
       "            height=\"250\"\n",
       "            src=\"https://www.desmos.com/calculator/hdzojx1ykh\"\n",
       "            frameborder=\"0\"\n",
       "            allowfullscreen\n",
       "        ></iframe>\n",
       "        "
      ],
      "text/plain": [
       "<IPython.lib.display.IFrame at 0x1c7e32c2c70>"
      ]
     },
     "metadata": {},
     "output_type": "display_data"
    }
   ],
   "source": [
    "from IPython.display import IFrame\n",
    "display(IFrame('https://www.desmos.com/calculator/hdzojx1ykh', 610, 250))"
   ]
  },
  {
   "cell_type": "markdown",
   "id": "ceb99730",
   "metadata": {},
   "source": []
  },
  {
   "cell_type": "code",
   "execution_count": 2,
   "id": "737459f9",
   "metadata": {},
   "outputs": [
    {
     "data": {
      "text/html": [
       "\n",
       "        <iframe\n",
       "            width=\"610\"\n",
       "            height=\"250\"\n",
       "            src=\"https://www.desmos.com/calculator/zeqvbnno9m\"\n",
       "            frameborder=\"0\"\n",
       "            allowfullscreen\n",
       "        ></iframe>\n",
       "        "
      ],
      "text/plain": [
       "<IPython.lib.display.IFrame at 0x1f02c4d47c0>"
      ]
     },
     "metadata": {},
     "output_type": "display_data"
    }
   ],
   "source": [
    "from IPython.display import IFrame\n",
    "display(IFrame('https://www.desmos.com/calculator/zeqvbnno9m', 610, 250))"
   ]
  },
  {
   "cell_type": "markdown",
   "id": "a12afed7",
   "metadata": {},
   "source": []
  }
 ],
 "metadata": {
  "kernelspec": {
   "display_name": "Python 3",
   "language": "python",
   "name": "python3"
  },
  "language_info": {
   "codemirror_mode": {
    "name": "ipython",
    "version": 3
   },
   "file_extension": ".py",
   "mimetype": "text/x-python",
   "name": "python",
   "nbconvert_exporter": "python",
   "pygments_lexer": "ipython3",
   "version": "3.9.1"
  }
 },
 "nbformat": 4,
 "nbformat_minor": 5
}
