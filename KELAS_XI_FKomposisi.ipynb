{
 "cells": [
  {
   "cell_type": "markdown",
   "id": "e312af73",
   "metadata": {},
   "source": [
    "# Fungsi, Invers, dan Komposisi"
   ]
  },
  {
   "cell_type": "markdown",
   "id": "4524a28f",
   "metadata": {},
   "source": [
    "**Himpunan** adalah kumpulan dari bilangan atau obyek obyek yang sejenis. Suatu himpunan dapat berkaitan dengan himpunan lainnya. Hubungan suatu himpunan dan himpunan lainnya disebut sebagai **relasi**.\n",
    "\n",
    "**Contoh:**\\\n",
    "Terdapat himpunan\\\n",
    "A={sapi, singa, belalang}\\\n",
    "B={rumput, daging}\\\n",
    "Relasi antara A dan B adalah relasi memakan. Interpretasinya adalah \"A (hewan) memakan B (makanan)\".\n",
    "\n",
    "Relasi dapat disajikan kedalam bentuk berikut:\n",
    "- Tabel\n",
    "\n",
    "hewan|makanan\n",
    "--|--\n",
    "sapi|rumput\n",
    "singa|daging\n",
    "belalang|rumput\n",
    "\n",
    "- Diagram panah\n",
    "<img src=\"diag_panah.PNG\" alt=\"dpanah\" width=\"250\" height=\"auto\">\n",
    "- Diagram kartesius\n",
    "<img src=\"diag_KARTE.PNG\" alt=\"dkarte\" width=\"250\" height=\"auto\">\n",
    "- Himpunan pasangan berurutan\\\n",
    "aRb={(sapi, rumput), (singa, daging), (belalang, rumput)}"
   ]
  },
  {
   "cell_type": "markdown",
   "id": "c45b6fbd",
   "metadata": {},
   "source": [
    "**Latihan:**\\\n",
    "Buatlah suatu relasi yang menghubungkan dua buah himpunan dengan ketentuan:\n",
    "- Himpunan A adalah nama minimal 5 orang terdekat dari bangku\n",
    "- Relasi bebas, contoh: mapel fav, makanan fav, warna fav, dan lain lain\n",
    "- Himpunan B bebas, sesuai relasi yang akan dibuat. Banyaknya boleh lebih sedikit, sama, atau lebih banyak dari himpunan A.\n",
    "- Relasi dan himpunan B sudah ditentukan oleh penanya, setiap anak boleh memberi jawaban dobel\n",
    "- Sajikan hasil relasi tersebut dalam tabel, diagram panah, diagram kartesius, dan himpunan pasangan berurutan."
   ]
  },
  {
   "cell_type": "markdown",
   "id": "2f7b078a",
   "metadata": {},
   "source": [
    "## Fungsi"
   ]
  },
  {
   "cell_type": "markdown",
   "id": "0e8969b7",
   "metadata": {},
   "source": [
    "Misalkan terdapat himpunan $A$ dan $B$. Fungsi adalah relasi yang memetakan **setiap** anggota $A$ ke **tepat satu** anggota $B$. Penyajian fungsi sama dengan relasi untuk angka-angka yang bernilai diskrit atau dapat dihitung dan terbatas. Jika angka-angkanya bernilai kontinu maka penyajian fungsi dilakukan dengan menggunakan rumus.\n",
    "\n",
    "Notasi fungsi yang disajikan dalam rumus:\n",
    "> $f:X\\mapsto Y\\\\\n",
    "f(x)=y, x\\in X, y\\in Y$\\\n",
    "artinya x (anggota daerah asal) dipetakan ke y (anggota daerah hasil) dengan relasi/fungsi f\\\n",
    "Contoh: $f(x)=2x-1, f(x)=x^2+2x+1$, dan lain-lain\n",
    "\n",
    "Terdapat 3 jenis fungsi:\n",
    "1. Fungsi Surjektif\\\n",
    "Semua daerah lawan (kodomain) punya kawan di daerah asal (domain). Kodomain habis tak bersisa.\n",
    "1. Fungsi Injektif\\\n",
    "Daerah hasil (range) punya maksimal satu kawan di daerah asal (domain). Fungsi injektif disebut pemetaan satu-satu.\n",
    "1. Fungsi Bijektif\\\n",
    "Memiliki sifat surjektif sekaligus injektif. Pemetaan bijektif adalah pemetaan satu ke satu dan kodomain habis. Fungsi bijektif disebut pemetaan korespondensi satu-satu.\n",
    "<img src=\"https://asset.kompas.com/crops/tvBtsNq7Z43p8UJUCpoRcNPQw34=/139x33:637x365/750x500/data/photo/2022/01/03/61d2c65461666.jpg\" alt=\"fungsi\" width=\"500\" height=\"auto\">"
   ]
  },
  {
   "cell_type": "markdown",
   "id": "ce075bd7",
   "metadata": {},
   "source": [
    "### Istilah dalam fungsi\n",
    "- Domain :\\\n",
    "Daerah asal, yang akan dipetakan, dalam hal ini adalah himpunan A.\\\n",
    "Syarat suatu domain:\n",
    "    - di dalam akar tidak boleh negatif (lebih dari atau sama dengan 0)\\\n",
    "    misal $f(x)=\\sqrt{a(x)}$ maka\n",
    "    >$D_f=\\{x|a(x)\\ge0,x\\in\\mathbb{R}\\}$\n",
    "    - penyebut tidak boleh 0\\\n",
    "    misal $f(x)=\\frac{a(x)}{b(x)}$ maka\n",
    "    >$D_f=\\{x|b(x)\\ne0,x\\in\\mathbb{R}\\}$\n",
    "    - akar di suatu penyebut lebih dari 0\\\n",
    "    misal $f(x)=\\frac{a(x)}{\\sqrt{b(x)}}$ maka\n",
    "    >$D_f=\\{x|b(x)>0,x\\in\\mathbb{R}\\}$\n",
    "    - tidak mengandung semuanya (tidak ada syarat)\n",
    "    >$D_f=\\{x|x\\in\\mathbb{R}\\}$\n",
    "    \n",
    "- Kodomain :\\\n",
    "Daerah kawan, yang mungkin menjadi pasangan pemetaan, dalam hal ini adalah himpunan B.\n",
    "- Range :\\\n",
    "Daerah hasil, hasil dari pemetaan yang memiliki relasi dengan himpunan asal.\\\n",
    "Syarat/hasil suatu Range:\n",
    "    - asimtot\n",
    "    - titik puncak\n",
    "    - bentuk akar\n",
    "\n",
    "**Contoh:**\n",
    "1. Tentukan Domain dan Range dari fungsi $f(x)=x^2-3$.\\\n",
    "Domain=Seluruh bilangan real, atau $(-\\infty,\\infty)$.\\\n",
    "$D_f=\\{x|x\\in\\mathbb{R}\\}$\\\n",
    "Range=lebih dari -3, atau $[-3,\\infty)$. Karena nilai minimumnya -3 saat x=0.\\\n",
    "$R_f=\\{y|y\\ge-3,y\\in\\mathbb{R}\\}$\n",
    "\n",
    "1. Tentukan Domain dan Range dari fungsi $f(x)=\\sqrt{x-3}$.\\\n",
    "Domain=lebih dari 3, atau $[3,\\infty)$.Karena nilai di dalam akar harus lebih dari nol, atau $x-3\\ge 0$.\\\n",
    "$D_f=\\{x|x\\ge3,x\\in\\mathbb{R}\\}$\\\n",
    "Range=lebih dari 0, atau $[0,\\infty)$. Karena nilainya pasti positif.\\\n",
    "$R_f=\\{y|y\\ge0,y\\in\\mathbb{R}\\}$"
   ]
  },
  {
   "cell_type": "markdown",
   "id": "8585b4ff",
   "metadata": {},
   "source": [
    "**Latihan:**\\\n",
    "Tentukan domain dan range dari fungsi berikut:\n",
    "1. $f(x)=3x+4$\n",
    "1. $f(x)=x^2-3x+2$\n",
    "1. $f(x)=\\sqrt{2x+4}+2$\n",
    "1. $f(x)=\\frac{2x+1}{2x-3}$"
   ]
  },
  {
   "cell_type": "markdown",
   "id": "16d5b124",
   "metadata": {},
   "source": [
    "Cari domain dari fungsi berikut:\n",
    "1. $f(x)=\\sqrt{x²+3x-4} +2$\n",
    "1. $f(x)=\\frac{3-2x}{2x+6}+5x$\n",
    "1. $f(x)=\\frac{3x+1}{\\sqrt{x²+5x+6}}$\n",
    "1. $f(x)=\\frac{\\sqrt{x²+5x+6}}{\\sqrt{-x²+3x+4}}$\n",
    "1. $f(x)=\\frac{\\sqrt{-x²+3x+4}}{x²+5x+6}$"
   ]
  },
  {
   "cell_type": "markdown",
   "id": "fa057f11",
   "metadata": {},
   "source": [
    "### Membedakan fungsi dan bukan fungsi"
   ]
  },
  {
   "cell_type": "markdown",
   "id": "95236662",
   "metadata": {},
   "source": [
    "Tidak semua persamaan atau relasi adalah fungsi. Ciri-ciri bukan fungsi adalah **saat suatu nilai di himpunan A dipasangkan lebih dari satu anggota B**. Hal ini akan terlihat di setiap penyajian relasi. Untuk diagram panah, tambpilannya akan seperti berikut:\n",
    "\n",
    "<img src=\"https://id-static.z-dn.net/files/d9b/a0198b3484c47b6159df9e42b58d8a1c.png\" alt=\"fungsi_or_not1\" width=\"300\" height=\"auto\">\n",
    "\n",
    "Jika digambarkan dalam bidang kartesius, fungsi $y=f(x)$ hanya akan **dipotong sebuah garis vertikal** ($x=h$ untuk sembarang $h$) hanya sebanyak **satu kali**.\n",
    "<img src=\"https://3.bp.blogspot.com/-00UNfgNV14E/XTW2Pommg5I/AAAAAAAABcI/aNGMjyfX3Ic2-g3Udm--pdRzKG90AJYnACLcBGAs/s1600/2019-07-22%2Bat%2B20-03-16.png\" alt=\"fungsi_or_not\" width=\"300\" height=\"auto\">\n",
    "Hal ini berkaitan pula untuk invers atau kebalikan dari fungsi (akan dipelajari lebih lanjut). Invers belum tentu merupakan suatu fungsi. Suatu fungsi memiliki invers jika fungsi tersebut bijektif."
   ]
  },
  {
   "cell_type": "markdown",
   "id": "22c629dc",
   "metadata": {},
   "source": [
    "**Latihan:**\n",
    "1. <img src=\"https://media-public.colearn.id/images/questions/M2661012E001.png\" alt=\"fungsi_or_not_latihan\" width=\"300\" height=\"auto\">"
   ]
  },
  {
   "cell_type": "markdown",
   "id": "fc151e1b",
   "metadata": {},
   "source": [
    "### Nilai Fungsi"
   ]
  },
  {
   "cell_type": "markdown",
   "id": "bf65bc94",
   "metadata": {},
   "source": [
    "Nilai fungsi adalah hasil pemetaan (range) dari suatu nilai tertentu di daerah asal (domain). Nilai dari suatu fungsi $f(x)$ dapat ditentukan dengan mensubstitusi (mengganti) nilai $x$ pada suatu fungsi dengan suatu nilai tertentu. Fungsi memiliki hasil jika nilai $x$ memenuhi kondisi domain fungsi tersebut.\n",
    "\n",
    "**Contoh:**\\\n",
    "Tentukan nilai fungsi $f(x)=2x^2-3x+1$ saat nilai $x=3$.\n",
    "\n",
    "$f(x)=2x^2-3x+1\\\\\n",
    "f(3)=2.3^2-3.3+1\\\\\n",
    "f(3)=2.9-9+1\\\\\n",
    "f(3)=18-8\\\\\n",
    "f(3)=10$"
   ]
  },
  {
   "cell_type": "markdown",
   "id": "16d50f05",
   "metadata": {},
   "source": [
    "**Latihan:**\n",
    "1. Tentukan nilai $f(x)=3x-2$ saat nilai $x=-1$\n",
    "1. Berapakah nilai $f(x)=\\frac{x+1}{2x-4}$ saat $x$ bernilai 5\n",
    "1. Tentukan hasil $f(-2)$ dari suatu fungsi $f(x)=3x^2-2x-5$\n",
    "1. Substitusi nilai $x=3$ ke dalam fungsi $f(x)=\\frac{2x+1}{\\sqrt{x+1}}$\n"
   ]
  },
  {
   "cell_type": "markdown",
   "id": "beda3152",
   "metadata": {},
   "source": [
    "### Operasi Aljabar Fungsi"
   ]
  },
  {
   "cell_type": "markdown",
   "id": "c382459b",
   "metadata": {},
   "source": [
    "Fungsi memiliki operasi tertentu yang mirip dengan operasi aljabar. Berikut notasi operasi fungsi jika terdapat fungsi $f(x)$ dan $g(x)$:\n",
    ">$(f+g)(x)= f(x)+g(x)\\\\\n",
    "(f-g)(x)= f(x)-g(x)\\\\\n",
    "(f.g)(x)= f(x).g(x)\\\\\n",
    "\\left(\\frac{f}{g}\\right)(x)= \\frac{f(x)}{g(x)}, g(x)\\ne0$ \n",
    "$(a.f+b.g)(x)= a.f(x)+b.g(x)$ (pengayaan)\n",
    "\n",
    "\n",
    "Domain hasil operasi aljabar fungsi:\n",
    ">$D_{f+g}=D_{f-g}=D_{f.g}=D_{\\frac{f}{g}}=D_f\\cap D_g$\\\n",
    "untuk $D_{\\frac{f}{g}}\\cap \\{x| g(x)\\ne0\\}$"
   ]
  },
  {
   "cell_type": "markdown",
   "id": "2373f3f3",
   "metadata": {},
   "source": [
    "**Contoh:**\\\n",
    "Misalkan $f(x)=2x-1$ dan $g(x)=3x+2$ \\\n",
    "$\\begin{eqnarray}\n",
    "(f+g)(x)&=& f(x)+g(x)\\\\\n",
    "&=&(2x-1)+(3x+2)\\\\\n",
    "&=&2x-1+3x+2\\\\\n",
    "&=&5x+1\\\\\n",
    "(f-g)(x)&=& f(x)-g(x)\\\\\n",
    "&=&(2x-1)-(3x+2)\\\\\n",
    "&=&2x-1-3x-2\\\\\n",
    "&=&-x-3\\\\\n",
    "(f.g)(x)&=& f(x).g(x)\\\\\n",
    "&=&(2x-1).(3x+2)\\\\\n",
    "&=&6x^2+4x-3x-2\\\\\n",
    "&=&6x^2+x-2\\\\\n",
    "\\left(\\frac{f}{g}\\right)(x)&=& \\frac{f(x)}{g(x)}\\\\\n",
    "&=& \\frac{2x-1}{3x+2}\n",
    "\\end{eqnarray}$"
   ]
  },
  {
   "cell_type": "markdown",
   "id": "814b0c17",
   "metadata": {},
   "source": [
    "**Latihan soal:**\\\n",
    "Diberikan suatu fungsi $f(x)=3x-4$ dan $g(x)=-5-2x$, tentukan:\n",
    "1. $(f+g)(x)$\n",
    "1. $(g-f)(x)$\n",
    "1. $(f.g)(x)$\n",
    "1. nilai x saat $\\left(\\frac{f}{g}\\right)(x)=-2$\n",
    "1. $(2f-3g)(x)$"
   ]
  },
  {
   "cell_type": "markdown",
   "id": "9f4983c6",
   "metadata": {},
   "source": [
    "## Invers Fungsi"
   ]
  },
  {
   "cell_type": "markdown",
   "id": "57dcfcd1",
   "metadata": {},
   "source": [
    "Invers suatu fungsi adalah kebalikan dari fungsi tersebut. Misalkan terdapat fungsi x untuk mencari y yaitu $y=f(x)$, maka kebalikannya adalah dari y akan dicari x yaitu $x=f^{-1}(y)$. Suatu fungsi memiliki invers jika **Fungsi tersebut Bijektif**. Jika tidak demikian, harus ditentukan domain baru (memotong domain) agar fungsi tersebut menjadi bijektif.\n",
    "\n",
    "Berikut notasi dari invers fungsi:\n",
    ">$f^{-1}:B\\mapsto A\\\\\n",
    "f^{-1}(y)=x$ \\\n",
    "Jika  $y=f(x)$ maka \\\n",
    "$f^{-1}(y)=f^{-1}(f(x))=x$\n",
    "\n",
    "<img src=\"https://asset-a.grid.id/crop/0x0:0x0/700x0/photo/2023/01/03/invers2jpg-20230103115000.jpg\" alt=\"fungsi\" width=\"300\" height=\"auto\">"
   ]
  },
  {
   "cell_type": "markdown",
   "id": "0faac081",
   "metadata": {},
   "source": [
    "### Invers Fungsi Linear\n",
    "Misalkan $y=f(x)=ax+b$ maka $f^{-1}(x)$ ditentukan dengan:\\\n",
    "$\\begin{eqnarray}\n",
    "f(x)&=&ax+b\\\\\n",
    "y&=&ax+b\\\\\n",
    "y-b&=&ax\\\\\n",
    "ax&=&y-b\\\\\n",
    "x&=&\\frac{y-b}{a}\\\\\n",
    "f^{-1}(y)&=&\\frac{y-b}{a}\\\\\n",
    "f^{-1}(x)&=&\\frac{x-b}{a}\n",
    "\\end{eqnarray}$"
   ]
  },
  {
   "cell_type": "markdown",
   "id": "7f760ca5",
   "metadata": {},
   "source": [
    "**Contoh:**\\\n",
    "Tentukan $f^{-1}(x)$ dari $f(x)=3x-2$.\\\n",
    "$\\begin{eqnarray}\n",
    "f(x)&=&3x-2\\\\\n",
    "y&=&3x-2\\\\\n",
    "y-(-2)&=&3x\\\\\n",
    "y+2&=&3x\\\\\n",
    "3x&=&y+2\\\\\n",
    "x&=&\\frac{y+2}{3}\\\\\n",
    "f^{-1}(y)&=&\\frac{y+2}{3}\\\\\n",
    "f^{-1}(x)&=&\\frac{x+2}{3}\\\\\n",
    "\\end{eqnarray}$\n",
    "\n",
    "Jadi inversnya $f^{-1}(x)=\\frac{x+2}{3}$"
   ]
  },
  {
   "cell_type": "markdown",
   "id": "60abc6f0",
   "metadata": {},
   "source": [
    "**Latihan soal:**\\\n",
    "Tentukan invers dari fungsi berikut:\n",
    "1. $f(x)=2x-4$\n",
    "1. $g(x)=-5x-7$\n",
    "1. $h(x)=\\frac{3}{2}x+6$\n",
    "1. $p(x)=7-3x$\n",
    "1. $q(x)=\\frac{x-2}{2}$\n",
    "1. $r(x)=5-\\frac{2}{5}x$\n",
    "1. $s(x)=-\\frac{3}{7}x$"
   ]
  },
  {
   "cell_type": "code",
   "execution_count": 1,
   "id": "359e5fb5",
   "metadata": {},
   "outputs": [
    {
     "name": "stdout",
     "output_type": "stream",
     "text": [
      "Tentukan invers dari fungsi berikut:\n",
      "1 . f(x) = 3⋅x + 5\n",
      "2 . f(x) = 4 - 10⋅x\n",
      "3 . f(x) = -5⋅x - 3\n",
      "4 . f(x) = -9⋅x - 3\n",
      "5 . f(x) = -4⋅x - 8\n",
      "6 . f(x) = -3⋅x - 10\n",
      "7 . f(x) = 4 - 6⋅x\n",
      "8 . f(x) = 6 - 7⋅x\n",
      "9 . f(x) = 1 - x\n",
      "10 . f(x) = -3⋅x - 7\n"
     ]
    }
   ],
   "source": [
    "# %%capture latsol\n",
    "# Buat soal random\n",
    "import sympy as sp\n",
    "import random\n",
    "sp.init_printing()\n",
    "x, f = sp.symbols('x'), sp.Function('f')\n",
    "yy=list(range(-10, 11))\n",
    "yy.remove(0)\n",
    "print('Tentukan invers dari fungsi berikut:')\n",
    "for i in range(10):\n",
    "    c1, c2 = random.sample(yy,2)\n",
    "    eksp = sp.Eq(f(x),c1*x+c2)\n",
    "    print(i+1,'. ',end='')\n",
    "    sp.pprint(eksp)"
   ]
  },
  {
   "cell_type": "markdown",
   "id": "94a33368",
   "metadata": {},
   "source": [
    "### Invers Fungsi Pecahan (fraksional)\n",
    "Misalkan $y=f(x)=\\frac{ax+b}{cx+d}, x\\ne \\frac{-d}{c}$ maka $f^{-1}(x)$ ditentukan dengan:\\\n",
    "$\\begin{eqnarray}\n",
    "f(x)&=&\\frac{ax+b}{cx+d}\\\\\n",
    "y&=&\\frac{ax+b}{cx+d}\\\\\n",
    "y(cx+d)&=&ax+b\\\\\n",
    "cxy+dy&=&ax+b\\\\\n",
    "cxy-ax&=&-dy+b\\\\\n",
    "x(cy-a)&=&-dy+b\\\\\n",
    "x&=&\\frac{-dy+b}{cy-a}\\\\\n",
    "f^{-1}(y)&=&\\frac{-dy+b}{cy-a}\\\\\n",
    "f^{-1}(x)&=&\\frac{-dx+b}{cx-a}, x\\ne \\frac{a}{c}\n",
    "\\end{eqnarray}$"
   ]
  },
  {
   "cell_type": "markdown",
   "id": "bb4d55df",
   "metadata": {},
   "source": [
    "**Contoh:**\\\n",
    "Tentukan $f^{-1}(x)$ dari $f(x)=\\frac{2x+1}{4x-3}, x\\ne \\frac{3}{4}$ditentukan dengan:\\\n",
    "$\\begin{eqnarray}\n",
    "f(x)&=&\\frac{2x+1}{4x-3}\\\\\n",
    "y&=&\\frac{2x+1}{4x-3}\\\\\n",
    "y(4x-3)&=&2x+1\\\\\n",
    "4xy-3y&=&2x+1\\\\\n",
    "4xy-2x&=&3y+1\\\\\n",
    "x(4y-2)&=&3y+1\\\\\n",
    "x&=&\\frac{3y+1}{4y-2}\\\\\n",
    "f^{-1}(y)&=&\\frac{3y+1}{4y-2}\\\\\n",
    "f^{-1}(x)&=&\\frac{3x+1}{4x-2}, x\\ne \\frac{2}{4}\n",
    "\\end{eqnarray}$\n",
    "\n",
    "Jadi inversnya adalah $f^{-1}(x)=\\frac{3x+1}{4x-2}, x\\ne \\frac{2}{4}$"
   ]
  },
  {
   "cell_type": "markdown",
   "id": "4581fd82",
   "metadata": {},
   "source": [
    "**Latihan soal**:\\\n",
    "Tentukan invers dari fungsi berikut:\n",
    "1. $f(x)=\\frac{x-5}{3x+4}$\n",
    "1. $f(x)=\\frac{-4+2x}{x+7}$\n",
    "1. $f(x)=-\\frac{3x+4}{5x-6}$\n",
    "1. $f(x)=-\\frac{7x}{2-5x}$\n",
    "1. $f(x)=\\frac{-4}{\\frac{2}{3}x-1}$"
   ]
  },
  {
   "cell_type": "code",
   "execution_count": 5,
   "id": "19aa4992",
   "metadata": {},
   "outputs": [
    {
     "name": "stdout",
     "output_type": "stream",
     "text": [
      "Tentukan invers dari fungsi berikut:\n",
      "1 . \n",
      "       7⋅x - 10\n",
      "f(x) = ────────\n",
      "       -7⋅x - 6\n",
      "2 . \n",
      "       8⋅x - 2\n",
      "f(x) = ───────\n",
      "       6⋅x - 7\n",
      "3 . \n",
      "       1 - 10⋅x\n",
      "f(x) = ────────\n",
      "       7 - 7⋅x \n",
      "4 . \n",
      "       7⋅x + 6\n",
      "f(x) = ───────\n",
      "       2⋅x - 9\n",
      "5 . \n",
      "       2⋅x + 7\n",
      "f(x) = ───────\n",
      "       4⋅x + 5\n"
     ]
    }
   ],
   "source": [
    "# %%capture latsol\n",
    "# Buat soal random\n",
    "import sympy as sp\n",
    "import random\n",
    "sp.init_printing()\n",
    "x, f = sp.symbols('x'), sp.Function('f')\n",
    "yy=list(range(-10, 11))\n",
    "yy.remove(0)\n",
    "print('Tentukan invers dari fungsi berikut:')\n",
    "for i in range(5):\n",
    "    c1, c2, c3, c4 = random.sample(yy,4)\n",
    "    eksp = sp.Eq(f(x),(c1*x+c2)/(c3*x+c4))\n",
    "    print(i+1,'. ')\n",
    "    sp.pprint(eksp)"
   ]
  },
  {
   "cell_type": "markdown",
   "id": "790772f6",
   "metadata": {},
   "source": [
    "### Invers Fungsi Umum\n",
    "\n",
    "Suatu fungsi lainnya dapat dicari invers dengan cara yang sama, yaitu dengan memisalkan $f(x)=y$ kemudian mencari fungsi $x=f(y)=...$ yang merupakan fungsi dari $y$. Tetapi tetap diperhatikan bahwa invers suatu fungsi belum tentu suatu fungsi pula. Agar invers menjadi suatu fungsi maka harus dipilih domain yang memenuhi.Contoh fungsi lainnya seperti:\n",
    "- Fungsi kuadrat\\\n",
    "    Misalkan $f(x)=x^2$, maka inversnya $f^{-1}(x)=\\sqrt{x}, x\\ge0$ atau $f^{-1}(x)=-\\sqrt{x}$\n",
    "- Fungsi Akar\\\n",
    "    Misalkan $f(x)=\\sqrt{x}$, maka inversnya adalah $f^{-1}(x)=x^2, x\\ge0$\n",
    "- Fungsi Polinom\\\n",
    "    Misalkan $f(x)=ax^n+b$, maka inversnya adalah $f^{-1}(x)=\\sqrt[n]{\\frac{x-b}{a}}$\n",
    "- Fungsi Eksponen\\\n",
    "    Misalkan $f(x)=a^x$, maka inversnya adalah $f^{-1}(x)=^a\\log{x}$\n"
   ]
  },
  {
   "cell_type": "markdown",
   "id": "a6fe3c64",
   "metadata": {},
   "source": [
    "## Komposisi Fungsi\n",
    "\n",
    "Fungsi komposisi adalah fungsi yang didapatkan dengan menggabungkan beberapa fungsi. Misalkan terdapat suatu fungsi $f(x)$ (proses pertama) dan dilanjutkan fungsi $g(x)$ (proses kedua), maka hasil dari penggabungan kedua fungsi adalah $g(f(x))$ atau dinotasikan sebagai $(g\\circ f)(x)$. Hasil komposisi $(g\\circ f)(x)=g(f(x))$ didapatkan dengan memasukkan nilai dari fungsi $f(x)$ ke dalam fungsi $g(x)$. Jadi nilai $x$ pada fungsi $g(x)$ seluruhnya disubstitusi atau diganti dengan $f(x)$.\n",
    "\n",
    "Operasi fungsi komposisi biasa dilambangkan dengan `o` dan dibaca komposisi atau bundaran."
   ]
  },
  {
   "cell_type": "markdown",
   "id": "a788fee3",
   "metadata": {},
   "source": [
    "Berikut notasi dari fungsi komposisi:\n",
    ">$(g\\circ f)(x)=g(f(x)) \\\\\n",
    "(f\\circ g)(x)=f(g(x))$\\\n",
    "Tak berlaku hukum komutatif:\\\n",
    "$(g\\circ f)(x)\\ne(f\\circ g)(x)$ nilainya tidak selalu sama\\\n",
    "Komposisi 3 fungsi:\\\n",
    "$(f\\circ g\\circ h)(x)=f(g(h(x)))$\\\n",
    "Komposisi dengan invers fungsi yang sama:\\\n",
    "$(f\\circ f^{-1})(x)=f(f^{-1}(x))=x$\\\n",
    "$(f^{-1}\\circ f)(x)=f^{-1}(f(x))=x$\n",
    "\n",
    "<img src=\"https://cdn.medcom.id/dynamic/content/2022/12/08/1511599/yW3ed6EQuo.jpg?w=480\" alt=\"fungsi\" width=\"300\" height=\"auto\">"
   ]
  },
  {
   "cell_type": "markdown",
   "id": "27b721ec",
   "metadata": {},
   "source": [
    "**Contoh:**\n",
    "Misalkan $f(x)=2x-1$ dan $g(x)=3x+2$, tentukanlah $(g\\circ f)(x)$ dan $(f\\circ g)(x)$\n",
    "\n",
    "$\\begin{eqnarray}\n",
    "(g\\circ f)(x)&=&g(f(x))\\\\\n",
    "&=&3f(x)+2\\\\\n",
    "&=&3(2x-1)+2\\\\\n",
    "&=&6x-3+2\\\\\n",
    "&=&6x-1\\\\\n",
    "\\\\\n",
    "(f\\circ g)(x)&=&f(g(x))\\\\\n",
    "&=&2g(x)-1\\\\\n",
    "&=&2(3x+2)-1\\\\\n",
    "&=&6x+4-1\\\\\n",
    "&=&6x+3\\\\\n",
    "\\end{eqnarray}$"
   ]
  },
  {
   "cell_type": "markdown",
   "id": "3f84946b",
   "metadata": {},
   "source": [
    "**Latihan:**\\\n",
    "Tentukan hasil $(g\\circ f)(x)$, $(f\\circ g)(x)$, $(g\\circ f)(2)$ dan $(f\\circ g)(4)$ dari fungsi berikut ini:\n",
    "1. $f(x)=2x+1 \\\\g(x)=3x-1$\n",
    "1. $f(x)=x-2 \\\\g(x)=3x+4$\n",
    "1. $f(x)=4-x \\\\g(x)=2x-3$\n",
    "1. $f(x)=3x+1 \\\\g(x)=4-2x$\n",
    "1. $f(x)=3-4x \\\\g(x)=5+2x$\n",
    "\n",
    "1. $f(x)=1-2x \\\\g(x)=2-x^2$\n",
    "1. $f(x)=x^2+x-3 \\\\g(x)=x^2-x$\n",
    "1. $f(x)=x+5 \\\\g(x)=\\frac{x+2}{2x-5}$\n",
    "1. $f(x)= 2x^2+3\\\\g(x)=\\frac{1}{\\sqrt{x-3}}$\n",
    "1. $f(x)=\\{(1,2),(2,5),(3,1),(4,3),(5,4)\\} \\\\g(x)=\\{(1,2),(2,4),(3,5),(4,3),(5,1)\\}$"
   ]
  },
  {
   "cell_type": "markdown",
   "id": "d7d90833",
   "metadata": {},
   "source": []
  },
  {
   "cell_type": "markdown",
   "id": "562ae4ce",
   "metadata": {},
   "source": [
    "### Invers dari komposisi fungsi"
   ]
  },
  {
   "cell_type": "markdown",
   "id": "df12fa43",
   "metadata": {},
   "source": [
    "Sifat invers dari komposisi fungsi :\n",
    ">$(f\\circ g)^{-1}(x)=(g^{-1}\\circ f^{-1})(x)\\\\\n",
    "(f\\circ g\\circ h)^{-1}(x)=(h^{-1}\\circ g^{-1}\\circ f^{-1})(x)$\n",
    "Jika $(f\\circ g)(x)=h(x)$, maka $f(x)=(h\\circ g^{-1})(x)$"
   ]
  },
  {
   "cell_type": "markdown",
   "id": "cf7aeceb",
   "metadata": {},
   "source": [
    "**Contoh:**\\\n",
    "Misalkan terdapat $f(x)=2x-1$ dan $g(x)=\\frac{3-x}{5}$, tentukanlah $(f \\circ g)^{-1}(x)$. \n",
    "\n",
    "**Cara 1**\\\n",
    "$f(x)=2x-1$ maka $f^{-1}(x)=\\frac{x+1}{2}$\\\n",
    "$g(x)=\\frac{3-x}{5}$ maka $g^{-1}(x)=3-5x$\\\n",
    "Sehingga \\\n",
    "$\\begin{eqnarray}\n",
    "(f\\circ g)^{-1}(x)&=&(g^{-1}\\circ f^{-1})(x)\\\\\n",
    "&=&g^{-1}(f^{-1}(x))\\\\\n",
    "&=&g^{-1}\\left(\\frac{x+1}{2}\\right)\\\\\n",
    "&=&3-5\\left(\\frac{x+1}{2}\\right)\\\\\n",
    "&=&3-\\frac{5(x+1)}{2}\\\\\n",
    "&=&\\frac{6}{2}-\\frac{5x+5}{2}\\\\\n",
    "&=&\\frac{6-(5x+5)}{2}\\\\\n",
    "&=&\\frac{6-5x-5}{2}\\\\\n",
    "&=&\\frac{1-5x}{2}\\end{eqnarray}$\n",
    "\n",
    "**Cara 2**\\\n",
    "$\\begin{eqnarray}\n",
    "(f\\circ g)(x)&=&f(g(x))\\\\\n",
    "&=&f\\left(\\frac{3-x}{5}\\right)\\\\\n",
    "&=&2\\left(\\frac{3-x}{5}\\right)-1\\\\\n",
    "&=&\\frac{2(3-x)}{5}-1\\\\\n",
    "&=&\\frac{6-2x}{5}-\\frac{5}{5}\\\\\n",
    "&=&\\frac{6-2x-5}{5}\\\\\n",
    "&=&\\frac{1-2x}{5}\\\\\\end{eqnarray}$\\\n",
    "dengan menggunakan metode invers didapatkan\\\n",
    "$(f\\circ g)^{-1}(x)=\\frac{1-5x}{2}$"
   ]
  },
  {
   "cell_type": "markdown",
   "id": "5bca9389",
   "metadata": {},
   "source": [
    "**Latihan Soal :**\\\n",
    "Tentukan invers komposisi dari fungsi yang diberikan, dengan dua cara yang berbeda, yang dicontohkan sebelumnya:\n",
    "1. $f(x)=2x+1 \\\\g(x)=3x-1$\n",
    "1. $f(x)=x-2 \\\\g(x)=3x+4$\n",
    "1. $f(x)=4-x \\\\g(x)=2x-3$"
   ]
  },
  {
   "cell_type": "markdown",
   "id": "a3f37be5",
   "metadata": {},
   "source": [
    "### Fungsi jika diketahui komposisinya"
   ]
  },
  {
   "cell_type": "markdown",
   "id": "ea188884",
   "metadata": {},
   "source": [
    "Jika terdapat suatu fungsi dan komposisi fungsi (dua fungsi), maka dapat ditentukan fungsi lainnya. Misalkan terdapat fungsi $f(x)$, $g(x)$, $(f\\circ g)(x)$, dan $(g\\circ f)(x)$:\n",
    "\n",
    "> Jika diketahui $f(x)$ dan $(f\\circ g)(x)$, dan dicari $g(x)$, maka \\\n",
    "$g(x)=f^{-1}((f\\circ g)(x))=(f^{-1}\\circ f\\circ g)(x))$ \\\n",
    "Jika diketahui $g(x)$ dan $(f\\circ g)(x)$, dan dicari $f(x)$, maka \\\n",
    "$f(x)=(f\\circ g)(g^{-1}(x))=(f\\circ g\\circ g^{-1})(x))$\n",
    "\n",
    "Sebaliknya\n",
    "> Jika diketahui $f(x)$ dan $(g\\circ f)(x)$, dan dicari $g(x)$, maka \\\n",
    "$g(x)=(g\\circ f)(f^{-1}(x))=(g\\circ f\\circ f^{-1})(x))$ \\\n",
    "Jika diketahui $g(x)$ dan $(f\\circ g)(x)$, dan dicari $f(x)$, maka \\\n",
    "$f(x)=g^{-1}((g\\circ f)(x))=(g^{-1}\\circ g\\circ f)(x))$"
   ]
  },
  {
   "cell_type": "markdown",
   "id": "bf443f38",
   "metadata": {},
   "source": [
    "1. Misalkan terdapat $f(x)=2x-1$ dan $(f\\circ g)(x)=4x+3$ maka tentukan $g(x)$.\n",
    "\n",
    "$(f\\circ g)(x)=4x+3\\\\\n",
    "f(g(x))=4x+3\\\\\n",
    "2g(x)-1=4x+3\\\\\n",
    "2g(x)=4x+3+1\\\\\n",
    "2g(x)=4x+4\\\\\n",
    "g(x)=\\frac{4x+4}{2}\\\\\n",
    "\\therefore g(x)=2x+2$\\\n",
    "Jadi fungsi $g(x)=2x+2$."
   ]
  },
  {
   "cell_type": "markdown",
   "id": "b882ca5c",
   "metadata": {},
   "source": [
    "2. Misalkan terdapat $g(x)=2x-1$ dan $(f\\circ g)(x)=4x+3$ maka tentukan $f(x)$.\n",
    "\n",
    "$(f\\circ g)(x)=4x+3\\\\\n",
    "f(g(x))=4x+3\\\\\n",
    "f(2x-1)=4x+3$\n",
    "Misalkan $y=2x-1$, maka inversnya yaitu $x=\\frac{y+1}{2}$. Substitusi ke persamaan:\\\n",
    "$f(y)=4\\left(\\frac{y+1}{2}\\right)+3\\\\\n",
    "f(y)=\\frac{4(y+1)}{2}+\\frac{6}{2}\\\\\n",
    "f(y)=\\frac{4y+4+6}{2}\\\\\n",
    "f(y)=\\frac{4y+10}{2}\\\\\n",
    "f(y)=2y+5\\\\\n",
    "\\therefore f(x)=2x+5$\\\n",
    "Jadi fungsi $f(x)=2x+5$."
   ]
  },
  {
   "cell_type": "markdown",
   "id": "6ff53125",
   "metadata": {},
   "source": [
    "3. Misalkan terdapat $g(x)=3x-1$ dan $(f\\circ g)(x)=9x^2+6x-4$ maka tentukan $f(x)$.\n",
    "\n",
    "$(f\\circ g)(x)=9x^2+6x-4\\\\\n",
    "f(g(x))=9x^2+6x-4\\\\\n",
    "f(3x-1)=9x^2+6x-4$\n",
    "Misalkan $y=3x-1$, maka inversnya yaitu $x=\\frac{y+1}{3}$. Substitusi ke persamaan:\n",
    "\n",
    "$f(y)=9\\left(\\frac{y+1}{3}\\right)^2+6\\left(\\frac{y+1}{3}\\right)-4\\\\ f(y)=9.\\frac{(y+1)^2}{9}+6.\\frac{y+1}{3}-4\\\\\n",
    "f(y)=(y+1)^2+2(y+1)-4\\\\\n",
    "f(y)=y^2+2y+1+2y+2-4\\\\\n",
    "f(y)=y^2+4y-1\\\\\n",
    "\\therefore f(x)=x^2+4x-1$\\\n",
    "Jadi fungsi $f(x)=x^2+4x-1$."
   ]
  },
  {
   "cell_type": "markdown",
   "id": "6df5f3c8",
   "metadata": {},
   "source": [
    "4. Misalkan terdapat $f(x)=3x-1$ dan $(f\\circ g)(x)=9x^2+6x-4$ maka tentukan $g(x)$.\n",
    "\n",
    "$(f\\circ g)(x)=9x^2+6x-4\\\\\n",
    "f(g(x))=9x^2+6x-4\\\\\n",
    "3g(x)-1=9x^2+6x-4\\\\\n",
    "3g(x)=9x^2+6x-4+1\\\\\n",
    "3g(x)=9x^2+6x-3\\\\\n",
    "g(x)=\\frac{9x^2+6x-3}{3}\\\\\n",
    "\\therefore g(x)=3x^2+2x-1$\\\n",
    "Jadi fungsi $g(x)=3x^2+2x-1$."
   ]
  },
  {
   "cell_type": "markdown",
   "id": "50e0f313",
   "metadata": {},
   "source": [
    "**Latihan Soal :**\\\n",
    "Carilah fungsi yang tidak diketahui dari fungsi dan komposisinya yang diberikan:\n",
    "1. $f(x)=2x+1 \\\\(g\\circ f)(x)=3x-1$\n",
    "1. $(f\\circ g)(x)=x-2 \\\\f(x)=3x+4$\n",
    "1. $(g\\circ f)(x)=4x^2-2x+3 \\\\g(x)=2x-3$\n",
    "1. $g(x)=3x+1 \\\\(f\\circ g)(x)=9x^2-3x-5$"
   ]
  },
  {
   "cell_type": "markdown",
   "id": "e988bfd2",
   "metadata": {},
   "source": [
    "## Penerapan Fungsi"
   ]
  },
  {
   "cell_type": "markdown",
   "id": "19531893",
   "metadata": {},
   "source": []
  },
  {
   "cell_type": "markdown",
   "id": "8626640d",
   "metadata": {},
   "source": []
  },
  {
   "cell_type": "markdown",
   "id": "727f7c40",
   "metadata": {},
   "source": []
  },
  {
   "cell_type": "markdown",
   "id": "03c7ab12",
   "metadata": {},
   "source": []
  },
  {
   "cell_type": "markdown",
   "id": "0f2acfeb",
   "metadata": {},
   "source": []
  },
  {
   "cell_type": "markdown",
   "id": "06811552",
   "metadata": {},
   "source": []
  }
 ],
 "metadata": {
  "kernelspec": {
   "display_name": "Python 3",
   "language": "python",
   "name": "python3"
  },
  "language_info": {
   "codemirror_mode": {
    "name": "ipython",
    "version": 3
   },
   "file_extension": ".py",
   "mimetype": "text/x-python",
   "name": "python",
   "nbconvert_exporter": "python",
   "pygments_lexer": "ipython3",
   "version": "3.9.1"
  }
 },
 "nbformat": 4,
 "nbformat_minor": 5
}
