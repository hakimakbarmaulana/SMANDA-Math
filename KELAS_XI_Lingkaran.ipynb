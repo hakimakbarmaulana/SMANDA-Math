{
 "cells": [
  {
   "cell_type": "markdown",
   "id": "73e89ac9",
   "metadata": {},
   "source": [
    "# Lingkaran"
   ]
  },
  {
   "cell_type": "markdown",
   "id": "ec8cdd59",
   "metadata": {},
   "source": [
    "<img src=\"https://blog-media.byjusfutureschool.com/bfs-blog/2022/09/10114053/Article-Page-77.png\" width=500></img>"
   ]
  },
  {
   "cell_type": "markdown",
   "id": "c913d130",
   "metadata": {},
   "source": [
    "Lingkaran adalah suatu kedudukan atau posisi yang jaraknya terhadap suatu titik tertentu besarnya selalu sama. Titik tersebut dinamakan sebagai titik pusat lingkaran. Kemudian jaraknya terhadap posisi lingkaran disebut sebagai jari-jari ligkaran."
   ]
  },
  {
   "cell_type": "code",
   "execution_count": 1,
   "id": "95d649a7",
   "metadata": {},
   "outputs": [
    {
     "data": {
      "text/html": [
       "\n",
       "        <iframe\n",
       "            width=\"610\"\n",
       "            height=\"250\"\n",
       "            src=\"https://www.desmos.com/calculator/sufxhrhjo8\"\n",
       "            frameborder=\"0\"\n",
       "            allowfullscreen\n",
       "        ></iframe>\n",
       "        "
      ],
      "text/plain": [
       "<IPython.lib.display.IFrame at 0x2ad705ed3a0>"
      ]
     },
     "metadata": {},
     "output_type": "display_data"
    }
   ],
   "source": [
    "from IPython.display import IFrame\n",
    "display(IFrame('https://www.desmos.com/calculator/sufxhrhjo8', 610, 250))"
   ]
  },
  {
   "cell_type": "markdown",
   "id": "2242f8f8",
   "metadata": {},
   "source": [
    "## Unsur-Unsur Lingkaran"
   ]
  },
  {
   "cell_type": "markdown",
   "id": "ac3034e3",
   "metadata": {},
   "source": [
    "Lingkaran memiliki unsur unsur tertentu:\n",
    "- Jari-jari **$r$**\\\n",
    "    Jarak lingkaran ke pusat lingkaran\n",
    "- Diameter **$d$**\\\n",
    "    Jarak dua titik pada lingkaran yang melewati titik pusat lingkaran\n",
    "- Busur **$\\stackrel{\\LARGE\\frown}{AC}$**\\\n",
    "    Panjang garis melengkung yang melalui dua titik di lingkaran.\n",
    "- Tali busur **$AC$**\\\n",
    "    Panjang garis yang melalui dua titik di lingkaran.\n",
    "- Juring **$L_j$**\\\n",
    "    Daerah yang dibatasi oleh dua jari-jari.\n",
    "- Tembereng **$L_t$**\\\n",
    "    Daerah yang dibatasi oleh Busur dan tali busur.\n",
    "- Apotema **$OD$**\\\n",
    "    Jarak antara pusat lingkaran dengan tali busur."
   ]
  },
  {
   "cell_type": "code",
   "execution_count": 2,
   "id": "fc85ee20",
   "metadata": {},
   "outputs": [
    {
     "data": {
      "text/html": [
       "\n",
       "        <iframe\n",
       "            width=\"610\"\n",
       "            height=\"250\"\n",
       "            src=\"https://www.desmos.com/calculator/v2jpualgmw\"\n",
       "            frameborder=\"0\"\n",
       "            allowfullscreen\n",
       "        ></iframe>\n",
       "        "
      ],
      "text/plain": [
       "<IPython.lib.display.IFrame at 0x2ad70602b50>"
      ]
     },
     "metadata": {},
     "output_type": "display_data"
    }
   ],
   "source": [
    "from IPython.display import IFrame\n",
    "display(IFrame('https://www.desmos.com/calculator/v2jpualgmw', 610, 250))"
   ]
  },
  {
   "cell_type": "markdown",
   "id": "964719e3",
   "metadata": {},
   "source": [
    "**Latihan :**\\\n",
    "Jika pada gambar di atas diketahui $r=14$, maka tentukanlah\n",
    "1. Luas lingkaran\n",
    "1. Keliling lingkaran\n",
    "1. Panjang diameter **$d$**\n",
    "1. Panjang busur **$\\stackrel{\\LARGE\\frown}{AC}$**\n",
    "1. Panjang tali busur **$AC$**\n",
    "1. Luas juring **$L_j$**\n",
    "1. Luas tembereng **$L_t$**\n",
    "1. Panjang apotema **$OD$**"
   ]
  },
  {
   "cell_type": "markdown",
   "id": "bacccae7",
   "metadata": {},
   "source": [
    "## Sudut Pusat dan Sudut Keliling"
   ]
  },
  {
   "cell_type": "markdown",
   "id": "0f92b51e",
   "metadata": {},
   "source": [
    "Sudut pusat adalah sudut yang dibentuk dari dua buah jaris yang melewati pusat lingkaran (atau dua jari-jari). Sedangkan sudut keliling adalah sudut yang dibentuk dari dua buah garis yang perpotongannya berada tepat di lingkaran (berada di keliling lingkaran). Jika sudut pusat dan sudut keliling memiliki titik awal garis yang sama, maka hubungan antara mereka adalah:\\\n",
    "**Sudut pusat = 2 x Sudut Keliling**"
   ]
  },
  {
   "cell_type": "code",
   "execution_count": 3,
   "id": "38869cc4",
   "metadata": {},
   "outputs": [
    {
     "data": {
      "text/html": [
       "\n",
       "        <iframe\n",
       "            width=\"610\"\n",
       "            height=\"250\"\n",
       "            src=\"https://www.desmos.com/calculator/1gc8wlgg5l\"\n",
       "            frameborder=\"0\"\n",
       "            allowfullscreen\n",
       "        ></iframe>\n",
       "        "
      ],
      "text/plain": [
       "<IPython.lib.display.IFrame at 0x2ad705f3190>"
      ]
     },
     "metadata": {},
     "output_type": "display_data"
    }
   ],
   "source": [
    "from IPython.display import IFrame\n",
    "display(IFrame('https://www.desmos.com/calculator/1gc8wlgg5l', 610, 250))"
   ]
  },
  {
   "cell_type": "markdown",
   "id": "84451161",
   "metadata": {},
   "source": [
    "**Contoh :**\n",
    "1. Jika besar sudut $\\angle ACB$ adalah 55°, maka besar sudut $\\angle AOB$ adalah\n",
    "$\\angle AOB=2. \\angle ACB\\\\\n",
    "\\angle AOB=2.55^\\circ\\\\\n",
    "\\angle AOB=110^\\circ$\n",
    "\n",
    "\n",
    "2. Jika besar sudut $\\angle AOB$ adalah 140°, maka besar sudut $\\angle ACB$ adalah\n",
    "$\\angle ACB=\\frac{1}{2} \\angle ACB\\\\\n",
    "\\angle ACB=\\frac{1}{2} 140^\\circ\\\\\n",
    "\\angle ACB=70^\\circ$\n",
    "\n",
    "\n",
    "3. Berkaitan dengan gambar dibawah, jika besar sudut $\\angle ACB$ adalah 55°, maka besar sudut $\\angle ADB$ adalah\n",
    "$\\angle AOB=2. \\angle ACB\\\\\n",
    "\\angle AOB=2.55^\\circ\\\\\n",
    "\\angle AOB=110^\\circ$\\\n",
    "Sudut refleks $\\angle AOB$:\\\n",
    "$\\angle AOB' = 360^\\circ - \\angle AOB\\\\\n",
    "\\angle AOB' = 360^\\circ - 110^\\circ\\\\\n",
    "\\angle AOB' = 250^\\circ$\\\n",
    "$\\angle ADB=\\frac{1}{2} \\angle AOB'\\\\\n",
    "\\angle ADB=\\frac{1}{2} 250^\\circ\\\\\n",
    "\\angle ADB=125^\\circ$"
   ]
  },
  {
   "cell_type": "code",
   "execution_count": 4,
   "id": "b4920f42",
   "metadata": {},
   "outputs": [
    {
     "data": {
      "text/html": [
       "\n",
       "        <iframe\n",
       "            width=\"610\"\n",
       "            height=\"250\"\n",
       "            src=\"https://www.desmos.com/calculator/hdsvdmxwg4\"\n",
       "            frameborder=\"0\"\n",
       "            allowfullscreen\n",
       "        ></iframe>\n",
       "        "
      ],
      "text/plain": [
       "<IPython.lib.display.IFrame at 0x2ad70602dc0>"
      ]
     },
     "metadata": {},
     "output_type": "display_data"
    }
   ],
   "source": [
    "from IPython.display import IFrame\n",
    "display(IFrame('https://www.desmos.com/calculator/hdsvdmxwg4', 610, 250))"
   ]
  },
  {
   "cell_type": "markdown",
   "id": "b8ba1d21",
   "metadata": {},
   "source": [
    "**Latihan :**\n",
    "1. Tentukan sudut keliling jika sudut pusatnya 162°\n",
    "1. Tentukan sudut pusat jika sudut kelilingnya 138°\n",
    "1. pada gambar diatas, tentukan sudut keliling D, jika sudut keliling C nya 85°\n",
    "1. Pada gambar di atas, jika posisi C digeser kemanapun di antara B dan A apakah sudut keliling di C berubah?\n",
    "1. Pada gambar di atas, jika posisi A digeser kemanapun di antara D dan C apakah sudut keliling di C berubah?"
   ]
  },
  {
   "cell_type": "markdown",
   "id": "a72168e3",
   "metadata": {},
   "source": [
    "Pada Latihan soal sebelumnya (no. 3), sudut keliling D dapat ditentukan seperti langkah pada contoh soal sebelumnya. Selain itu, soal tersebut dapat diselesaikan dengan sifat **jumlah dari dua sudut keliling yang berhadapan selalu 180°**. Sifat ini akan dijelaskan pada materi berikutnya."
   ]
  },
  {
   "cell_type": "markdown",
   "id": "1b8fda5d",
   "metadata": {},
   "source": [
    "## Panjang Busur dan Luas Juring"
   ]
  },
  {
   "cell_type": "markdown",
   "id": "a4d86c11",
   "metadata": {},
   "source": [
    "Misalkan terdapat suatu lingkaran dengan jari-jari $r$ dan diberikan suatu sudut $\\theta$, maka dapat ditetukan:\n",
    "\n",
    "### Panjang busur\n",
    "> $P_b=\\frac{\\theta}{360}.k$\\\n",
    "dimana $k$ adalah keliling lingkaran, \\\n",
    "$k=2\\pi r=\\pi d$\n",
    "\n",
    "### Luas juring\n",
    "> $L_j=\\frac{\\theta}{360}.L$\\\n",
    "dimana $L$ adalah luas lingkaran, \\\n",
    "$L=\\pi r^2$"
   ]
  },
  {
   "cell_type": "markdown",
   "id": "25a41582",
   "metadata": {},
   "source": [
    "### Luas Tembereng\n",
    "Berdasarkan gambar di awal materi mengenai unsur lingkaran, dapat ditentukan luas dari tembereng yang dibatasi busur dan tali busur AC. Langkah langkah yang harus dilalui antara lain menentukan panjang tali busur AC, mencari panjang AD yang merupakan setengah panjang tali busur, menentukan apotema OD dengan pythagoras, dan menentukan luas juring serta luas daerah segitiga seperti berikut:\\\n",
    "$AC=r\\sqrt{2(1-cos \\theta)}\\\\\n",
    "AD=\\frac{1}{2}AC\\\\\n",
    "OD=\\sqrt{AO^2-AD^2}$\\\n",
    "Luas segitiga:\\\n",
    "$L_s=\\frac{1}{2}AC.OD$\\\n",
    "Luas Tembereng:\\\n",
    "$L_t=L_j-L_s$"
   ]
  },
  {
   "cell_type": "markdown",
   "id": "5ed606f8",
   "metadata": {},
   "source": [
    "**Latihan:** \\\n",
    "Tentukan panjang busur dan luas juring dari suatu lingkaran jika diketahui:\n",
    "1. $r=7, \\theta=30°$\n",
    "1. $r=10, \\theta=60°$\n",
    "1. $r=3.5, \\theta=45°$\n",
    "1. $r=5, \\theta=120°$"
   ]
  },
  {
   "cell_type": "code",
   "execution_count": 5,
   "id": "4347f755",
   "metadata": {},
   "outputs": [
    {
     "name": "stdout",
     "output_type": "stream",
     "text": [
      "314.0 62.800000000000004\n",
      "10.466666666666667 52.33333333333333\n"
     ]
    }
   ],
   "source": [
    "import numpy as np\n",
    "r=10\n",
    "t=60\n",
    "pi=3.14\n",
    "L=pi*r*r\n",
    "k=2*pi*r\n",
    "print(L, k)\n",
    "pb=t/360*k\n",
    "lj=t/360*L\n",
    "print(pb,lj)"
   ]
  },
  {
   "cell_type": "code",
   "execution_count": 6,
   "id": "543d719d",
   "metadata": {},
   "outputs": [
    {
     "data": {
      "text/html": [
       "\n",
       "        <iframe\n",
       "            width=\"610\"\n",
       "            height=\"250\"\n",
       "            src=\"https://www.desmos.com/calculator/jighaaoxfr\"\n",
       "            frameborder=\"0\"\n",
       "            allowfullscreen\n",
       "        ></iframe>\n",
       "        "
      ],
      "text/plain": [
       "<IPython.lib.display.IFrame at 0x2ad7699dee0>"
      ]
     },
     "metadata": {},
     "output_type": "display_data"
    }
   ],
   "source": [
    "from IPython.display import IFrame\n",
    "display(IFrame('https://www.desmos.com/calculator/jighaaoxfr', 610, 250))"
   ]
  },
  {
   "cell_type": "markdown",
   "id": "85836618",
   "metadata": {},
   "source": [
    "### Hubungan Panjang Busur dan Luas Juring\n",
    "\n",
    "Jika diketahui suatu jari-jari lingkaran maka hubungan antara panjang busur $P_b$ dan luas juring $L_j$ adalah:\n",
    "\n",
    "$\\frac{L_j}{L}=\\frac{P_b}{k}\\\\\n",
    "\\frac{L_j}{\\pi r^2}=\\frac{P_b}{2\\pi r}$\n",
    ">$\\frac{L_j}{r}=\\frac{P_b}{2}$\n",
    "\n",
    "dimana $L$ adalah luas lingkaran dan $k$ adalah keliling lingkaran. Hubungan keduanya tidak harus mempertimbangkan besar sudutnya jika sudah diketahui jari-jarinya. Jika yang diketahui adalah besar sudut dan jari-jari belum didapatkan, maka tetap menggunakan rumus sebelumnya."
   ]
  },
  {
   "cell_type": "markdown",
   "id": "0016736f",
   "metadata": {},
   "source": [
    "**Contoh :**\\\n",
    "Jika suatu lingkaran memiliki jari-jari sebesar 4, dan Panjang busurnya 8, maka luas juringnya:\n",
    "$\\frac{L_j}{r}=\\frac{P_b}{2}\\\\\n",
    "\\frac{L_j}{4}=\\frac{8}{2}\\\\\n",
    "\\frac{L_j}{4}=4\\\\\n",
    "L_j=16$"
   ]
  },
  {
   "cell_type": "markdown",
   "id": "026a2dc6",
   "metadata": {},
   "source": [
    "**Latihan :**\n",
    "1. Tentukan panjang busur lingkaran dengan jari jari 3 yang luas juringnya 18\n",
    "1. Tentukan luas juringnya lingkaran dengan jari jari 5 yang panjang busur 36\n",
    "1. Tentukan panjang busur lingkaran dengan sudut 30° yang luas juringnya 18"
   ]
  },
  {
   "cell_type": "markdown",
   "id": "36b254bf",
   "metadata": {},
   "source": [
    "Misalkan terdapat sudut pusat AOB dan sudut pusat lainnya COD, maka dapat dibuat suatu hubungan perbandingan seperti berikut:\n",
    "> $\\frac{\\angle AOB}{\\angle COD}=\\frac{L_j AOB}{L_j COD}=\\frac{P_b \\stackrel{\\LARGE\\frown}{AB}}{P_b \\stackrel{\\LARGE\\frown}{CD}}$\\\n",
    "dimana $L_j=$ Luas juring dan $P_b=$ Panjang busur"
   ]
  },
  {
   "cell_type": "markdown",
   "id": "9a2c8800",
   "metadata": {},
   "source": [
    "## Garis Singgung Satu Lingkaran"
   ]
  },
  {
   "cell_type": "markdown",
   "id": "5874bc7a",
   "metadata": {},
   "source": [
    "Garis singgung adalah garis yang memotong suatu lingkaran tepat di satu titik saja. Misalkan terdapat sebuah titik yang berada di lingkaran atau di luar linkaran tersebut (tidak bisa di dalam lingkaran), maka dapat dibentuk garis singgung lingkaran yang melewati garis tersebut. Jika titik tersebut berada pada lingkaran, maka titik tersebut dinamakan sebagai titik singgung lingkaran.\n",
    "\n",
    "Misalkan terdapat suatu titik dengan **jarak $D$ terhadap pusat lingkaran dengan jari-jari $r$** maka kedudukan titik pada lingkaran:\n",
    "- Di dalam lingkaran, jika $D<r$\n",
    "- Pada lingkaran, jika $D=r$\n",
    "- Di luar lingkaran, jika $D>r$"
   ]
  },
  {
   "cell_type": "code",
   "execution_count": 7,
   "id": "bf8ca2c6",
   "metadata": {},
   "outputs": [
    {
     "data": {
      "text/html": [
       "\n",
       "        <iframe\n",
       "            width=\"610\"\n",
       "            height=\"250\"\n",
       "            src=\"https://www.desmos.com/calculator/gbmwnhbghj\"\n",
       "            frameborder=\"0\"\n",
       "            allowfullscreen\n",
       "        ></iframe>\n",
       "        "
      ],
      "text/plain": [
       "<IPython.lib.display.IFrame at 0x2ad7052aa60>"
      ]
     },
     "metadata": {},
     "output_type": "display_data"
    }
   ],
   "source": [
    "from IPython.display import IFrame\n",
    "display(IFrame('https://www.desmos.com/calculator/gbmwnhbghj', 610, 250))"
   ]
  },
  {
   "cell_type": "markdown",
   "id": "4669c827",
   "metadata": {},
   "source": [
    "Jika titik tersebut berada di luar lingkaran, maka dapat ditentukan jarak titik tersebut ke titik singgung lingkaran. Titik di luar lingkaran juda dapat membuat 2 garis singgung sekaligus pada suatu lingkaran. Tetapi jaraknya terhadap kedua titik singgung selalu sama.\n",
    "\n",
    "Jarak titik ke titik singgung pada lingkaran dapat dicari dengan:\n",
    "> $s=\\sqrt{D^2-r^2}$\\\n",
    "dimana $D$ adalah jarak titik ke titik pusat lingkaran dan \\\n",
    "$r$ adalah jar-jari lingkaran"
   ]
  },
  {
   "cell_type": "markdown",
   "id": "8b2ffcbc",
   "metadata": {},
   "source": [
    "## Garis Singgung Dua Lingkaran"
   ]
  },
  {
   "cell_type": "markdown",
   "id": "2de83f3d",
   "metadata": {},
   "source": [
    "Misalkan terdapat dua buah lingkaran, dapat dibuat suatu garis yang menyinggung kedua lingkaran tersebut. Garis singgung tersebut dinamakan sebagai garis siggung persekutuan lingkaran. Terdapat dua jenis garis singgung persekutuan lingkaran, yaitu:\n",
    "- Garis singgung persekutuan luar\n",
    "- Garis singgung persekutuan luar\n",
    "\n",
    "<img src=\"https://idschool.net/wp-content/uploads/2023/07/Rumus-panjang-garis-singgung-lingkaran-luar-dan-dalam.webp\" width=300></img>"
   ]
  },
  {
   "cell_type": "markdown",
   "id": "81476635",
   "metadata": {},
   "source": [
    "### Garis singgung persekutuan luar dua lingkaran"
   ]
  },
  {
   "cell_type": "markdown",
   "id": "2e3dee62",
   "metadata": {},
   "source": [
    "Garis singgung persekutuan luar dua lingkaran adalah suatu garis yang menyinggung kedua lingkaran yang tidak melewati antara kedua lingkaran.\n",
    "\n",
    "Jarak kedua titik singgung dari persekutuan dalam dua lingkaran dapat ditentukan dengan:\n",
    ">$AB=\\sqrt{PQ^2-(R-r)^2}$\n",
    "\n",
    "dimana $PQ$ adalah jarak antar pusat lingkaran, $AB$ adalah jarak titik singgung, $R$ adalah jar-jari lingkaran yang lebih besar, dan $r$ adalah jari jari lingkaran yang lebih kecil."
   ]
  },
  {
   "cell_type": "code",
   "execution_count": 8,
   "id": "b12f35b2",
   "metadata": {},
   "outputs": [
    {
     "data": {
      "text/html": [
       "\n",
       "        <iframe\n",
       "            width=\"610\"\n",
       "            height=\"250\"\n",
       "            src=\"https://www.desmos.com/calculator/kuylrq7udo\"\n",
       "            frameborder=\"0\"\n",
       "            allowfullscreen\n",
       "        ></iframe>\n",
       "        "
      ],
      "text/plain": [
       "<IPython.lib.display.IFrame at 0x2ad7053e2e0>"
      ]
     },
     "metadata": {},
     "output_type": "display_data"
    }
   ],
   "source": [
    "from IPython.display import IFrame\n",
    "display(IFrame('https://www.desmos.com/calculator/kuylrq7udo', 610, 250))"
   ]
  },
  {
   "cell_type": "markdown",
   "id": "09af1d81",
   "metadata": {},
   "source": [
    "### Garis singgung persekutuan dalam dua lingkaran"
   ]
  },
  {
   "cell_type": "markdown",
   "id": "19468c30",
   "metadata": {},
   "source": [
    "Garis singgung persekutuan dalam dua lingkaran adalah suatu garis yang menyinggung kedua lingkaran yang melewati antara kedua lingkaran.\n",
    "\n",
    "Jarak kedua titik singgung dari persekutuan dalam dua lingkaran dapat ditentukan dengan:\n",
    ">$AB=\\sqrt{PQ^2-(R+r)^2}$\n",
    "\n",
    "dimana $PQ$ adalah jarak antar pusat lingkaran, $AB$ adalah jarak titik singgung, $R$ adalah jar-jari lingkaran yang lebih besar, dan $r$ adalah jari jari lingkaran yang lebih kecil."
   ]
  },
  {
   "cell_type": "code",
   "execution_count": 9,
   "id": "114e17c1",
   "metadata": {},
   "outputs": [
    {
     "data": {
      "text/html": [
       "\n",
       "        <iframe\n",
       "            width=\"610\"\n",
       "            height=\"250\"\n",
       "            src=\"https://www.desmos.com/calculator/egrasatabe\"\n",
       "            frameborder=\"0\"\n",
       "            allowfullscreen\n",
       "        ></iframe>\n",
       "        "
      ],
      "text/plain": [
       "<IPython.lib.display.IFrame at 0x2ad70602760>"
      ]
     },
     "metadata": {},
     "output_type": "display_data"
    }
   ],
   "source": [
    "from IPython.display import IFrame\n",
    "display(IFrame('https://www.desmos.com/calculator/egrasatabe', 610, 250))"
   ]
  },
  {
   "cell_type": "markdown",
   "id": "8552b7eb",
   "metadata": {},
   "source": [
    "## Lingkaran dan Tali Busur"
   ]
  },
  {
   "cell_type": "markdown",
   "id": "29667b68",
   "metadata": {},
   "source": [
    "Pada materi sebelumnya, tali busur adalah suatu segmen garis yang dibentuk dengan menghubungkan dua titik pada lingkaran. Terdapat beberapa sifat yang dapat dibentuk dari hubungan beberapa tali busur pada lingkaran."
   ]
  },
  {
   "cell_type": "markdown",
   "id": "87795b84",
   "metadata": {},
   "source": [
    "### Dua Tali busur berpotongan di dalam lingkaran\n",
    "\n",
    "Misal terdapat dua tali busur (AC dan BD) yang berpotongan di dalam lingkaran yang titik potongnya terletak pada P maka berlaku:\n",
    "> Segitiga APB sebangun dengan Segitiga CPD\\\n",
    "$AP.PC=BP.PD\\\\\n",
    "\\angle BPC=\\angle BAC+\\angle ABD$\n",
    "\n",
    "### Dua Tali busur berpotongan di luar lingkaran\n",
    "\n",
    "Misal terdapat dua tali busur (AB dan CD) yang berpotongan di luar lingkaran yang titik potongnya terletak pada R maka berlaku:\n",
    "> Segitiga APC sebangun dengan Segitiga BPD\\\n",
    "$AR.BR=DR.CR\\\\\n",
    "\\angle ARD=\\angle ABD-\\angle BDC$"
   ]
  },
  {
   "cell_type": "code",
   "execution_count": 10,
   "id": "c8aa0332",
   "metadata": {},
   "outputs": [
    {
     "data": {
      "text/html": [
       "\n",
       "        <iframe\n",
       "            width=\"610\"\n",
       "            height=\"250\"\n",
       "            src=\"https://www.desmos.com/calculator/sgecc5henk\"\n",
       "            frameborder=\"0\"\n",
       "            allowfullscreen\n",
       "        ></iframe>\n",
       "        "
      ],
      "text/plain": [
       "<IPython.lib.display.IFrame at 0x2ad705f30a0>"
      ]
     },
     "metadata": {},
     "output_type": "display_data"
    }
   ],
   "source": [
    "from IPython.display import IFrame\n",
    "display(IFrame('https://www.desmos.com/calculator/sgecc5henk', 610, 250))"
   ]
  },
  {
   "cell_type": "markdown",
   "id": "20e33742",
   "metadata": {},
   "source": [
    "### Segi Empat Tali Busur\n",
    "\n",
    "Segi empat tali busur adalah suatu bangun datar yang sisi-sisinya dibentuk dari tali busur lingkaran yang salang berhubungan. Misalkan terdapat empat titik pada lingkaran (berurutan A, B, C, dan D) yang setiap titik berurutan dibentuk suatu tali busur, maka jumlah sudut-sudut yang berhadapan besarnya 180°. \n",
    "> $\\angle ABC+\\angle CDA=180°\\\\\n",
    "\\angle BCD+\\angle DAB=180°$\n",
    "\n",
    "**Teorema Ptolemeus**\\\n",
    "Teorema ini merupakan aplikasi dari segi empat tali busur yang melibatkan diagonalnya. Teorema ini berbunyi bahwa \"*jumlah hasil kali sisi yang berhadapan sama dengan hasil kali diagonalnya*\".\n",
    "> $AC.BD=AB.CD+AD.BC$"
   ]
  },
  {
   "cell_type": "code",
   "execution_count": 11,
   "id": "f1594f62",
   "metadata": {},
   "outputs": [
    {
     "data": {
      "text/html": [
       "\n",
       "        <iframe\n",
       "            width=\"610\"\n",
       "            height=\"250\"\n",
       "            src=\"https://www.desmos.com/calculator/qd8nqibhng\"\n",
       "            frameborder=\"0\"\n",
       "            allowfullscreen\n",
       "        ></iframe>\n",
       "        "
      ],
      "text/plain": [
       "<IPython.lib.display.IFrame at 0x2ad70602760>"
      ]
     },
     "metadata": {},
     "output_type": "display_data"
    }
   ],
   "source": [
    "from IPython.display import IFrame\n",
    "display(IFrame('https://www.desmos.com/calculator/qd8nqibhng', 610, 250))"
   ]
  },
  {
   "cell_type": "markdown",
   "id": "2acdef9c",
   "metadata": {},
   "source": [
    "**Luas segi empat tali busur**\\\n",
    "Misalkan terdapat segi empat tali busur ABCD dengan panjang sisi-sisinya AB=a, BC=b, CD=c, dan DA=d, maka luas dari segiempat tali busur tersebut dapat dicari dengan rumus berikut:\n",
    "> $L=\\sqrt{(s-a)(s-b)(s-c)(s-d)}$\\\n",
    "dimana $s=\\frac{k}{2}=\\frac{a+b+c+d}{2}$"
   ]
  },
  {
   "cell_type": "code",
   "execution_count": null,
   "id": "a3130382",
   "metadata": {},
   "outputs": [],
   "source": []
  }
 ],
 "metadata": {
  "kernelspec": {
   "display_name": "Python 3",
   "language": "python",
   "name": "python3"
  },
  "language_info": {
   "codemirror_mode": {
    "name": "ipython",
    "version": 3
   },
   "file_extension": ".py",
   "mimetype": "text/x-python",
   "name": "python",
   "nbconvert_exporter": "python",
   "pygments_lexer": "ipython3",
   "version": "3.9.1"
  }
 },
 "nbformat": 4,
 "nbformat_minor": 5
}
