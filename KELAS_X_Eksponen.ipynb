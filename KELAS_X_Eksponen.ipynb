{
 "cells": [
  {
   "cell_type": "markdown",
   "id": "9290aa1b",
   "metadata": {},
   "source": [
    "# Review Bilangan Cacah dan Aljabar"
   ]
  },
  {
   "cell_type": "markdown",
   "id": "3a5198f7",
   "metadata": {},
   "source": [
    "Perkalian dasar\n",
    "- $7*9$\n",
    "- $3*8+9*5$\n",
    "- $23*38$\n",
    "- $134*22-22*120$\n",
    "- $0.2*0.31$\n",
    "\n",
    "Operasi Bilangan\n",
    "- $4*(6-2)+2*3$\n",
    "- $2+6:(7-4)$\n",
    "- $(-3)*(-2+4)/6-5$\n",
    "- $(-2)-(-3)*(-4+1)$\n",
    "- $18/2*3-3*(-4)$\n",
    "\n",
    "Aljabar (1)\n",
    "- $2x-1=3$\n",
    "- $5-x=7$\n",
    "- $4(3x-1)=12$\n",
    "- $5(2x+4)=4(3x-6)$\n",
    "- $12x+8=7x-2$\n",
    "\n",
    "Aljabar (2)\n",
    "- $\\frac{1}{2}(7x-3)=\\frac{2}{3}(2x+4)$\n",
    "- $\\frac{5x-11}{4x+9}=2$\n",
    "- $\\frac{1}{4x-3}=\\frac{1}{2x-1}$\n",
    "- $x+y=2, x-y=4$\n",
    "- $3x-2y=5, 2x+y=1$"
   ]
  },
  {
   "cell_type": "code",
   "execution_count": 1,
   "id": "71e0ab28",
   "metadata": {},
   "outputs": [],
   "source": [
    "import sympy as sp\n",
    "import numpy as np\n",
    "\n",
    "sp.init_printing()\n",
    "x, y, z = sp.symbols('x y z', real=True)"
   ]
  },
  {
   "cell_type": "code",
   "execution_count": 2,
   "id": "8116f5e3",
   "metadata": {},
   "outputs": [
    {
     "name": "stdout",
     "output_type": "stream",
     "text": [
      "1. Soal: \n",
      "-(3⋅x - 1)     \n",
      "─────────── = 0\n",
      "     x         \n",
      "Solusi :  1/3 \n",
      "\n",
      "2. Soal: \n",
      " -4⋅x       \n",
      "──────── = 3\n",
      "-5⋅x - 7    \n",
      "Solusi :  -21/11 \n",
      "\n",
      "3. Soal: \n",
      "-4⋅x - 8 = x - 8\n",
      "Solusi :  0 \n",
      "\n",
      "4. Soal: \n",
      "9 - 9⋅x = 8⋅x + 4\n",
      "Solusi :  5/17 \n",
      "\n",
      "5. Soal: \n",
      "  -5         \n",
      "──────── = -6\n",
      "-8⋅x - 8     \n",
      "Solusi :  -53/48 \n",
      "\n",
      "6. Soal: \n",
      "7⋅x + 8 = 8⋅x - 7\n",
      "Solusi :  15 \n",
      "\n",
      "7. Soal: \n",
      "7⋅x - 9    \n",
      "─────── = 5\n",
      "2⋅x + 4    \n",
      "Solusi :  -29/3 \n",
      "\n",
      "8. Soal: \n",
      "6⋅x = 3 - 3⋅x\n",
      "Solusi :  1/3 \n",
      "\n"
     ]
    }
   ],
   "source": [
    "n = 8\n",
    "i = 0\n",
    "k = np.arange(10)\n",
    "while i<n:    \n",
    "    teq = []\n",
    "    for j in range(2):\n",
    "        a, b, c = np.random.choice(list(k), 3)\n",
    "        sg1, sg2, sg3 = np.random.choice([1, -1], 3)\n",
    "        teq.append(sg1*a*x + sg2*b)\n",
    "    \n",
    "    if np.random.random()<0.5:\n",
    "        eq1 = sp.Eq(teq[0]/ teq[1], sg3*c)\n",
    "    else:\n",
    "        eq1 = sp.Eq(teq[0], teq[1])\n",
    "        \n",
    "    sol = sp.solve(eq1,x)\n",
    "    if len(sol)!=0:\n",
    "        print(f'{i+1}. Soal: ')\n",
    "        sp.pprint(eq1)\n",
    "        print('Solusi : ', sol[0], '\\n')\n",
    "        i+=1"
   ]
  },
  {
   "cell_type": "code",
   "execution_count": 3,
   "id": "ccdd02a4",
   "metadata": {},
   "outputs": [
    {
     "name": "stdout",
     "output_type": "stream",
     "text": [
      "\n",
      "1. Soal: \n",
      "    3⋅x - 2      -2⋅x - 4\n",
      "16⋅4        = 4⋅4        \n",
      "\n",
      "2. Soal: \n",
      "  x - 1    3⋅x - 1\n",
      "27      = 9       \n",
      "\n",
      "3. Soal: \n",
      " 2⋅x + 5    3⋅x + 2\n",
      "2        = 2       \n",
      "\n",
      "4. Soal: \n",
      "   4 - 4⋅x       4⋅x\n",
      "3⋅3        = 27⋅3   \n",
      "\n",
      "5. Soal: \n",
      " x + 4    -4⋅x - 4\n",
      "4      = 4        \n"
     ]
    }
   ],
   "source": [
    "n = 5\n",
    "i = 0\n",
    "k = np.arange(6)\n",
    "while i<n:    \n",
    "    teq = []\n",
    "    for j in range(2):\n",
    "        a, b = np.random.choice(list(k), 2)\n",
    "        sg1, sg2 = np.random.choice([1, -1], 2)\n",
    "        teq.append(sg1*a*x + sg2*b)\n",
    "    \n",
    "    c = np.random.choice([2, 3, 4, 5], 1)[0]\n",
    "    if np.random.random()<0.3:\n",
    "        c1, c2 = np.random.choice([0, 1, 2], 2)\n",
    "        eq1 = sp.Eq((c**c2*c)**teq[0], (c**c1*c)**teq[1])\n",
    "    elif np.random.random()<0.7:\n",
    "        c1, c2 = np.random.choice([1, 2, 3], 2)\n",
    "        eq1 = sp.Eq(c**c2*(c)**teq[0], c**c1*(c)**teq[1])\n",
    "    else:\n",
    "        eq1 = sp.Eq(c**teq[0], c**teq[1])\n",
    "        \n",
    "\n",
    "    if (eq1!=False) and (eq1!=True):\n",
    "        print(f'\\n{i+1}. Soal: ')\n",
    "        sp.pprint(eq1)\n",
    "#         print('Solusi : ', sp.solve(eq1.lhs - eq1.rhs, x)[0], '\\n')\n",
    "        i+=1\n",
    "    "
   ]
  },
  {
   "cell_type": "markdown",
   "id": "51219ee1",
   "metadata": {},
   "source": [
    "# Persamaan Eksponensial"
   ]
  },
  {
   "cell_type": "markdown",
   "id": "8bdd8c0b",
   "metadata": {},
   "source": [
    "Persamaan eksponen adalah persamaan yang mengandung bentuk perpangkatan dimana **pangkatnya atau basis dan pangkatnya mengandung suatu variabel** tertentu.\n",
    "\n",
    "<center>\n",
    "    $Persamaan . Linear >< Eksponen$\n",
    "</center>\n",
    "\n",
    "Ingat nih:\n",
    "<center>$a^b=c$</center>\n",
    "\n",
    "Keterangan \\\n",
    "$a$ : Basis \\\n",
    "$b$ : Pangkat \\\n",
    "$c$ : Hasil"
   ]
  },
  {
   "cell_type": "markdown",
   "id": "1ad969e0",
   "metadata": {},
   "source": [
    "## Persamaan Eksponen Sederhana"
   ]
  },
  {
   "cell_type": "markdown",
   "id": "8ba61e9b",
   "metadata": {},
   "source": [
    "### Persamaan eksponen dengan **basis sama**.\n",
    "\n",
    "Syarat Umum : $a>0$ dan $a\\ne1$\n",
    "\n",
    "\n",
    "No|Bentuk eksponen | Penyelesaian|\n",
    ":---:|:---:|:---:|\n",
    "1|$a^{f(x)} = a^{b}$ | $f(x) = b$|\n",
    "2|$a^{f(x)} = a^{g(x)}$ | $f(x) = g(x)$|\n",
    "3|$f(x)^{g(x)}$ = $f(x)^{h(x)}$ | $g(x) = h(x)$ <br> $f(x)=1$ <br> $f(x)=0$ <br> $f(x)=-1$|"
   ]
  },
  {
   "cell_type": "markdown",
   "id": "999e2b38",
   "metadata": {},
   "source": [
    "Contoh:\n",
    "- **Bentuk 1** \\\n",
    "    $3^{2x+1}=9$ \\\n",
    "    $3^{2x+1}=3^2$ \n",
    "    > $f(x)=b$ \\\n",
    "    $f(x)=2x+1, b=2$\n",
    "    \n",
    "    $2x+1=2$ \\\n",
    "    $2x=2-1$ \\\n",
    "    $2x=1$ \\\n",
    "    $\\therefore x=\\frac{1}{2}$\n",
    "    \n",
    "    \n",
    "- **Bentuk 2** \\\n",
    "    $3^{2x+1}=9^{2x-1}$ \\\n",
    "    $3^{2x+1}=3^{2(2x-1)}$ \\\n",
    "    $3^{2x+1}=3^{4x-2}$ \n",
    "    > $f(x)=g(x)$ \\\n",
    "    $f(x)=2x+1, g(x)=4x-2$\n",
    "    \n",
    "    $2x+1=4x-2$ \\\n",
    "    $1+2=4x-2x$ \\\n",
    "    $3=2x$ \\\n",
    "    $2x=3$ \\\n",
    "    $\\therefore x=\\frac{3}{2}$\n",
    "\n",
    "\n",
    "- **Bentuk 3** \\\n",
    "    $(2x-4)^{2x+1}=(2x-4)^{x-1}$\n",
    "    > Penyelesaian 1: \\\n",
    "    $g(x)=h(x)$ \\\n",
    "    $g(x)=2x+1, h(x)=x-1$ \n",
    "    \n",
    "    $2x+1=x-1$ \\\n",
    "    $2x-x=-1-1$ \\\n",
    "    $\\implies x=-2$ (**solusi 1**)\n",
    "    \n",
    "    > Penyelesaian 2: \\\n",
    "    $f(x)=1$ \\\n",
    "    $f(x)=2x-4$\n",
    "        \n",
    "    $2x-4=1$ \\\n",
    "    $2x=1+4$ \\\n",
    "    $2x=5$ \\\n",
    "    $\\implies x=\\frac{5}{2}$ (**solusi 2**)\n",
    "    \n",
    "    > Penyelesaian 3: \\\n",
    "    $f(x)=0$, syaratnya $g(x)\\ne0$ dan $h(x)\\ne0$ \\\n",
    "    $f(x)=2x-4, g(x)=2x+1, h(x)=x-1$\n",
    "    \n",
    "    $2x-4=0$ \\\n",
    "    $2x=4$ \\\n",
    "    $x=2$ (cek dulu yak) \\\n",
    "    $g(2)=2.2+1=5\\ne0$ \\\n",
    "    $h(2)=2-1=1\\ne0$ \\\n",
    "    $\\implies x=2$ (**solusi 3**)\n",
    "    \n",
    "    > Penyelesaian 4: \\\n",
    "    $f(x)=-1$, syaratnya $g(x)$ dan $h(x)$ **keduanya genap atau keduanya ganjil** (kalau pecahan skip aja) \\\n",
    "    $f(x)=2x-4, g(x)=2x+1, h(x)=x-1$\n",
    "    \n",
    "    $2x-4=-1$ \\\n",
    "    $2x=4-1$ \\\n",
    "    $2x=3$ \\\n",
    "    $x=\\frac{3}{2}$ (cek dulu yak) \\\n",
    "    $g(\\frac{3}{2})=2.\\frac{3}{2}+1=3+1=4$ (genap)\\\n",
    "    $h(\\frac{3}{2})=\\frac{3}{2}-1=\\frac{3-2}{2}=\\frac{1}{2}$ (tidak bulat, skip) \\\n",
    "    $\\implies x=\\frac{3}{2}$ (**bukan solusi**)\n",
    "        \n",
    "    Jadi *himpunan penyelesaian* dari persamaan tersebut: \\\n",
    "    $\\therefore HP=\\{-2, \\frac{5}{2}, 2\\}$\n",
    "    "
   ]
  },
  {
   "cell_type": "markdown",
   "id": "1137f16e",
   "metadata": {},
   "source": [
    "Latihan Soal:\n",
    "\n",
    "    Bentuk 1\n",
    "1. $2^{3x-1}=2^5$\n",
    "1. $4^{x+1}=4^3$\n",
    "1. $3^{2x+3}=27$\n",
    "1. $4^{x-3}= \\sqrt{8}$\n",
    "1. $3^{2x+5}=\\frac{\\sqrt{36}}{2}$\n",
    "\n",
    "    Bentuk 2\n",
    "1. $2^{3x-1}=2^{5x-2}$\n",
    "1. $4^{x+1}=4^{3x-3}$\n",
    "1. $3^{2x+3}=27^{x+1}$\n",
    "1. $4^{x-3}= \\sqrt{8^{x-1}}$\n",
    "1. $3^{2x+5}=\\frac{\\sqrt{36^x}}{2^x}$\n",
    "\n",
    "    Bentuk 3\n",
    "1. $(x+1)^{3x-1}=(x+1)^{5x-2}$\n",
    "1. $(x+5)^{3x+1}=(x+5)^{x-2}$\n",
    "1. $(2x-6)^{x+1}=(2x-6)^{x-2}$\n",
    "1. $(2x-1)^{2x+3}=((2x-1)^2)^{x-2}$\n",
    "1. $(3x-2)^{2x+1}=((3x-2)^3)^{x+1}$"
   ]
  },
  {
   "cell_type": "markdown",
   "id": "c2c83af0",
   "metadata": {},
   "source": [
    "### Persamaan eksponen dengan **basis beda**.\n",
    "\n",
    "Syarat Umum : $a>0$ dan $a\\ne1$, $b>0$ dan $b\\ne1$\n",
    "\n",
    "No|Bentuk eksponen | Penyelesaian|\n",
    ":---:|:---:|:---:|\n",
    "4|$a^{f(x)} = 1$|$f(x)=0$|\n",
    "5|$f(x)^{g(x)} = 1$|$f(x)=1$ <br>$g(x)=0$ <br>$f(x)=-1$, $g(x)$ genap|\n",
    "6|$a^{f(x)} = b^{f(x)}$|$f(x)=0$|\n",
    "7|$f(x)^{h(x)}$ = $g(x)^{h(x)}$|$f(x)=g(x)$ <br>$h(x)=0$ <br>$f(x)$=$-g(x)$, $g(x)$ genap|"
   ]
  },
  {
   "cell_type": "markdown",
   "id": "c5679de0",
   "metadata": {},
   "source": [
    "Contoh:\n",
    "- **Bentuk 4**\\\n",
    "    $3^{2x-4}=1$\n",
    "    > $f(x)=0$ \\\n",
    "    $f(x)=2x-4$\n",
    "    \n",
    "    $2x-4=0$ \\\n",
    "    $2x=4$ \\\n",
    "    $\\therefore x=2$\n",
    "\n",
    "\n",
    "- **Bentuk 5**\\\n",
    "    $(3x-2)^{2x-4}=1$\n",
    "    > Penyelesaian 1: \\\n",
    "    $f(x)=1$ \\\n",
    "    $f(x)=3x-2$\n",
    "    \n",
    "    $3x-2=1$ \\\n",
    "    $3x=1+2$ \\\n",
    "    $3x=3$ \\\n",
    "    $\\implies x=1$ (**solusi 1**)\n",
    "    \n",
    "    > Penyelesaian 2: \\\n",
    "    $g(x)=0$, syaratnya $f(x)\\ne0$ \\\n",
    "    $f(x)=3x-2, g(x)=2x-4$\n",
    "    \n",
    "    $2x-4=0$ \\\n",
    "    $2x=4$ \\\n",
    "    $x=2$ (cek dulu yak) \\\n",
    "    $f(x)=3.2-2=6-2=4\\ne0$ \\\n",
    "    $\\implies x=2$ (**solusi 2**)\n",
    "    \n",
    "    > Penyelesaian 3: \\\n",
    "    $f(x)=-1$, syaratnya $g(x)$ **genap** (kalau pecahan skip aja) \\\n",
    "    $f(x)=3x-2, g(x)=2x-4$\n",
    "    \n",
    "    $3x-2=-1$ \\\n",
    "    $3x=-1+2$ \\\n",
    "    $3x=1$ \\\n",
    "    $x=\\frac{1}{3}$ (cek dulu yak)\\\n",
    "    $g(x)=2.\\frac{1}{3}-4=\\frac{2-12}{3}=-\\frac{10}{3}$ (tidak bulat, skip) \\\n",
    "    $\\implies x=\\frac{1}{3}$ (**bukan solusi**)\n",
    "\n",
    "    Jadi *himpunan penyelesaian* dari persamaan tersebut: \\\n",
    "    $\\therefore HP=\\{1, 2\\}$\n",
    "\n",
    "\n",
    "- **Bentuk 6**\\\n",
    "    $3^{2x-4}=2^{2x-4}$\n",
    "    > $f(x)=0$ \\\n",
    "    $f(x)=2x-4$\n",
    "    \n",
    "    $2x-4=0$ \\\n",
    "    $2x=4$ \\\n",
    "    $\\therefore x=2$\n",
    "\n",
    "\n",
    "- **Bentuk 7**\\\n",
    "    **RIBET AHH SEKIPP...**\n",
    "\n"
   ]
  },
  {
   "cell_type": "markdown",
   "id": "d9439eb4",
   "metadata": {},
   "source": [
    "Latihan soal:\n"
   ]
  },
  {
   "cell_type": "markdown",
   "id": "8dc40afc",
   "metadata": {},
   "source": [
    "## Persamaan Eksponen Tak Sederhana"
   ]
  },
  {
   "cell_type": "markdown",
   "id": "38197107",
   "metadata": {},
   "source": [
    "Persamaan ini biasanya mengkombinasikan bentuk persamaan *non-linear* dengan persamaan eksponen. Salah satu contohnya adalah persamaan kuadrat dengan variabel yang diubah dalam bentuk eksponen.\n",
    "\n",
    "Bentuk umumnya :\n",
    "> Substitusi $x=k^x$ ke persamaan $ax^2+bx+c=0$ \\\n",
    "$ak^{2x}+bk^x+c=0$\n",
    "\n",
    "Solusinya dengan memisalkan $p=k^x$, kemudian menyelesaikan persamaan kuadrat. \\\n",
    "Ingat.. Persamaan kuadrat bisa diselesaikan dengan salah satu metode berikut:\n",
    "- Pemfaktoran\n",
    "- Melengkapi kuadrat sempurna\n",
    "- Rumus ABC"
   ]
  },
  {
   "cell_type": "markdown",
   "id": "dd307f79",
   "metadata": {},
   "source": [
    "Contoh:\n",
    "1. $2^{2x}-6.2^x+8=0$ \\\n",
    "   Misalkan $p=2^x$, sehingga \\\n",
    "   $p^2-6p+8=0$ \\\n",
    "   $(p-2)(p-4)=0$ \\\n",
    "   $p=2 \\cup p=4$ \\\n",
    "   Kembalikan lagi nilai dari p \\\n",
    "   $2^x=2 \\cup 2^x=4$ \\\n",
    "   $x=1 \\cup x=2$"
   ]
  },
  {
   "cell_type": "markdown",
   "id": "431c03c3",
   "metadata": {},
   "source": [
    "## Fungsi Eksponen"
   ]
  },
  {
   "cell_type": "markdown",
   "id": "55398c20",
   "metadata": {},
   "source": [
    "Fungsi eksponen adalah fungsi yang mengandung bentuk eksponensial dan pangkatnya memiliki suatu variabel.\n",
    "\n",
    "Bentuk umum dari fungsi eksponen seperti berikut :\n",
    ">$f: x \\mapsto a^x, a\\ge 0, a\\ne 1$ \\\n",
    "$f(x)=a^x$ \\\n",
    "Terdapat bentuk lebih umum lainnya seperti : \\\n",
    "$f(x)=a.b^x+c$"
   ]
  },
  {
   "cell_type": "markdown",
   "id": "657fb7d2",
   "metadata": {},
   "source": [
    "Fungsi eksponen $f(x)=a^x$ memiliki beberapa sifat tertentu seperti :\n",
    "- $f(x)$ selalu bernilai positif\n",
    "- $f(0)=1$\n",
    "- Jika $a>1$ atau pangkatnya bernilai positif, maka fungsi tersebut naik terus\n",
    "- Jika $0<a<1$ atau pangkatnya bernilai negatif, maka fungsi tersebut turun terus"
   ]
  },
  {
   "cell_type": "markdown",
   "id": "60e92dc6",
   "metadata": {},
   "source": [
    "Contoh:\n",
    "1. Diberikan suatu fungsi $f(x)=2^{x+1}$. Tentukan $f(x)$ saat $x$ bernilai 2 dan saat x bernilai -3! \n",
    "   - $f(2)=2^{2+1}=2^3=8$\n",
    "   - $f(-3)=2^{-3+1}=2^{-2}=\\frac{1}{2^2}=\\frac{1}{4}$\n",
    "\n",
    "1. Tentukan $x$ saat $f(x)=3^{x-1}$ bernilai 81! \\\n",
    "   $f(x)=81$ \\\n",
    "   $3^{x-1}=81$ \\\n",
    "   $3^{x-1}=3^4$ \\\n",
    "   $x-1=4$ (Menurut persamaan eksponen, samakan pangkatnya)\\\n",
    "   $x=4+1$ \\\n",
    "   $x=5$\n",
    "   \n",
    "Latihan soal :\n",
    "1. Diberikan suatu fungsi $f(x)=3.(\\frac{1}{2})^{x-2}$. Tentukan $f(x)$ saat $x$ bernilai \\\n",
    "   a. 4 \\\n",
    "   b. -1 \\\n",
    "   c. 2\n",
    "1. Diberikan suatu fungsi $f(x)=9.(\\frac{2}{3})^{2x+1}$. Tentukan $f(x)$ saat $x$ bernilai \\\n",
    "   a. 0 \\\n",
    "   b. -2 \\\n",
    "   c. $\\frac{1}{4}$\n",
    "1. Tentukan $x$ saat $f(x)=4^{x+3}$ bernilai 32!\n",
    "1. Tentukan $x$ saat $f(x)=(\\frac{1}{9})^{x+3}$ bernilai 27!\n",
    "1. Tentukan $x$ saat $f(x)=\\left(\\frac{\\sqrt{3}}{\\sqrt{75}} \\right)^{2x-1}$ bernilai $5\\sqrt 5$ !"
   ]
  },
  {
   "cell_type": "markdown",
   "id": "b85d112c",
   "metadata": {},
   "source": [
    "**Tugas berkelompok** \\\n",
    "Instruksi dan alat :\n",
    "- Lakukan tugas ini berkelompok dengan **teman sebangku** (atau maks 4 orang),\n",
    "- Persiapkan suatu **benda yang dapat memantul** saat dilempar (seperti bola, bola bekel, penghapus, dsb),\n",
    "- Persiapkan **alat ukur** panjang (seperti penggaris dsb.),\n",
    "- Jatuhkan benda tersebut dari ketinggian **minimal 50 cm**,\n",
    "- **Ukur tinggi** pada pantulan pertama, kedua, dan ketiga (jika memungkinkan boleh lebih),\n",
    "- **Catat** hasil pengamatan,\n",
    "- Ulangi percobaan pengukuran **minimal 3 kali**,\n",
    "- **Tabulasikan** hasil pengamatan,\n",
    "- Tuliskan hasil/tabel **diselembar kertas**, lengkapi identitas kelompok.\n",
    "\n",
    "\n",
    "![alt bola_memantul](https://images.squarespace-cdn.com/content/v1/55f84e6de4b052893a393717/1447784516756-91I8COG73GHR4WERFFG5/image-asset.gif)\n",
    "\n",
    "Contoh tabel\n",
    "\n",
    "| Percobaan | Tinggi awal (cm) | Setelah Pantulan 1 (cm) | Setelah Pantulan 2 (cm) | Setelah Pantulan 3 (cm) |\n",
    "|:--:|:--:|:--:|:--:|:--:|\n",
    "|1|50|21|13|7|\n",
    "|2|50|20|11|8|\n",
    "|3|50|22|15|4|\n",
    "|...|...|...|...|...|\n",
    "|**Rata-rata**|50|21|13|6.33|\n",
    "\n",
    "- Buat fungsi eksponen dari hasil percobaan dengan mengikuti langkah berikut (contoh): \\\n",
    "$r_1=\\frac{P_1}{T_a}=\\frac{21}{50}$ \\\n",
    "$r_2=\\frac{P_2}{P_1}=\\frac{13}{21}$ \\\n",
    "$r_3=\\frac{P_3}{P_2}=\\frac{6.33}{13}$ \\\n",
    "$r=\\frac{r_1+r_2+r_3}{3}$ \\\n",
    "$f(x)=r^x$"
   ]
  },
  {
   "cell_type": "markdown",
   "id": "a2426ddb",
   "metadata": {},
   "source": [
    "### Grafik Fungsi Eksponen"
   ]
  },
  {
   "cell_type": "markdown",
   "id": "e90a43ed",
   "metadata": {},
   "source": [
    "Suatu fungsi eksponen dapat digambarkan dalam bidang kartesius sehingga membentuk suatu kurva atau grafik dari fungsi eksponen.\n",
    "\n",
    "Cara menentukan grafik fungsi eksponen\n",
    "- mendata setiap titik domain \\\n",
    "  **Domain**: Daerah asal \\\n",
    "  **Kodomain**: Daerah kawan \\\n",
    "  **Range**: Daerah hasil\n",
    "- substitusi setiap nilai pada fungsi eksponen\n",
    "- tabulasikan hasilnya\n",
    "- gambarkan setiap titik pada koordinat kartesius (lebih mudah dengan milimeter blok)\n",
    "- hubungkan setiap titik\n",
    "\n",
    "NB: Semakin banyak titik maka gambar semakin mulus"
   ]
  },
  {
   "cell_type": "markdown",
   "id": "ebd425c1",
   "metadata": {},
   "source": [
    "Contoh:\n",
    "1. Gambarkan grafik fungsi $f(x)=3.2^{x-1}$ pada interval $-2\\le x\\le 2$ \\\n",
    "   Domain: $x=\\{ -2,-1,0,1,2 \\}$ \\\n",
    "   Hasil: $f(x)=\\{\\frac{3}{8},\\frac{3}{4},\\frac{3}{2},3,6\\}$\n",
    "   \n",
    "   |x|f(x)|\n",
    "   |--|--|\n",
    "   |-2|$\\frac{3}{8}$=0.375|\n",
    "   |-1|$\\frac{3}{4}$=0.75|\n",
    "   |0|$\\frac{3}{2}$=1.5|\n",
    "   |1|3|\n",
    "   |2|6|"
   ]
  },
  {
   "cell_type": "code",
   "execution_count": 1,
   "id": "9c4d6df9",
   "metadata": {},
   "outputs": [
    {
     "data": {
      "text/html": [
       "\n",
       "        <iframe\n",
       "            width=\"750\"\n",
       "            height=\"250\"\n",
       "            src=\"https://www.desmos.com/calculator/jz0xny8c5x\"\n",
       "            frameborder=\"0\"\n",
       "            allowfullscreen\n",
       "        ></iframe>\n",
       "        "
      ],
      "text/plain": [
       "<IPython.lib.display.IFrame at 0x1b98a641f40>"
      ]
     },
     "metadata": {},
     "output_type": "display_data"
    }
   ],
   "source": [
    "from IPython.display import IFrame\n",
    "display(IFrame('https://www.desmos.com/calculator/jz0xny8c5x', 750, 250))"
   ]
  },
  {
   "cell_type": "code",
   "execution_count": 6,
   "id": "f4ac4afc",
   "metadata": {},
   "outputs": [
    {
     "data": {
      "image/png": "[encoded data removed]",
      "text/plain": [
       "<Figure size 1080x360 with 1 Axes>"
      ]
     },
     "metadata": {
      "needs_background": "light"
     },
     "output_type": "display_data"
    }
   ],
   "source": [
    "import matplotlib.pyplot as plt\n",
    "import numpy as np\n",
    "\n",
    "partisi = 1000\n",
    "x = np.linspace(-2,2,partisi)\n",
    "y = 3*2**(x-1)\n",
    "x,y\n",
    "plt.figure(figsize=(15,5))\n",
    "plt.plot(x,y, '-')\n",
    "plt.show()"
   ]
  },
  {
   "cell_type": "markdown",
   "id": "6685091d",
   "metadata": {},
   "source": [
    "Grafik fungsi eksponen $f(x)=a^x$ memiliki beberapa sifat tertentu seperti :\n",
    "- Membawa semua sifat fungsi eksponen\n",
    "- Jika dua fungsi memiliki basis sama, maka bentuk grafiknya sama, hanya nilainya yang berbeda\n",
    "- Jika pangkatnya ditambah suatu skalar, maka grafik akan bergeser ke kiri\n",
    "- Jika pangkatnya dikurangi suatu skalar, maka grafik akan bergeser ke kanan"
   ]
  },
  {
   "cell_type": "code",
   "execution_count": 9,
   "id": "8dc4d11b",
   "metadata": {},
   "outputs": [
    {
     "data": {
      "text/html": [
       "\n",
       "        <iframe\n",
       "            width=\"750\"\n",
       "            height=\"250\"\n",
       "            src=\"https://www.desmos.com/calculator/f554nez0dc\"\n",
       "            frameborder=\"0\"\n",
       "            allowfullscreen\n",
       "        ></iframe>\n",
       "        "
      ],
      "text/plain": [
       "<IPython.lib.display.IFrame at 0x25794077d30>"
      ]
     },
     "metadata": {},
     "output_type": "display_data"
    }
   ],
   "source": [
    "from IPython.display import IFrame\n",
    "display(IFrame('https://www.desmos.com/calculator/f554nez0dc', 750, 250))"
   ]
  },
  {
   "cell_type": "markdown",
   "id": "52bfea1f",
   "metadata": {},
   "source": [
    "Perhatikan fungsi yang telah di buat di Tugas kelompok:\n",
    "\n",
    "$r_1=\\frac{P_1}{T_a}=\\frac{21}{50}=0.42$ \\\n",
    "$r_2=\\frac{P_2}{P_1}=\\frac{13}{21}=0.62$ \\\n",
    "$r_3=\\frac{P_3}{P_2}=\\frac{6.33}{13}=0.49$ \\\n",
    "$r=\\frac{r_1+r_2+r_3}{3}=\\frac{0.42+0.62+0.49}{3}=\\frac{1.73}{3}=0.58$ \\\n",
    "$f(x)=r^x=0.58^x$"
   ]
  },
  {
   "cell_type": "code",
   "execution_count": 10,
   "id": "22f29fd6",
   "metadata": {},
   "outputs": [
    {
     "data": {
      "text/html": [
       "\n",
       "        <iframe\n",
       "            width=\"750\"\n",
       "            height=\"250\"\n",
       "            src=\"https://www.desmos.com/calculator/mpwntiyohn\"\n",
       "            frameborder=\"0\"\n",
       "            allowfullscreen\n",
       "        ></iframe>\n",
       "        "
      ],
      "text/plain": [
       "<IPython.lib.display.IFrame at 0x25793e4c7c0>"
      ]
     },
     "metadata": {},
     "output_type": "display_data"
    }
   ],
   "source": [
    "from IPython.display import IFrame\n",
    "display(IFrame('https://www.desmos.com/calculator/mpwntiyohn', 750, 250))"
   ]
  },
  {
   "cell_type": "markdown",
   "id": "091f10b5",
   "metadata": {},
   "source": [
    "**Tugas Mandiri**\n",
    "\n",
    "Buatlah grafik dari fungsi $f(x)=0.5*2^x$ untuk $-1\\le x\\le 4$. Lengkapi dengan tabel koordinat dengan partisi domain bebas (loncat 1, 0.5, 0.1 dsb, semakin banyak titik maka grafik semakin mulus). Kerjakan pada kertas *millimeter block*, jika perlu bisa mengecek grafik pada website desmos."
   ]
  },
  {
   "cell_type": "markdown",
   "id": "34217c40",
   "metadata": {},
   "source": [
    "### Pertumbuhan dan Peluruhan"
   ]
  },
  {
   "cell_type": "markdown",
   "id": "877f45cd",
   "metadata": {},
   "source": [
    "Terlalu banyak aplikasi fungsi eksponen dalam dunia nyata, salah satunya adalah Pertumbuhan dan Peluruhan. **Pertumbuhan** adalah penambahan jumlah atau kandungan suatu obyek dengan mengikuti suatu aturan/pola tertentu. Sebaliknya, **Peluruhan** adalah berkurangnya jumlah obyek tersebut.\n",
    "\n",
    "Obyek bisa berupa:\n",
    "- Populasi penduduk\n",
    "- Harga atau nilai barang\n",
    "- Bunga bank\n",
    "- Mikroorganisme (bakteri, virus, sel)\n",
    "- Zat pada proses reaksi kimia\n",
    "- dsb."
   ]
  },
  {
   "cell_type": "markdown",
   "id": "fcf9ebfc",
   "metadata": {},
   "source": [
    "Notasi dari bentuk **pertumbuhan**:\n",
    "> $P_n=P_0(1+i)^n$ atau \\\n",
    "$P_n=P_0.r^n$\n",
    "\n",
    "dengan: \\\n",
    "$P_n =$ Jumlah obyek pada periode ke-n \\\n",
    "$P_0 =$ Jumlah obyek mula-mula \\\n",
    "$i=$ Presentase pertumbuhan \\\n",
    "$r=$ Rasio pertumbuhan ($r>1$) \\\n",
    "$n=$ Periode atau waktu"
   ]
  },
  {
   "cell_type": "markdown",
   "id": "669ccaac",
   "metadata": {},
   "source": [
    "Notasi dari bentuk **peluruhan**:\n",
    "> $P_n=P_0(1-i)^n$ atau \\\n",
    "$P_n=P_0.r^n$ (jangan kaget ya kalau sama)\n",
    "\n",
    "dengan: \\\n",
    "$P_n =$ Jumlah obyek pada periode ke-n \\\n",
    "$P_0 =$ Jumlah obyek mula-mula \\\n",
    "$i=$ Presentase peluruhan \\\n",
    "$r=$ Rasio peluruhan ($0<r<1$) \\\n",
    "$n=$ Periode atau waktu"
   ]
  },
  {
   "cell_type": "markdown",
   "id": "96246762",
   "metadata": {},
   "source": [
    "### Waktu Paruh\n",
    "\n",
    "Waktu paruh adalah waktu yang dibutuhkan suatu zat untuk **meluruh sampai menjadi setengah (separuh)** massa mula-mula.\n",
    "\n",
    "Notasi waktu paruh seperti berikut :\n",
    "> $N=N_0\\left(\\frac{1}{2}\\right)^n$ \\\n",
    "dengan periode $n=\\frac{t}{T^\\frac{1}{2}}$\n",
    "\n",
    "keterangan lain: \\\n",
    "$N=$ banyak zat yang tersisa \\\n",
    "$N_0=$ banyak zat mula-mula \\\n",
    "$t=$ lama peluruhan (waktu) \\\n",
    "$T^\\frac{1}{2}=$ waktu paruh (biasanya diketahui)\n",
    "\n",
    "![alt peluruhan](https://pages.uoregon.edu/imamura/121/lecture-8/Alpha-Decay-of-U-238b.gif)\n",
    "![alt paruh-waktu](https://qph.cf2.quoracdn.net/main-qimg-ae81446f69e5975d00a2de69ea69140f-lq)"
   ]
  },
  {
   "cell_type": "markdown",
   "id": "4e88d5f4",
   "metadata": {},
   "source": [
    "Contoh :\n",
    "1. Penduduk di kota A mencapai 2 juta jiwa pada tahun 2020. Bila jumlah penduduk meningkat dengan laju 2% per tahun, maka penduduk di kota tersebut pada tahun 2025 diperkirakan sebanyak ... jiwa\n",
    "1. Seorang ilmuwan memiliki bahan radioaktif Uranium dengan massa 200 gram. Jika bahan tersebut menyusut sebesar 10% tiap 10 hari, maka massanya setelah 100 hari sekitar ... gram\n",
    "1. Suatu radioaktif mineral meluruh secara eksponensial dengan laju peluruhan 8% setiap jam. Persentase kadar radioaktif mineral tersebut setelah 3 jam adalah ... %\n",
    "1. Suatu zat radioaktif dengan massa 200 gram memiliki waktu paruh 5 tahun. Berapa tahun waktu yang diperlukan zat radioaktif tersebut sehingga massanya menjadi 3,125 gram?\n",
    "\n",
    "Selengkapnya di : https://mathcyber1997.com/pertumbuhan-dan-peluruhan/"
   ]
  },
  {
   "cell_type": "markdown",
   "id": "0663425b",
   "metadata": {},
   "source": [
    "Latihan soalnya [di sini](\n",
    "https://www.scribd.com/embeds/360605657/content?start_page=1&view_mode=scroll&access_key=key-fFexxf7r1bzEfWu3HKwf)\n",
    "\n",
    "<img src=\"bit.ly_3togMAg.png\" alt=\"pertumbuhan\" width=\"250\" height=\"auto\">\n",
    "\n",
    "**bit.ly/3togMAg** \\\n",
    "Coba nomor: \n",
    "- Pertumbuhan : 18, 19, 20, 21, 23\n",
    "- Peluruhan   : 24, 25, 26, 27, 28"
   ]
  },
  {
   "cell_type": "code",
   "execution_count": null,
   "id": "1af9d683",
   "metadata": {},
   "outputs": [],
   "source": []
  },
  {
   "cell_type": "code",
   "execution_count": null,
   "id": "5107766b",
   "metadata": {},
   "outputs": [],
   "source": []
  }
 ],
 "metadata": {
  "kernelspec": {
   "display_name": "Python 3",
   "language": "python",
   "name": "python3"
  },
  "language_info": {
   "codemirror_mode": {
    "name": "ipython",
    "version": 3
   },
   "file_extension": ".py",
   "mimetype": "text/x-python",
   "name": "python",
   "nbconvert_exporter": "python",
   "pygments_lexer": "ipython3",
   "version": "3.9.1"
  }
 },
 "nbformat": 4,
 "nbformat_minor": 5
}
