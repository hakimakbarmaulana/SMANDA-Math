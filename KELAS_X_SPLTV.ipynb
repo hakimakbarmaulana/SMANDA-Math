{
 "cells": [
  {
   "cell_type": "markdown",
   "id": "bdddd550",
   "metadata": {},
   "source": [
    "# Sistem Persamaan Linear Tiga Variabel"
   ]
  },
  {
   "cell_type": "markdown",
   "id": "0fa2d293",
   "metadata": {},
   "source": [
    "## Review SPLDV\n",
    "\n",
    "SPLDV merupakan kumpulan dari persamaan linear (minimal 2 persamaan yang tak berkelipatan) yang terdiri dari dua variabel. \\\n",
    "Suatu permasalahan SPLDV dinotasikan sebagai berikut : \\\n",
    "$\\begin{cases}\n",
    "ax+by=p \\\\\n",
    "cx+dy=q\n",
    "\\end{cases}$\n",
    "\n",
    "Contoh : \\\n",
    "$\\begin{cases}\n",
    "-2x+y=5 \\\\\n",
    "x+y=2\n",
    "\\end{cases}$\n",
    "\n",
    "\n",
    "Solusi dari SPLDV adalah nilai yang memenuhi persamaan saat variabel diganti dengan nilai tersebut. Contohnya, $x=-1$ dan $y=3$ adalah solusi dari SPLDV **di atas** karena :\n",
    "$\\begin{eqnarray}\n",
    "-2x+y &=& -2(-1)+3 \\\\\n",
    "&=& 2+3 \\\\\n",
    "&=& 5\n",
    "\\end{eqnarray}$ \n",
    "\n",
    "$\\begin{eqnarray}\n",
    "x+y &=& (-1)+3 \\\\\n",
    "&=& 2\n",
    "\\end{eqnarray}$\n",
    "\n",
    "Suatu sistem persamaan memiliki beberapa kemungkinan solusi :\n",
    "- memiliki **tepat 1 solusi**, jika seluruh sistem persamaan tidak saling berkelipatan. Contoh : \\\n",
    "$-2x+y=5$ \\\n",
    "$x+y=2$\n",
    "\n",
    "- memiliki **banyak solusi** (tak hingga solusi), jika salah satu persamaan berkelipatan dengan lainnya. Contoh : \\\n",
    "$-2x+y=5$ \\\n",
    "$4x-2y=-10$ (persamaan (2) ini adalah -2 kali persamaan (1))\n",
    "\n",
    "\n",
    "- **tidak memiliki solusi**, jika salah satu persamaan berkelipatan dengan lainnya (hanya ruas kiri), tetapi suku di ruas kanannya tidak sesuai (kelipatannya tidak sebanding). Contoh : \\\n",
    "$-2x+y=5$ \\\n",
    "$-x+\\frac{1}{2}y=2$ (persamaan (2) ini adalah $\\frac{1}{2}$ kali persamaan (1), tetapi ruas kanannya tidak bersesuaian, harusnya bernilai $\\frac{5}{2}$)"
   ]
  },
  {
   "cell_type": "code",
   "execution_count": 1,
   "id": "e91ec68c",
   "metadata": {},
   "outputs": [
    {
     "data": {
      "text/html": [
       "\n",
       "        <iframe\n",
       "            width=\"750\"\n",
       "            height=\"250\"\n",
       "            src=\"https://www.desmos.com/calculator/an9gmdttun\"\n",
       "            frameborder=\"0\"\n",
       "            allowfullscreen\n",
       "        ></iframe>\n",
       "        "
      ],
      "text/plain": [
       "<IPython.lib.display.IFrame at 0x1bed3a447c0>"
      ]
     },
     "metadata": {},
     "output_type": "display_data"
    }
   ],
   "source": [
    "from IPython.display import IFrame\n",
    "display(IFrame('https://www.desmos.com/calculator/an9gmdttun', 750, 250))"
   ]
  },
  {
   "cell_type": "markdown",
   "id": "959f28f2",
   "metadata": {},
   "source": [
    "## Penyelesaian Persamaan Linear\n",
    "\n",
    "Sistem persamaan linear dapat dicari solusinya dengan beberapa metode tertentu, antara lain:\n",
    "- **Metode Eliminasi** \\\n",
    "Metode eliminasi adalah metode penyelesaian persamaan dengan menghilangkan / menghapus salah satu atau beberapa variabel yang ada sehingga mendapatkan persamaan yang lebih sederhana. \\\n",
    "\\\n",
    "Contoh : \\\n",
    "$-2x+y=5$ ... (1) \\\n",
    "$x+y=2$ ... (2) \\\n",
    "eliminasi variabel y dengan (1)-(2) \\\n",
    "$-3x=3 \\\\\n",
    "x=\\frac{3}{-3} \\\\\n",
    "x=-1$ \\\n",
    "\\\n",
    "$-2x+y=5$ \\\n",
    "$x+y=2$ dikali 2 jadi $2x+2y=4$ \\\n",
    "eliminasi variabel x dengan (1)+2.(2) \\\n",
    "$3y=9$ \\\n",
    "$y=\\frac{9}{3}$ \\\n",
    "$y=3$\n",
    "\n",
    "- **Metode Substitusi** \\\n",
    "Metode substitusi adalah metode penyelesaian persamaan dengan memasukkan salah satu variabel persamaan tertentu dengan variabel yang sama dari persamaan lainnya. Metode ini juga dapat mengurangi banyaknya variabel yang akan dicari solusinya. \\\n",
    "\\\n",
    "Contoh : \\\n",
    "$-2x+y=5$ ... (1) \\\n",
    "$x+y=2$ ... (2) \\\n",
    "modifikasi persamaan (1) menjadi $y=5+2x$ kemudian substitusi $y$ ke persamaan (2) \\\n",
    "$x+(5+2x)=2 \\\\\n",
    "3x+5=2 \\\\\n",
    "3x=2-5 \\\\\n",
    "3x=-3 \\\\\n",
    "x=\\frac{3}{-3} \\\\\n",
    "x=-1$ \\\n",
    "modifikasi persamaan (2) menjadi $x=2-y$ kemudian substitusi $x$ ke persamaan (1) \\\n",
    "$-2(2-y)+y=5 \\\\\n",
    "-4+2y+y=5 \\\\\n",
    "-4+3y=5 \\\\\n",
    "3y=5+4 \\\\\n",
    "3y=9 \\\\\n",
    "y=\\frac{9}{3} \\\\\n",
    "y=3$\n",
    "\n",
    "- **Metode Campuran** \\\n",
    "Metode ini mengkombinasikan antara metode eliminasi dengan metode substitusi. Seringkali metode eliminasi dilakukan terlebih dahulu untuk menyederhanakan atau mendapatkan solusi dari salah satu variabel, kemudian dilanjutkan substitusi solusi kembali ke persamaan untuk mendapatkan solusi dari variabel lainnya. \\\n",
    "\\\n",
    "Contoh : \\\n",
    "$-2x+y=5$ ... (1) \\\n",
    "$x+y=2$ ... (2) \\\n",
    "eliminasi variabel y dengan (1)-(2) \\\n",
    "$-3x=3 \\\\\n",
    "x=\\frac{3}{-3} \\\\\n",
    "x=-1$ \\\n",
    "substitusi nilai $x=-1$ ke persamaan (1) \\\n",
    "$-2(-1)+y=5 \\\\\n",
    "2+y=5 \\\\\n",
    "y=5-2 \\\\\n",
    "y=3$\n",
    "\n",
    "- **Metode Grafik** \\\n",
    "Metode ini menyelesaikan persamaan dengan membuat terlebih dahulu grafik setiap persamaan pada bidang kartesius kemudian ditinjau titik perpotongan antara grafik-grafik tersebut. \\\n",
    "\\\n",
    "Contoh :\\\n",
    "$-2x+y=5$ ... (1) \\\n",
    "$x+y=2$ ... (2) \\\n",
    "Gambarkan kedua grafik linearnnya dan perhatikan titik potongnya (grafik dapat dilihat pada program dibawah). Terdapat cara untuk menentukan titik potong tersebut yaitu : \\\n",
    "\\\n",
    "$-2x+y=5$ diubah menjadi  $y=5+2x$ \\\n",
    "$x+y=2$ diubah menjadi $y=2-x$ \\\n",
    "Selanjutnya, karena grafik berpotongan maka: \\\n",
    "$y=y \\\\\n",
    "5+2x=2-x \\\\\n",
    "2x+x=2-5x \\\\\n",
    "3x=-3 \\\\\n",
    "x=\\frac{3}{3} \\\\\n",
    "x=-1$ \\\n",
    "Substitusi ke persamaan (1) sehingga : \\\n",
    "$-2(-1)+y=5 \\\\\n",
    "2+y=5 \\\\\n",
    "y=5-2 \\\\\n",
    "y=3$ Jadi titik potong grafik tersebut terletak pada $(x,y)=(-1,3)$"
   ]
  },
  {
   "cell_type": "code",
   "execution_count": 2,
   "id": "49bc029f",
   "metadata": {},
   "outputs": [
    {
     "data": {
      "text/html": [
       "\n",
       "        <iframe\n",
       "            width=\"750\"\n",
       "            height=\"250\"\n",
       "            src=\"https://www.desmos.com/calculator/y435v5pcav\"\n",
       "            frameborder=\"0\"\n",
       "            allowfullscreen\n",
       "        ></iframe>\n",
       "        "
      ],
      "text/plain": [
       "<IPython.lib.display.IFrame at 0x265ed196df0>"
      ]
     },
     "metadata": {},
     "output_type": "display_data"
    }
   ],
   "source": [
    "from IPython.display import IFrame\n",
    "display(IFrame('https://www.desmos.com/calculator/y435v5pcav', 750, 250))"
   ]
  },
  {
   "cell_type": "markdown",
   "id": "09a19716",
   "metadata": {},
   "source": [
    "##  Persamaan Linear Tiga Variabel dan SPLTV\n",
    "\n",
    "Mirip dengan definisi SPLDV, SPLTV merupakan kumpulan dari persamaan linear (minimal 3 persamaan yang tak berkelipatan) yang terdiri dari tiga variabel. \\\n",
    "Secara umum suatu permasalahan SPLTV dapat dinotasikan sebagai berikut : \\\n",
    "$\\begin{cases}\n",
    "ax+by+cz=p \\\\\n",
    "dx+ey+fz=q \\\\\n",
    "gx+fy+iz=r\n",
    "\\end{cases}$\n",
    "\n",
    "Contoh : \\\n",
    "$\\begin{cases}\n",
    "-6x + 6y - z = -10 \\\\\n",
    "3x + 2y - 2z = -15 \\\\\n",
    "-2x - 2y + 2z = 14\n",
    "\\end{cases}$ \\\n",
    "\\\n",
    "Persamaan tersebut memiliki solusi $x  =  -1, y  =  -2, z  =  4$ karena : \\\n",
    "$\\begin{eqnarray}\n",
    "-6x + 6y - z &=& -6(-1) + 6(-2) - 4 \\\\\n",
    "&=& 6-12-4 \\\\\n",
    "&=& -10 \\\\\n",
    "3x + 2y - 2z &=& 3(-1) + 2(-2) - 2.4 \\\\\n",
    "&=&-3-4-8 \\\\\n",
    "&=&-15 \\\\\n",
    "-2x - 2y + 2z &=& -2(-1) - 2(-2) + 2.4 \\\\\n",
    "&=&2+4+8 \\\\\n",
    "&=&14\n",
    "\\end{eqnarray}$\n",
    "\n",
    "\n"
   ]
  },
  {
   "cell_type": "markdown",
   "id": "5c3b8dd0",
   "metadata": {},
   "source": [
    "Mirip dengan kemungkinan solusi SPLDV, SPLTV memiliki beberapa kemungkinan solusi :\n",
    "- memiliki tepat 1 solusi, jika seluruh sistem persamaan tidak saling berkelipatan. Contoh : \\\n",
    "$-6x + 6y - z = -10 \\\\\n",
    "3x + 2y - 2z = -15 \\\\\n",
    "-2x - 2y + 2z = 14$\n",
    "\n",
    "- memiliki banyak (tak hingga) solusi, jika salah satu persamaan berkelipatan dengan lainnya. Contoh : \\\n",
    "$-6x + 6y - z = -10 \\\\\n",
    "3x + 2y - 2z = -15 \\\\\n",
    "3x - 3y + \\frac{1}{2}z = 5$ (persamaan (3) ini adalah $-\\frac{1}{2}$ kali persamaan (1))\n",
    "\n",
    "\n",
    "- tidak memiliki solusi, jika salah satu persamaan berkelipatan dengan lainnya (hanya ruas kiri), tetapi suku di ruas kanannya tidak sesuai (kelipatannya tidak sebanding). Contoh : \\\n",
    "$-6x + 6y - z = -10 \\\\\n",
    "3x + 2y - 2z = -15 \\\\\n",
    "6x + 4y - 4z = 10$ (persamaan (3) ini adalah 2 kali persamaan (2), tetapi ruas kanannya tidak bersesuaian, harusnya bernilai -30)\n",
    "\n",
    "Berikut visualisasi solusi SPLTV\n",
    "![alt spltv](https://img.brainkart.com/imagebk40/mKaMMDb.jpg)"
   ]
  },
  {
   "cell_type": "code",
   "execution_count": 3,
   "id": "950d5b7b",
   "metadata": {},
   "outputs": [
    {
     "data": {
      "text/html": [
       "\n",
       "        <iframe\n",
       "            width=\"750\"\n",
       "            height=\"250\"\n",
       "            src=\"https://www.desmos.com/3d/cd089a5d7d\"\n",
       "            frameborder=\"0\"\n",
       "            allowfullscreen\n",
       "        ></iframe>\n",
       "        "
      ],
      "text/plain": [
       "<IPython.lib.display.IFrame at 0x265ed196b20>"
      ]
     },
     "metadata": {},
     "output_type": "display_data"
    }
   ],
   "source": [
    "from IPython.display import IFrame\n",
    "display(IFrame('https://www.desmos.com/3d/cd089a5d7d', 750, 250))"
   ]
  },
  {
   "cell_type": "markdown",
   "id": "59e35814",
   "metadata": {},
   "source": [
    "## Penyelesaian SPLTV\n",
    "\n",
    "Penyelesaian SPLTV dilakukan dengan mengubah SPLTV menjadi SPLDV. Oleh karena itu salah satu variabel dapat dieliminasi terlebih dahulu untuk mendapatkan persamaan yang hanya mengandung dua variabel. Setelah itu penyelesaian dapat dilanjutkan persis dengan penyelesaian SPLDV\n",
    "\n",
    "$\\begin{cases}\n",
    "-6x + 6y - z = -10 \\\\\n",
    "3x + 2y - 2z = -15 \\\\\n",
    "-2x - 2y + 2z = 14\n",
    "\\end{cases}$\n",
    "\n",
    "$-6x + 6y - z = -10$ ... (1) dikali 2, sehingga menjadi $-12x+12y-2z=-20$\\\n",
    "$3x + 2y - 2z = -15$ ... (2) dikali 1 \\\n",
    "$-2x - 2y + 2z = 14$ ... (3) dikali 1\n",
    "\n",
    "eliminasi variabel z dengan 2.(1)-(2) \\\n",
    "$-15x+10y=-5$ ... (4)\n",
    "\n",
    "eliminasi variabel z dengan (2)+(3) \\\n",
    "$x=-1$\n",
    "\n",
    "substitusi nilai $x=-1$ ke persamaan (4) \\\n",
    "$\\begin{eqnarray}-15(-1)+10y&=&-5 \\\\\n",
    "15+10y&=&-5 \\\\\n",
    "10y&=&-5-15 \\\\\n",
    "10y&=&-20 \\\\\n",
    "y&=&\\frac{-20}{10} \\\\\n",
    "y&=&-2\\end{eqnarray}$\n",
    "\n",
    "substitusi nilai $x=-1$ dan $y=-2$ persamaan (1) \\\n",
    "$\\begin{eqnarray}-6(-1) + 6(-2) - z &=& -10 \\\\\n",
    "6-12-z&=&-10 \\\\\n",
    "-6-z&=&-10 \\\\\n",
    "-z&=&-10+6 \\\\\n",
    "-z&=&-4 \\\\\n",
    "z&=&\\frac{-4}{-1} \\\\\n",
    "z&=&4\\end{eqnarray}$ \\\n",
    "Jadi solusi dari SPLTV tersebut adalah $(x,y,z)=(-1,-2,4)$"
   ]
  },
  {
   "cell_type": "markdown",
   "id": "25d26739",
   "metadata": {},
   "source": []
  },
  {
   "cell_type": "markdown",
   "id": "3da60556",
   "metadata": {},
   "source": [
    "## Penerapan SPLTV"
   ]
  },
  {
   "cell_type": "markdown",
   "id": "05da5eb1",
   "metadata": {},
   "source": [
    "[Link Aplikasi SPLTV](https://www.scribd.com/embeds/436791916/content?start_page=1&view_mode=scroll&access_key=key-fFexxf7r1bzEfWu3HKwf)\n",
    "![alt qrsoal](https://api.qrserver.com/v1/create-qr-code/?color=000000&bgcolor=FFFFFF&data=https%3A%2F%2Fwww.scribd.com%2Fembeds%2F436791916%2Fcontent%3Fstart_page%3D1%26view_mode%3Dscroll%26access_key%3Dkey-fFexxf7r1bzEfWu3HKwf&qzone=1&margin=0&size=200x200&ecc=L)"
   ]
  },
  {
   "cell_type": "code",
   "execution_count": 1,
   "id": "a731e375",
   "metadata": {},
   "outputs": [
    {
     "data": {
      "text/html": [
       "\n",
       "        <iframe\n",
       "            width=\"600\"\n",
       "            height=\"500\"\n",
       "            src=\"https://www.scribd.com/embeds/436791916/content?start_page=1&view_mode=scroll&access_key=key-fFexxf7r1bzEfWu3HKwf\"\n",
       "            frameborder=\"0\"\n",
       "            allowfullscreen\n",
       "        ></iframe>\n",
       "        "
      ],
      "text/plain": [
       "<IPython.lib.display.IFrame at 0x15c1c8c7550>"
      ]
     },
     "metadata": {},
     "output_type": "display_data"
    }
   ],
   "source": [
    "from IPython.display import IFrame\n",
    "display(IFrame('https://www.scribd.com/embeds/436791916/content?start_page=1&view_mode=scroll&access_key=key-fFexxf7r1bzEfWu3HKwf', 600, 500))"
   ]
  },
  {
   "cell_type": "markdown",
   "id": "5c2113c6",
   "metadata": {},
   "source": []
  },
  {
   "cell_type": "code",
   "execution_count": 14,
   "id": "13291518",
   "metadata": {
    "scrolled": true
   },
   "outputs": [],
   "source": [
    "%%capture latsol\n",
    "import numpy as np\n",
    "import sympy as sp\n",
    "\n",
    "np.random.seed(10)\n",
    "n = 36\n",
    "dim = 2 # Only 2 or 3 variable\n",
    "sp.init_printing()\n",
    "x, y, z = sp.symbols('x y z')\n",
    "v_m = sp.Matrix([[x],[y],[z]])\n",
    "k, bt1, bt2 = 0, 6, 5\n",
    "r1, r2 = list(np.arange(2*bt1+1)-bt1), list(np.arange(2*bt2+1)-bt2)\n",
    "r1.remove(0), r2.remove(0) # never have zero coefficient\n",
    "while k<n:\n",
    "    m = np.random.choice(r1, dim**2).reshape((dim,dim))\n",
    "    sol = np.random.choice(r2, dim).reshape((dim,1))\n",
    "    rh = m @ sol\n",
    "    if np.linalg.det(m)!=0 :\n",
    "        a, k = m*v_m[:dim,:], k+1\n",
    "        print(str(k) + '. SPL :')\n",
    "        for i in range(dim):\n",
    "            sp.pprint(sp.Eq(a[i], rh[i, 0]))\n",
    "        print()\n",
    "#         print('Solusi: ' + ', '.join([str(v_m[i])+'='+str(sol[i][0]) for i in range(dim)]) + '\\n')"
   ]
  },
  {
   "cell_type": "code",
   "execution_count": 15,
   "id": "003d2d3f",
   "metadata": {},
   "outputs": [],
   "source": [
    "with open('uh_xii_spl2v.txt', 'w') as f: f.write(latsol.stdout.replace('\\u22c5',''))"
   ]
  },
  {
   "cell_type": "code",
   "execution_count": null,
   "id": "96b8de76",
   "metadata": {},
   "outputs": [],
   "source": []
  },
  {
   "cell_type": "code",
   "execution_count": null,
   "id": "7010f9a1",
   "metadata": {},
   "outputs": [],
   "source": []
  },
  {
   "cell_type": "code",
   "execution_count": null,
   "id": "8c5213c2",
   "metadata": {},
   "outputs": [],
   "source": []
  },
  {
   "cell_type": "code",
   "execution_count": null,
   "id": "5cd38a3a",
   "metadata": {},
   "outputs": [],
   "source": []
  },
  {
   "cell_type": "code",
   "execution_count": null,
   "id": "49ce80bb",
   "metadata": {},
   "outputs": [],
   "source": []
  }
 ],
 "metadata": {
  "kernelspec": {
   "display_name": "Python 3",
   "language": "python",
   "name": "python3"
  },
  "language_info": {
   "codemirror_mode": {
    "name": "ipython",
    "version": 3
   },
   "file_extension": ".py",
   "mimetype": "text/x-python",
   "name": "python",
   "nbconvert_exporter": "python",
   "pygments_lexer": "ipython3",
   "version": "3.9.1"
  }
 },
 "nbformat": 4,
 "nbformat_minor": 5
}
