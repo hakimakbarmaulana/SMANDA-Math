{
 "cells": [
  {
   "cell_type": "markdown",
   "id": "3386e155",
   "metadata": {},
   "source": [
    "# Sistem Pertidaksamaan Linear Dua Variabel"
   ]
  },
  {
   "cell_type": "markdown",
   "id": "53a6e618",
   "metadata": {},
   "source": [
    "Suatu permasalahan tidak selalu menghasilkan solusi yang pasti, atau tepat satu solusi. Solusi yang tidak pasti dinyatakan dalam bentuk pertidaksamaan. Oleh karena itu, solusi pertidaksamaan **bukan suatu titik**, tapi **daerah selesaian**.\n",
    "\n",
    "Notasi umum pertidaksamaan:\n",
    ">$ax+by<c$ notasi \"kurang dari\"\\\n",
    "$ax+by>c$ notasi \"lebih dari\"\\\n",
    "$ax+by\\ne c$ notasi \"tidak sama dengan\"\\\n",
    "$ax+by\\le c$ notasi \"kurang dari atau sama dengan\"\\\n",
    "$ax+by\\ge c$ notasi \"lebih dari atau sama dengan\"\n",
    "\n",
    "Mirip dengan SPLDV, suatu sistem memiliki persamaan yang lebih dari satu. Uniknya, pada SPLDV cukup hanya ada 2 persamaan saja, sedangkan pada SPTLDV bisa lebih dari 2. Notasi dari sistem pertidaksamaan linear dua dimensi sebagai berikut:\n",
    "> $ax+by\\le p \\\\\n",
    "\\qquad\\vdots \\\\\n",
    "cx+dy\\le q$\n",
    "Syarat batas: \\\n",
    "$x\\ge 0 \\\\ y\\ge 0$\n",
    "\n",
    "nb: sistem pertidaksamaan tidak harus ada 2 saja, syarat batas tidak selalu 0"
   ]
  },
  {
   "cell_type": "markdown",
   "id": "ab48ad49",
   "metadata": {},
   "source": [
    "Contoh:\\\n",
    "$\\begin{cases}\n",
    "x+3y\\le 3\\\\\n",
    "x+y\\le 2\\\\\n",
    "x\\ge0, y\\ge0\\\\\n",
    "\\end{cases}$\n",
    "<a id='contoh'></a>"
   ]
  },
  {
   "cell_type": "code",
   "execution_count": 26,
   "id": "b24b0da5",
   "metadata": {
    "scrolled": true
   },
   "outputs": [
    {
     "data": {
      "text/html": [
       "\n",
       "        <iframe\n",
       "            width=\"610\"\n",
       "            height=\"250\"\n",
       "            src=\"https://www.desmos.com/calculator/ab77d4cygi\"\n",
       "            frameborder=\"0\"\n",
       "            allowfullscreen\n",
       "        ></iframe>\n",
       "        "
      ],
      "text/plain": [
       "<IPython.lib.display.IFrame at 0x2286a501ac0>"
      ]
     },
     "metadata": {},
     "output_type": "display_data"
    }
   ],
   "source": [
    "from IPython.display import IFrame\n",
    "display(IFrame('https://www.desmos.com/calculator/ab77d4cygi', 610, 250))"
   ]
  },
  {
   "cell_type": "markdown",
   "id": "b1fd68aa",
   "metadata": {},
   "source": [
    "## Penyelesaian SPTLDV"
   ]
  },
  {
   "cell_type": "markdown",
   "id": "4be31f0c",
   "metadata": {},
   "source": [
    "Langkah-langkah dalam menyelesaikan SPTLDV antara lain:\n",
    "- memodelkan masalah dalam bentuk SPL\n",
    "- menggambarkan grafik SPTL\n",
    "- uji titik untuk menentukan daerah yang memenuhi\n",
    "- menggabungkan seluruh daerah yang memenuhi (irisan daerah)\n",
    "\n",
    "Terdapat dua jenis daerah selesaian suatu SPTLDV yaitu:\n",
    "1. Daerah Kotor \\\n",
    "Pada jenis ini, bagian yang memenuhi adalah yang diarsir. Kelemahannya adalah daerah selesaian tidak tampak jelas jika pertidaksamaannya banyak.\n",
    "<img src=\"ds_k.png\" alt=\"fungsi\" width=\"250\" height=\"auto\">\n",
    "1. Daerah Bersih \\\n",
    "Pada jenis ini, bagian yang tidak memenuhi adalah yang diarsir. Kelemahannya adalah harus lebih teliti saat menentukan daerah selesaian, biasanya tertukar dengan daerah kotor karena terbiasa.\n",
    "<img src=\"ds_b.png\" alt=\"fungsi\" width=\"250\" height=\"auto\">\n"
   ]
  },
  {
   "cell_type": "markdown",
   "id": "a912fbed",
   "metadata": {},
   "source": [
    "**Contoh:**\\\n",
    "Tentukan daerah selesaian (daerah kotor) dari peridaksamaan berikut:\\\n",
    "$\\begin{cases}\n",
    "x+3y\\le 3\\\\\n",
    "x+y\\le 2\\\\\n",
    "x\\ge0, y\\ge0\\\\\n",
    "\\end{cases}$\n",
    "\n",
    "Solusi:\\\n",
    "Menggambar grafik $x+3y=3$\n",
    "- perpotongan degan sumbu $x$ maka $y=0$,\\\n",
    "$x+3.0=3\\\\\n",
    "x+0=3\\\\\n",
    "x=3$ maka titik potongnya di $(3,0)$\n",
    "- perpotongan degan sumbu $y$ maka $x=0$,\\\n",
    "$0+3y=3\\\\\n",
    "3y=3\\\\\n",
    "y=1$ maka titik potongnya di $(0,1)$\n",
    "- uji titik $(0,0)$,\\\n",
    "$0+3.0\\le3\\\\\n",
    "0+0\\le3\\\\\n",
    "0\\le3$ memenuhi, maka daerah yang mengandung titik $(0,0)$ yang diarsir"
   ]
  },
  {
   "cell_type": "code",
   "execution_count": 27,
   "id": "edac7564",
   "metadata": {},
   "outputs": [
    {
     "data": {
      "text/html": [
       "\n",
       "        <iframe\n",
       "            width=\"610\"\n",
       "            height=\"250\"\n",
       "            src=\"https://www.desmos.com/calculator/ivg00eaepq\"\n",
       "            frameborder=\"0\"\n",
       "            allowfullscreen\n",
       "        ></iframe>\n",
       "        "
      ],
      "text/plain": [
       "<IPython.lib.display.IFrame at 0x2286a5016d0>"
      ]
     },
     "metadata": {},
     "output_type": "display_data"
    }
   ],
   "source": [
    "from IPython.display import IFrame\n",
    "display(IFrame('https://www.desmos.com/calculator/ivg00eaepq', 610, 250))"
   ]
  },
  {
   "cell_type": "markdown",
   "id": "4a8aba60",
   "metadata": {},
   "source": [
    "Menggambar grafik $x+y=2$\n",
    "- perpotongan degan sumbu $x$ maka $y=0$,\\\n",
    "$x+0=2\\\\\n",
    "x=2$ maka titik potongnya di $(2,0)$\n",
    "- perpotongan degan sumbu $y$ maka $x=0$,\\\n",
    "$0+y=2\\\\\n",
    "y=2$ maka titik potongnya di $(0,2)$\n",
    "- uji titik $(0,0)$,\\\n",
    "$0+0\\le 2\\\\\n",
    "0\\le2$ memenuhi, maka daerah yang mengandung titik $(0,0)$ yang diarsir"
   ]
  },
  {
   "cell_type": "code",
   "execution_count": 28,
   "id": "bf7497f7",
   "metadata": {},
   "outputs": [
    {
     "data": {
      "text/html": [
       "\n",
       "        <iframe\n",
       "            width=\"610\"\n",
       "            height=\"250\"\n",
       "            src=\"https://www.desmos.com/calculator/kdjoxjvbfp\"\n",
       "            frameborder=\"0\"\n",
       "            allowfullscreen\n",
       "        ></iframe>\n",
       "        "
      ],
      "text/plain": [
       "<IPython.lib.display.IFrame at 0x2286a5017f0>"
      ]
     },
     "metadata": {},
     "output_type": "display_data"
    }
   ],
   "source": [
    "from IPython.display import IFrame\n",
    "display(IFrame('https://www.desmos.com/calculator/kdjoxjvbfp', 610, 250))"
   ]
  },
  {
   "cell_type": "markdown",
   "id": "5af09e2b",
   "metadata": {},
   "source": [
    "Menggambarkan syarat batas:\n",
    "- $x\\ge0$ maka yang diarsir di sebelah kanan sumbu y\n",
    "- $y\\ge0$ maka yang diarsir di sebelah atas sumbu x\n",
    "\n",
    "Keseluruhan grafik atau daerah pertidaksamaan dikumpulkan seperti pada [Grafik full diatas](#contoh). **Daerah Selesaian**nya adalah irisan keseluruhan daerah yang ditunjukkan pada daerah berwarna hitam."
   ]
  },
  {
   "cell_type": "markdown",
   "id": "bb144e65",
   "metadata": {},
   "source": [
    "**Latihan soal:**\\\n",
    "Tentukan daerah selesaian dari sistem pertidaksamaan berikut:\n",
    "1. $\\begin{cases}2x+3y\\le5\\\\ x+2y\\le3 \\\\ x\\ge0,y\\ge0\\end{cases}$\n",
    "1. $\\begin{cases}3x+y\\le6 \\\\x+4y\\le12 \\\\x\\ge0,y\\ge0\\end{cases}$\n",
    "1. $\\begin{cases}5x+2y\\le10, \\\\x+3y\\le6,\\\\x\\ge0,y\\ge0\\end{cases}$\n",
    "1. $\\begin{cases}x+3y\\le6 \\\\2x+y\\le6\\\\x\\ge0,y\\ge0\\end{cases}$\n",
    "1. $\\begin{cases}2x+3y\\le12 \\\\5x+4y\\le20\\\\x\\ge0,y\\ge0\\end{cases}$"
   ]
  },
  {
   "cell_type": "code",
   "execution_count": 17,
   "id": "607e76ba",
   "metadata": {
    "scrolled": true
   },
   "outputs": [],
   "source": [
    "%%capture latsol\n",
    "import numpy as np\n",
    "import sympy as sp\n",
    "x, y = sp.symbols('x, y')\n",
    "bil, bil2 =list(range(1,7)), list(range(1,4))\n",
    "n = 36\n",
    "\n",
    "for i in range(n):\n",
    "    a1, a2 = -1,-1\n",
    "    while a1<=0 or a2<=0:\n",
    "        r1, r2 = 100, 100\n",
    "        while r1>20:\n",
    "            (c11, c12), k= np.random.choice(bil,2), np.random.choice(bil2,1)[0]\n",
    "            r1 = k*sp.lcm(c11,c12)\n",
    "        while r2>20:\n",
    "            (c21, c22), k= np.random.choice(bil,2), np.random.choice(bil2,1)[0]\n",
    "            r2 = k*sp.lcm(c21,c22)\n",
    "        eq1, eq2 = sp.Eq(c11*x + c12*y, r1), sp.Eq(c21*x + c22*y, r2)\n",
    "        ans = sp.solve((eq1, eq2), (x, y))\n",
    "#         print(ans)\n",
    "        try:\n",
    "            a1, a2 = int(ans[x]), int(ans[y])\n",
    "        except:\n",
    "            continue\n",
    "    k1, k2 = np.random.choice([0,1],2)\n",
    "    print(f'{i+1}.\\t{c11}x+{c12}y>={r1}')    \n",
    "    print(f'\\t{c21}x+{c22}y>={r2}\\n\\tx>={k1}, y>={k2}')\n",
    "#     print(f'{i+1}.\\t{c11}x+{c12}y\\\\le{r1}, {c21}x+{c22}y\\\\le{r2}')"
   ]
  },
  {
   "cell_type": "code",
   "execution_count": 18,
   "id": "244dd906",
   "metadata": {},
   "outputs": [],
   "source": [
    "with open('no3_uh_xc_spTl2v.txt', 'w') as f: f.write(latsol.stdout)"
   ]
  },
  {
   "cell_type": "markdown",
   "id": "55bef788",
   "metadata": {},
   "source": [
    "### Kasus Minimum Maksimum\n",
    "Jika diberikan fungsi objektif linear $f(x,y)=ax+by+c$ yang ingin diminimum atau maksimumkan dalam daerah selesaian, maka langkah selanjutnya yang dilakukan antara lain:\n",
    "- menentukan titik-titik kritis\n",
    "- uji titik ke fungsi objektif"
   ]
  },
  {
   "cell_type": "markdown",
   "id": "c4b5acd6",
   "metadata": {},
   "source": [
    "**Contoh:**\\\n",
    "Tentukan nilai maksimum fungsi objektif $f(x,y)=2x+3y$ pada pertidaksamaan berikut:\\\n",
    "$\\begin{cases}\n",
    "x+3y\\le 3\\\\\n",
    "x+y\\le 2\\\\\n",
    "x\\ge0, y\\ge0\\\\\n",
    "\\end{cases}$\n",
    "\n",
    "Titik kritis adalah keseluruan titik perpotongan yang memenuhi di Daerah Selesaian [Grafik](#contoh) yang sudah dibuat.\n",
    "- Mencari perpotongan garis $x+3y=3$ dan $x+y=2$ dengan eliminasi:\\\n",
    "$x+3y=3$ ... (1)\\\n",
    "$x+y=2$ ... (2)\\\n",
    "(1)-(2) menghasilkan\\\n",
    "$2y=1\\\\\n",
    "y=\\frac{1}{2}$\n",
    "Substitusi $y$ ke persamaan (2):\\\n",
    "$x+\\frac{1}{2}=2\\\\\n",
    "x=2-\\frac{1}{2}\\\\\n",
    "x=\\frac{3}{2}$\n",
    "Jadi titik potongnya di $(\\frac{3}{2},\\frac{1}{2})$\n",
    "\n",
    "- Titik potong dengan sumbu x yang memenuhi: $(2,0)$\n",
    "- Titik potong dengan sumbu y yang memenuhi: $(0,1)$\n",
    "\n",
    "Uji ketiga titik tersebut ke fungsi objektif:\n",
    "- Titik $(2,0)$ maka, $f(3,0)=2.2+3.0=4+0=4$\n",
    "- Titik $(0,1)$ maka, $f(0,1)=2.0+3.1=0+3=3$\n",
    "- Titik $(\\frac{3}{2},\\frac{1}{2})$ maka, $f(\\frac{3}{2},\\frac{1}{2})=2.\\frac{3}{2}+3.\\frac{1}{2}=\\frac{6}{2}+\\frac{3}{2}=\\frac{9}{2}=4,5$\n",
    "- nb: titik $(0,0)$ boleh saja ikut di cari, untuk beberapa kasus sepertu mencari minimum.\n",
    "\n",
    "Karena yang dicari adalah nilai maksimum, maka ambil nilai yang paling besar. Jadi nilai maksimumnya adalah 4,5 yang berada di titik $(\\frac{3}{2},\\frac{1}{2})$."
   ]
  },
  {
   "cell_type": "code",
   "execution_count": 4,
   "id": "b542cafc",
   "metadata": {},
   "outputs": [
    {
     "data": {
      "text/html": [
       "\n",
       "        <iframe\n",
       "            width=\"610\"\n",
       "            height=\"250\"\n",
       "            src=\"https://www.desmos.com/calculator/xn1vaztjsr\"\n",
       "            frameborder=\"0\"\n",
       "            allowfullscreen\n",
       "        ></iframe>\n",
       "        "
      ],
      "text/plain": [
       "<IPython.lib.display.IFrame at 0x213ab935fa0>"
      ]
     },
     "metadata": {},
     "output_type": "display_data"
    }
   ],
   "source": [
    "from IPython.display import IFrame\n",
    "display(IFrame('https://www.desmos.com/calculator/xn1vaztjsr', 610, 250))"
   ]
  },
  {
   "cell_type": "markdown",
   "id": "8f693d5a",
   "metadata": {},
   "source": [
    "**Latihan soal:**\\\n",
    "Dengan menggunakan daerah selesaian yang didapatkan pada setiap nomor yang bersesuaian di soal sub bab sebelumnya, tentukan nilai minimum dari:\n",
    "1. $f(x,y)=2x+3y-4$\n",
    "1. $f(x,y)=3x-2y+5$\n",
    "1. $f(x,y)=-3x+4y-3$\n",
    "1. $f(x,y)=4x-y+6$\n",
    "1. $f(x,y)=-x-2y+5$"
   ]
  },
  {
   "cell_type": "markdown",
   "id": "333e4924",
   "metadata": {},
   "source": [
    "## Masalah terkait SPTLDV"
   ]
  },
  {
   "cell_type": "markdown",
   "id": "2f1879e9",
   "metadata": {},
   "source": [
    "Aplikasi SPTLDV dikaitkan pada penentuan nilai optimum pada suatu kondisi yang diinginkan secara nyata. Contohnya dalam suatu persoalan yang dapat dimodelkan matematika yang tidak tentu nilainya sehingga harus menggunakan pertidaksamaan."
   ]
  },
  {
   "cell_type": "markdown",
   "id": "24d55066",
   "metadata": {},
   "source": []
  },
  {
   "cell_type": "markdown",
   "id": "0d51c30b",
   "metadata": {},
   "source": []
  },
  {
   "cell_type": "markdown",
   "id": "6433bf28",
   "metadata": {},
   "source": []
  },
  {
   "cell_type": "markdown",
   "id": "aa1cde74",
   "metadata": {},
   "source": []
  },
  {
   "cell_type": "markdown",
   "id": "3ec09e0f",
   "metadata": {},
   "source": []
  },
  {
   "cell_type": "markdown",
   "id": "92aa82b7",
   "metadata": {},
   "source": []
  },
  {
   "cell_type": "markdown",
   "id": "be9c05dd",
   "metadata": {},
   "source": []
  }
 ],
 "metadata": {
  "kernelspec": {
   "display_name": "Python 3",
   "language": "python",
   "name": "python3"
  },
  "language_info": {
   "codemirror_mode": {
    "name": "ipython",
    "version": 3
   },
   "file_extension": ".py",
   "mimetype": "text/x-python",
   "name": "python",
   "nbconvert_exporter": "python",
   "pygments_lexer": "ipython3",
   "version": "3.9.1"
  }
 },
 "nbformat": 4,
 "nbformat_minor": 5
}
