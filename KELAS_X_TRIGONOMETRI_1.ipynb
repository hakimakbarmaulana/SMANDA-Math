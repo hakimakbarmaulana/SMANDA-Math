{
 "cells": [
  {
   "cell_type": "markdown",
   "id": "3ca7c100",
   "metadata": {},
   "source": [
    "# Perbandingan Trigonometri"
   ]
  },
  {
   "cell_type": "markdown",
   "id": "b5f3ba7f",
   "metadata": {},
   "source": [
    "<img src=\"https://4.bp.blogspot.com/-dNPMrlhfGAY/TkFMPbmzTPI/AAAAAAAACZE/gV5dnWnIiHs/s1600/matterhorn-problem.jpg\" width=300></img>"
   ]
  },
  {
   "cell_type": "markdown",
   "id": "77a31487",
   "metadata": {},
   "source": [
    "Masih ingat dengan rumus Pythagoras?\\\n",
    "Untuk mencari sisi miring segitiga siku-siku dapat dicari dengan:\\\n",
    "$a^2+b^2=c^2$\\\n",
    "dimana $c$ adalah sisi miringnya.\n",
    "\n",
    "Jika hanya diketahui satu sisi dan besar sudutnya apa bisa?\\\n",
    "Bagaimana seorang peneliti menghitung tinggi gunung, piramid, gedung, dsb?"
   ]
  },
  {
   "cell_type": "markdown",
   "id": "333e17bb",
   "metadata": {},
   "source": [
    "### *Trigger Question*\n",
    "\n",
    "1. Buatlah segitiga siku² ABC, siku² di B dengan panjang AB=4 dan AC=5. Berapa panjang sisi lainnya?\n",
    "2. Buatlah segitiga siku² PQR, siku² di Q dengan panjang QR=6 dan PR=10.Berapa panjang sisi lainnya?\n",
    "3. Analisis apakah kedua segitiga tersebut sebangun?\n",
    "4. Jika sebangun, sudut² mana saja yang bersesuaian sama besar?\n",
    "5. Jika terdapat segitiga STU, siku² di T yang sebangun dengan kedua segitiga sebelumnya, dan memiliki sisi miringnya SU=15, maka tentukanlah panjang kedua sisi lainnya,\n",
    "6. Analisis apakah perbandingan $\\frac{AB}{AC},\\frac{PQ}{PR},\\frac{ST}{SU}$ nilainya sama atau tidak.\n",
    "7. Buktikan perbandingan $\\frac{BC}{AC},\\frac{QR}{PR},\\frac{TU}{SU}$ nilainya sama."
   ]
  },
  {
   "cell_type": "markdown",
   "id": "eef3eaf8",
   "metadata": {},
   "source": [
    "## Definisi\n",
    "\n",
    "**Trigonometri** adalah cabang ilmu dalam Matematika yang mempelajari hubungan antara sisi dan sudut pada segitiga."
   ]
  },
  {
   "cell_type": "markdown",
   "id": "61830a1e",
   "metadata": {},
   "source": [
    "## Ukuran Derajat dan Radian"
   ]
  },
  {
   "cell_type": "markdown",
   "id": "e34ca06d",
   "metadata": {},
   "source": [
    "Ukuran derajat dan radian sama-sama menunjukkan besarnya suatu sudut. Pada ukuran derajat biasanya harus disertakan simbol `°` dibelakang besaran sudutnya. Sama halnya pada saat mengukur besaran suhu dengan derajat. Pada ukuran radian besaran sudut dinyatakan dalam perbandingan jari-jari dengan panjang busur lingkaran.\n",
    "\n",
    "Konversi Derajat ke Radian:\n",
    ">$rad=deg.\\frac{\\pi}{180^\\circ}$\\\n",
    "dimana $\\pi=3.1415 ...$\n",
    "\n",
    "Konversi Radian ke Derajat:\n",
    ">$deg=rad.\\frac{180^\\circ}{\\pi}$\\\n",
    "dimana $\\pi=3.1415 ...$\n",
    "\n",
    "Contoh:\\\n",
    "$360°=2\\pi$ rad\\\n",
    "$180°=\\pi$ rad\\\n",
    "$90°=\\frac{\\pi}{2}$ rad"
   ]
  },
  {
   "cell_type": "markdown",
   "id": "34967a6e",
   "metadata": {},
   "source": [
    "<img src=\"https://www.onlinemathlearning.com/image-files/radian.png\" width=300></img>"
   ]
  },
  {
   "cell_type": "markdown",
   "id": "6bf35fb9",
   "metadata": {},
   "source": [
    "**Latihan :**\\\n",
    "Ubah bentuk derajat berikut menjadi radian\n",
    "1. $135°$\n",
    "1. $45°$\n",
    "1. $330°$\n",
    "\n",
    "Ubah bentuk radian berikut menjadi derajat\n",
    "1. $\\frac{7}{4}\\pi$ rad\n",
    "1. $\\frac{2}{3}\\pi$ rad\n",
    "1. $\\frac{5}{6}\\pi$ rad\n"
   ]
  },
  {
   "cell_type": "markdown",
   "id": "3c5294ec",
   "metadata": {},
   "source": [
    "## Perbandingan Sudut Segitiga Siku-Siku"
   ]
  },
  {
   "cell_type": "markdown",
   "id": "246799b4",
   "metadata": {},
   "source": [
    "<img src=\"https://asset.kompas.com/crops/qqgeeJ6fQCYCwlWoQiP4IwcyuJU=/143x1:473x220/750x500/data/photo/2021/12/07/61af1fd26ae91.jpg\" width=300\n",
    "     ></img>"
   ]
  },
  {
   "cell_type": "markdown",
   "id": "8d72b4a4",
   "metadata": {},
   "source": [
    "$\\sin(\\alpha)=\\frac{a}{c}\\\\\n",
    "\\cos(\\alpha)=\\frac{b}{c}\\\\\n",
    "\\tan(\\alpha)=\\frac{\\sin(\\alpha)}{\\cos(\\alpha)}=\\frac{a}{b}\\\\\n",
    "cosec(\\alpha)=\\csc(\\alpha)=\\frac{1}{\\sin(\\alpha)}=\\frac{c}{a}\\\\\n",
    "\\sec(\\alpha)=\\frac{1}{\\cos(\\alpha)}=\\frac{c}{b}\\\\\n",
    "cotan(\\alpha)=\\cot(\\alpha)=\\frac{1}{\\tan(\\alpha)}=\\frac{b}{a}\n",
    "$"
   ]
  },
  {
   "cell_type": "markdown",
   "id": "2ad81755",
   "metadata": {},
   "source": [
    "**Contoh :**\\\n",
    "Pada gambar segitiga sebelumnya, panjang $a=5$ dan $b=12$. Maka:\\\n",
    "Panjang $c=\\sqrt{a^2+b^2}=\\sqrt{5^2+12^2}=\\sqrt{25+144}=\\sqrt{169}=13$\n",
    "$\\sin(\\alpha)=\\frac{a}{c}=\\frac{5}{13}\\\\\n",
    "\\cos(\\alpha)=\\frac{b}{c}=\\frac{12}{13}\\\\\n",
    "\\tan(\\alpha)=\\frac{a}{b}=\\frac{5}{12}\\\\\n",
    "\\csc(\\alpha)=\\frac{c}{a}=\\frac{13}{5}\\\\\n",
    "\\sec(\\alpha)=\\frac{c}{b}=\\frac{13}{12}\\\\\n",
    "\\cot(\\alpha)=\\frac{b}{a}=\\frac{12}{5}\n",
    "$"
   ]
  },
  {
   "cell_type": "code",
   "execution_count": 1,
   "id": "e361c1c0",
   "metadata": {
    "scrolled": true
   },
   "outputs": [
    {
     "data": {
      "text/html": [
       "\n",
       "        <iframe\n",
       "            width=\"610\"\n",
       "            height=\"250\"\n",
       "            src=\"https://www.desmos.com/calculator/ryinuknwnt\"\n",
       "            frameborder=\"0\"\n",
       "            allowfullscreen\n",
       "        ></iframe>\n",
       "        "
      ],
      "text/plain": [
       "<IPython.lib.display.IFrame at 0x1fd7b3a74f0>"
      ]
     },
     "metadata": {},
     "output_type": "display_data"
    }
   ],
   "source": [
    "from IPython.display import IFrame\n",
    "display(IFrame('https://www.desmos.com/calculator/ryinuknwnt', 610, 250))"
   ]
  },
  {
   "cell_type": "markdown",
   "id": "32179bd5",
   "metadata": {},
   "source": [
    "**Latihan :**\\\n",
    "Dengan menggunakan segitiga di atas, tentukan $\\sin(x), \\cos(x), \\tan(x)$ jika\n",
    "1. a=12,c=20 \n",
    "1. a=10,b=24\n",
    "1. b=24,c=25\n",
    "1. a=8,b=15\n",
    "\n",
    "Tentukan sisi-sisi lainnya jika diketahui\n",
    "1. $\\sin(x)=\\frac{2}{3}$, a=2\n",
    "1. $\\cos(x)=\\frac{4}{7}$, c=3\n",
    "1. $\\tan(x)=\\frac{3}{4}$, b=12\n",
    "1. $\\sin(x)=\\frac{4}{5}$, c=10\n",
    "1. $\\cos(x)=\\frac{5}{13}$, b=6\n",
    "1. $\\tan(x)=\\frac{2}{5}$, a=8"
   ]
  },
  {
   "cell_type": "markdown",
   "id": "7d57b914",
   "metadata": {},
   "source": [
    "Triple pythagoras:\n",
    "- 3,4,5\n",
    "- 5,12,13\n",
    "- 7,24,25\n",
    "- 8,15,17\n",
    "- 9,40,41"
   ]
  },
  {
   "cell_type": "markdown",
   "id": "9c3cd17d",
   "metadata": {},
   "source": [
    "## Perbandingan Sudut Istimewa dan Sudut Berelasi"
   ]
  },
  {
   "cell_type": "markdown",
   "id": "2c09ac95",
   "metadata": {},
   "source": [
    "<img src=\"https://mejakelas.com/wp-content/uploads/2022/08/image-33.png\" width=300></img>\n",
    "\n",
    "Diberikan suatu segitiga istimewa yang memiliki perbandingan sisi dan besar sudut tertentu. Kedua segitiga tersebut dapat dirangkum perbandingan sudut-sudut istimewa seperti berikut:"
   ]
  },
  {
   "cell_type": "markdown",
   "id": "f96d8846",
   "metadata": {},
   "source": [
    "**Tabel sudut istimewa untuk sin x, cos x, tan x**\n",
    "\n",
    "|x|sin x|cos x|tan x|\n",
    "|:--:|:--|:--|:--|\n",
    "|0|0|1|0|\n",
    "|30|$\\frac{1}{2}$|$\\frac{1}{2}\\sqrt{3}$|$\\frac{1}{3}\\sqrt{3}$|\n",
    "|45|$\\frac{1}{2}\\sqrt{2}$|$\\frac{1}{2}\\sqrt{2}$|1|\n",
    "|60|$\\frac{1}{2}\\sqrt{3}$|$\\frac{1}{2}$|$\\sqrt{3}$|\n",
    "|90|1|0|$\\infty$|"
   ]
  },
  {
   "cell_type": "markdown",
   "id": "aacdd23d",
   "metadata": {},
   "source": [
    "**Tabel sudut istimewa untuk csc x, sec x, tan x**\n",
    "\n",
    "|x|csc x|sec x|cot x|\n",
    "|:--:|:--|:--|:--|\n",
    "|0|$\\infty$|1|$\\infty$|\n",
    "|30|2|$\\frac{2}{3}\\sqrt{3}$|$\\sqrt{3}$|\n",
    "|45|$\\sqrt{2}$|$\\sqrt{2}$|1|\n",
    "|60|$\\frac{2}{3}\\sqrt{3}$|2|$\\frac{1}{3}\\sqrt{3}$|\n",
    "|90|1|$\\infty$|0|"
   ]
  },
  {
   "cell_type": "markdown",
   "id": "e513b432",
   "metadata": {},
   "source": [
    "### Sudut berelasi\n",
    "\n",
    "Suatu perbandingan trigonometri memiliki nilai positif atau negatif tergantung besar sudutnya. Misalkan digambarkan pada diagram kartesius, sudut dinyatakan besaran yang dihitung dari sumbu x positif dan diputar berkebalikan arah jarum jam.\\\n",
    "Suatu bidang kartesius dapat dibagi menjadi 4 daerah yang disebut sebagai **kuadran**."
   ]
  },
  {
   "cell_type": "markdown",
   "id": "2d9b6aa8",
   "metadata": {},
   "source": [
    "<img src=\"https://www.zenius.net/blog/wp-content/uploads/2021/09/Sudut-sudut-Berelasi.png\" width=400></img>"
   ]
  },
  {
   "cell_type": "markdown",
   "id": "66bd333a",
   "metadata": {},
   "source": [
    "<img src=\"https://www.zenius.net/blog/wp-content/uploads/2021/09/Sudut-Berelasi.png\" width=600></img>"
   ]
  },
  {
   "cell_type": "code",
   "execution_count": 1,
   "id": "cebe0415",
   "metadata": {},
   "outputs": [
    {
     "data": {
      "text/html": [
       "\n",
       "        <iframe\n",
       "            width=\"610\"\n",
       "            height=\"250\"\n",
       "            src=\"https://www.desmos.com/calculator/0nu1txb2kx\"\n",
       "            frameborder=\"0\"\n",
       "            allowfullscreen\n",
       "        ></iframe>\n",
       "        "
      ],
      "text/plain": [
       "<IPython.lib.display.IFrame at 0x1a1f7e42a60>"
      ]
     },
     "metadata": {},
     "output_type": "display_data"
    }
   ],
   "source": [
    "from IPython.display import IFrame\n",
    "display(IFrame('https://www.desmos.com/calculator/0nu1txb2kx', 610, 250))"
   ]
  },
  {
   "cell_type": "markdown",
   "id": "c71f87f2",
   "metadata": {},
   "source": [
    "# Aturan Sinus"
   ]
  },
  {
   "cell_type": "markdown",
   "id": "9458dece",
   "metadata": {},
   "source": [
    "Misalkan suatu segitiga sembarang dengan sisi $a$ yang dihadapi sudut $\\alpha$, sisi $b$ yang dihadapi sudut $\\beta$, dan sisi $c$ yang dihadapi sudut $\\gamma$, maka aturan sinus dinotasikan berikut:\n",
    "> $\\frac{a}{\\sin \\alpha}=\\frac{b}{\\sin\\beta}=\\frac{c}{\\sin \\gamma}$"
   ]
  },
  {
   "cell_type": "markdown",
   "id": "6950ad58",
   "metadata": {},
   "source": [
    "<img src=\"https://www.wikihow.com/images/thumb/0/00/Use-the-Sine-Rule-Step-2-Version-2.jpg/v4-460px-Use-the-Sine-Rule-Step-2-Version-2.jpg.webp\" width=300></img>"
   ]
  },
  {
   "cell_type": "markdown",
   "id": "ec8be0b4",
   "metadata": {},
   "source": [
    "# Aturan Cosinus"
   ]
  },
  {
   "cell_type": "markdown",
   "id": "41e4911d",
   "metadata": {},
   "source": [
    "Misalkan suatu segitiga sembarang dengan sisi $a$ yang dihadapi sudut $\\alpha$, sisi $b$ yang dihadapi sudut $\\beta$, dan sisi $c$ yang dihadapi sudut $\\gamma$, maka aturan cosinus dinotasikan antara lain:\n",
    "> $c^2=a^2+b^2-2ab\\cos\\gamma$\\\n",
    "$b^2=a^2+c^2-2ac\\cos\\beta$\\\n",
    "$a^2=b^2+c^2-2bc\\cos\\alpha$"
   ]
  },
  {
   "cell_type": "markdown",
   "id": "de5578ec",
   "metadata": {},
   "source": [
    "# Identitas Trigonometri"
   ]
  },
  {
   "cell_type": "markdown",
   "id": "82938f6d",
   "metadata": {},
   "source": [
    "Misalkan terdapat segitiga siku siku dengan sisi depannya sepanjang $a$, sisi sampingnya sepanjang $b$, dan sisi miring atau hipotenusanya sepanjang $c$. Menurut teorema Pythagoras berlaku:\\\n",
    "$a^2+b^2=c^2$\n",
    "\n",
    "**Identitas 1**\\\n",
    "$\\frac{a^2}{c^2}+\\frac{b^2}{c^2}=\\frac{c^2}{c^2}\\\\\n",
    "\\left(\\frac{a}{c}\\right)^2+\\left(\\frac{b}{c}\\right)^2=1\\\\\n",
    "\\therefore \\sin^2 x+\\cos^2 x=1$\\\n",
    "**Identitas 2**\\\n",
    "$\\frac{a^2}{b^2}+\\frac{b^2}{b^2}=\\frac{c^2}{b^2}\\\\\n",
    "\\left(\\frac{a}{b}\\right)^2+1=\\left(\\frac{c}{b}\\right)^2\\\\\n",
    "\\therefore \\tan^2 x+1=\\sec^2 x$\\\n",
    "**Identitas 3**\\\n",
    "$\\frac{a^2}{a^2}+\\frac{b^2}{a^2}=\\frac{c^2}{a^2}\\\\\n",
    "1+\\left(\\frac{b}{a}\\right)^2=\\left(\\frac{c}{a}\\right)^2\\\\\n",
    "\\therefore 1+\\cot^2 x=\\csc^2 x$"
   ]
  },
  {
   "cell_type": "markdown",
   "id": "5e897fc2",
   "metadata": {},
   "source": []
  },
  {
   "cell_type": "code",
   "execution_count": 2,
   "id": "979e122c",
   "metadata": {},
   "outputs": [
    {
     "data": {
      "text/html": [
       "\n",
       "        <iframe\n",
       "            width=\"610\"\n",
       "            height=\"250\"\n",
       "            src=\"https://www.desmos.com/calculator/9uerwvdcur\"\n",
       "            frameborder=\"0\"\n",
       "            allowfullscreen\n",
       "        ></iframe>\n",
       "        "
      ],
      "text/plain": [
       "<IPython.lib.display.IFrame at 0x1a1f7e42cd0>"
      ]
     },
     "metadata": {},
     "output_type": "display_data"
    }
   ],
   "source": [
    "from IPython.display import IFrame\n",
    "display(IFrame('https://www.desmos.com/calculator/9uerwvdcur', 610, 250))"
   ]
  },
  {
   "cell_type": "code",
   "execution_count": null,
   "id": "fcfcefaf",
   "metadata": {},
   "outputs": [],
   "source": []
  }
 ],
 "metadata": {
  "kernelspec": {
   "display_name": "Python 3",
   "language": "python",
   "name": "python3"
  },
  "language_info": {
   "codemirror_mode": {
    "name": "ipython",
    "version": 3
   },
   "file_extension": ".py",
   "mimetype": "text/x-python",
   "name": "python",
   "nbconvert_exporter": "python",
   "pygments_lexer": "ipython3",
   "version": "3.9.1"
  }
 },
 "nbformat": 4,
 "nbformat_minor": 5
}
