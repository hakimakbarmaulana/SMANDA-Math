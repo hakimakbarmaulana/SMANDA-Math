{
 "cells": [
  {
   "cell_type": "markdown",
   "id": "69805eea",
   "metadata": {},
   "source": [
    "# Barisan dan Deret"
   ]
  },
  {
   "cell_type": "markdown",
   "id": "611a7ad5",
   "metadata": {},
   "source": [
    "**Barisan** merupakan suatu daftar atau urutan angka yang dituliskan dari kiri ke kanan dan memiliki pola atau aturan tertentu. Sedangkan **deret** adalah jumlah dari suku -suku penyusun barisan bilangan."
   ]
  },
  {
   "cell_type": "markdown",
   "id": "8e4c280d",
   "metadata": {},
   "source": [
    "## Pola Bilangan"
   ]
  },
  {
   "cell_type": "markdown",
   "id": "836acfc4",
   "metadata": {},
   "source": [
    "Jenis pola bilangan Umum:\n",
    "- Pola genap\n",
    "        2, 4, 6, 8, 10, 12, ...\n",
    "    Rumus suku ke-n: $U_n=2n$    \n",
    "- Pola ganjil\n",
    "        1, 3, 5, 7, 9, 11, ...\n",
    "    Rumus suku ke-n: $U_n=2n-1$\n",
    "- Pola persegi\n",
    "        1, 4, 9, 16, 25, 36, ...\n",
    "    Rumus suku ke-n: $U_n=n^2$\n",
    "- Pola persegi panjang\n",
    "        2, 6, 12, 20, 30, 42, ...\n",
    "    Rumus suku ke-n: $U_n=n(n+1)$\n",
    "- Pola segitiga\n",
    "        1, 3, 6, 10, 15, 21, ...\n",
    "    Rumus suku ke-n: $U_n=\\frac{n(n+1)}{2}$\n",
    "- Pola fibbonacci\n",
    "        1, 1, 2, 3, 5, 8, ...\n",
    "    Rumus suku ke-n: $U_n=U_{n-1}+U_{n-2}$\n",
    "- Pola pascal\n",
    "        2, 4, 8, 16, 32, 64, ...\n",
    "    Rumus suku ke-n: $U_n=2^n$"
   ]
  },
  {
   "cell_type": "markdown",
   "id": "781221d9",
   "metadata": {},
   "source": [
    "Jenis berdasarkan loncatannya :\n",
    "- Pola loncat 1\n",
    "- Pola loncat 2\n",
    "- dst"
   ]
  },
  {
   "cell_type": "markdown",
   "id": "4ba3565d",
   "metadata": {},
   "source": [
    "Jenis berdasarkan operasi dan angka :\n",
    "- Angka sama, operasi sama\n",
    "        1, 3, 5, 7, 9, 11, 13,...\n",
    "         +2 +2 +2 +2  +2  +2\n",
    "- Angka beda, operasi sama\n",
    "        1, 2, 4, 7, 13, 18, 24,...\n",
    "         +1 +2 +3  +4  +5  +6\n",
    "- Angka sama, operasi beda\n",
    "        1, 3, 6, 8, 16, 18, 36,...\n",
    "         +2 x2 +2  x2  +2  x2\n",
    "- Angka beda, operasi beda\n",
    "        1, 2, 4, 1, 5, 25, 19,...\n",
    "         +1 x2 -3 +4  x5  -6"
   ]
  },
  {
   "cell_type": "markdown",
   "id": "4538eb2e",
   "metadata": {},
   "source": [
    "## Barisan dan Deret Aritmatika"
   ]
  },
  {
   "cell_type": "markdown",
   "id": "f4851c68",
   "metadata": {},
   "source": [
    "### Barisan Aritmatika"
   ]
  },
  {
   "cell_type": "markdown",
   "id": "73229fd6",
   "metadata": {},
   "source": [
    "Barisan aritmatika adalah suatu pola bilangan dengan selisih bilangan berdekatan selalu sama. Selisih bilangan ini disebut dengan **beda** dari barisan aritmatika. Barisan aritmatika memiliki pola berikut : $a, a+b, a+2b, a+3b, ...$. Sehingga `beda` dapat ditentukan dengan : $b=U_{n}-U_{n-1}$.\n",
    "\n",
    "$b=U_{2}-U_{1}$ \\\n",
    "$b=U_{3}-U_{2}$ \\\n",
    "$b=U_{4}-U_{3}$ dan seterusnya\n",
    "\n",
    "Contoh barisan aritmatika : 7, 10, 13, 16, 19, 22, ... $a=7, b=3$\n",
    "\n",
    "Rumus menentukan suku ke-n barisan aritmatika :\n",
    "> $U_n=a+(n-1)b$ \n",
    "\n",
    "$U_n=7+(n-1).3$ \\\n",
    "$U_n=7+3n-3$ \\\n",
    "$U_n=3n+4$\n",
    "\n",
    "dengan \\\n",
    "$U_n$ : Suku ke-n\\\n",
    "$a$ : Suku pertama atau $U_1$ \\\n",
    "$b$ : beda barisan"
   ]
  },
  {
   "cell_type": "markdown",
   "id": "7253f84e",
   "metadata": {},
   "source": [
    "#### Suku tengah barisan aritmetika\n",
    "\n",
    "Apabila suatu barisan memiliki banyak suku yang ganjil, maka dapat ditentukan suku yang tepat berada pada tengah barisan tersebut yang membagi barisan menjadi 2 bagian sama banyak.\n",
    "\n",
    "Misal:\n",
    "        3, 7, 11, 15, 19\n",
    "maka suku tengahnya adalah 11.\n",
    "\n",
    "Notasi suku tengah :\n",
    "> $U_t=\\frac{U_1+U_n}{2}$ \\\n",
    "dengan $t=\\frac{n+1}{2}$"
   ]
  },
  {
   "cell_type": "markdown",
   "id": "4851b534",
   "metadata": {},
   "source": [
    "### Deret Aritmatika"
   ]
  },
  {
   "cell_type": "markdown",
   "id": "ddffdb23",
   "metadata": {},
   "source": [
    "Deret aritmatika merupakan jumlahan dari suku-suku pertama barisan aritmatika. Contoh deret aritmatika: 7+10+13+16+19+22...\n",
    "\n",
    "Rumus menentukan jumlah sampai suku ke-n deret aritmatika :\n",
    "> $S_n=\\frac{n}{2}(U_1+U_n)$ atau\\\n",
    "$S_n=\\frac{n}{2}(2a+(n-1)b)$\n",
    "\n",
    "$S_n=\\frac{n}{2}(2.7+(n-1).3)$ \\\n",
    "$S_n=\\frac{n}{2}(14+3n-3)$ \\\n",
    "$S_n=\\frac{n}{2}(3n+11)$"
   ]
  },
  {
   "cell_type": "markdown",
   "id": "ce401986",
   "metadata": {},
   "source": [
    "### Sisipan Barisan Aritmatika"
   ]
  },
  {
   "cell_type": "markdown",
   "id": "223d56ad",
   "metadata": {},
   "source": [
    "Misalkan di antara dua bilangan $x$ dan $y$ (atau dari barisan aritmatika itu sendiri) disisipkan sebanyak $k$ bilangan maka dapat dibentuk barisan aritmatika dengan beda yang baru $b_{baru}$.\n",
    "\n",
    "Rumus menentukan beda baru setelah barisan aritmatika disisipi $k$ bilangan :\n",
    "> $b_{baru}=\\frac{U_{n}-U_{n-1}}{k+1}=\\frac{b}{k+1}$"
   ]
  },
  {
   "cell_type": "markdown",
   "id": "e51f4ab7",
   "metadata": {},
   "source": [
    "Latihan soal :\n",
    "1. Tentukan rumus suku ke-n, suku ke-13, dan $U_{20}$ dari barisan berikut:\\\n",
    "    a. $2,5,8,11,...$ \\\n",
    "    b. $8,4,0,-4,...$ \\\n",
    "    c. $3,\\frac{7}{2},4,\\frac{9}{2},5,\\frac{11}{2},...$ \\\n",
    "    d. $-2,-4,-6,...$ \\\n",
    "    e. $\\frac{1}{3},1,1\\frac{2}{3},\\frac{7}{3},3,...$\n",
    "1. Jika $U_3=8, U_6=17$, tentukan $2a-b$\n",
    "1. Jika $k+1, 2k+4, 4k-2$ membentuk barisan aritmatika, maka tentukan nilai $3k-1$\n",
    "1. Tentukan jumlah 7 suku pertama dan rumus $S_n$ dari deret berikut: \\\n",
    "    a. $1+4+7+10+...$ \\\n",
    "    b. $-3-6-9-12-...$ \\\n",
    "    c. $7+11+15+19+...$ \\\n",
    "    d. $-2.5-2-1.5-0.5+0+...$ \\\n",
    "    e. $1+0.25-50\\%-1\\frac{1}{4}-...$\n",
    "1. Jika $U_1=4, U_t=22, n=13$, tentukan $b-a$"
   ]
  },
  {
   "cell_type": "code",
   "execution_count": 2,
   "id": "438a2af3",
   "metadata": {},
   "outputs": [
    {
     "name": "stdout",
     "output_type": "stream",
     "text": [
      "4, 7, 10, 13, 16, 19, 22, 25, 28, 31, 34, 37, 40, "
     ]
    }
   ],
   "source": [
    "a, b, n = 4, 3, 13\n",
    "for i in range(1,n+1):\n",
    "    print(a+(i-1)*b, end=', ')"
   ]
  },
  {
   "cell_type": "markdown",
   "id": "429ff605",
   "metadata": {},
   "source": [
    "## Barisan dan Deret Geometri"
   ]
  },
  {
   "cell_type": "markdown",
   "id": "d116e706",
   "metadata": {},
   "source": [
    "### Barisan Geometri"
   ]
  },
  {
   "cell_type": "markdown",
   "id": "7b534f56",
   "metadata": {},
   "source": [
    "Barisan geometri adalah suatu pola bilangan dengan perbandingan bilangan berdekatan selalu sama. Perbandingan bilangan ini disebut dengan **rasio** dari barisan geometri. Barisan geometri memiliki pola berikut : $a, ar, ar^2, ar^3, ...$. Sehingga `rasio` dapat ditentukan dengan : $r=\\frac{U_{n}}{U_{n-1}}$.\n",
    "\n",
    "$r=\\frac{U_{2}}{U_{1}}$ \\\n",
    "$r=\\frac{U_{3}}{U_{2}}$ \\\n",
    "$r=\\frac{U_{4}}{U_{3}}$ dan seterusnya\n",
    "\n",
    "Contoh barisan geometri: 2, 6, 18, 54, 162, ... $a=2, r=3$\n",
    "\n",
    "Rumus menentukan suku ke-n barisan geometri :\n",
    "> $U_n=a.r^{n-1}$\n",
    "\n",
    "dengan \\\n",
    "$U_n$ : Suku ke-n\\\n",
    "$a$ : Suku pertama atau $U_1$ \\\n",
    "$r$ : rasio barisan"
   ]
  },
  {
   "cell_type": "markdown",
   "id": "952351ef",
   "metadata": {},
   "source": [
    "#### Suku tengah barisan geometri\n",
    "\n",
    "Definisi suku tengah untuk barisan geometri ini sama dengan suku tengah barisan aritmatika\n",
    "\n",
    "Misal:\n",
    "        3, 6, 12, 24, 48\n",
    "maka suku tengahnya adalah 12.\n",
    "\n",
    "Notasi suku tengah :\n",
    "> $U_t=\\sqrt{U_1.U_n}$ \\\n",
    "dengan $t=\\frac{n+1}{2}$"
   ]
  },
  {
   "cell_type": "markdown",
   "id": "3f96bd25",
   "metadata": {},
   "source": [
    "### Deret Geometri"
   ]
  },
  {
   "cell_type": "markdown",
   "id": "fdcdc1eb",
   "metadata": {},
   "source": [
    "Deret geometri merupakan jumlahan dari suku-suku pertama barisan geometri. Contoh deret geometri: 2+6+18+54+162+...\n",
    "\n",
    "Rumus menentukan jumlah sampai suku ke-n deret geometri :\n",
    "> $S_n=a\\frac{r^n-1}{r-1}$ untuk $r>1$ atau\\\n",
    "$S_n=a\\frac{1-r^n}{1-r}$ untuk $0<r<1$"
   ]
  },
  {
   "cell_type": "markdown",
   "id": "a981e531",
   "metadata": {},
   "source": [
    "### Sisipan Barisan Geometri"
   ]
  },
  {
   "cell_type": "markdown",
   "id": "266f130a",
   "metadata": {},
   "source": [
    "Misalkan di antara dua bilangan $x$ dan $y$ (atau dari barisan geometri itu sendiri) disisipkan sebanyak $k$ bilangan maka dapat dibentuk barisan geometri dengan beda yang rasio $r_{baru}$.\n",
    "\n",
    "Rumus menentukan rasio baru setelah barisan geometri disisipi $k$ bilangan :\n",
    "> $r_{baru}=\\sqrt[k+1]{\\frac{U_{n}}{U_{n-1}}}=\\sqrt[k+1]{r}$"
   ]
  },
  {
   "cell_type": "markdown",
   "id": "951c0b00",
   "metadata": {},
   "source": [
    "### Deret Geometri Tak Hingga"
   ]
  },
  {
   "cell_type": "markdown",
   "id": "1152b469",
   "metadata": {},
   "source": [
    "Suatu barisan geometri yang memiliki suku yang sangat banyak atau bahkan tak terhingga disebut sebagai barisan geometri tak hingga. Jika rasio dari barisan geometri berada di atara $-1<r<1$ maka jumlahannya akan terbatas menuju suatu nilai tertentu, hal ini disebut dengan **konvergen**. Sedangkan jika rasio deret tak hingga $r<-1$ atau $r>1$ maka jumlahannya akan semakin banyak mendekati tak hingga, hal ini disebut sebagai barisan yang **divergen**.\n",
    "\n",
    "Rumus menentukan jumlah deret geometri tak hingga :\n",
    "> $S_{\\infty}=\\frac{a}{1-r}$ dengan $0<r<1$ \\\n",
    "$S_{\\infty}=\\infty$ dengan $r>1$\n",
    "\n",
    "Panjang lintasan bola yang dipantulkan sampai berhenti :\n",
    "> $l=2.S_{\\infty}-a$\n",
    "![alt bola_memantul](https://images.squarespace-cdn.com/content/v1/55f84e6de4b052893a393717/1447784516756-91I8COG73GHR4WERFFG5/image-asset.gif)"
   ]
  },
  {
   "cell_type": "markdown",
   "id": "583e1bf1",
   "metadata": {},
   "source": [
    "Latihan soal :\n",
    "1. Tentukan rumus suku ke-n, suku ke 5, dan $U_7$ dari barisan berikut : \\\n",
    "    a. $2, 6, 18, 54, ...$ \\\n",
    "    b. $16, 8, 4, 2, ...$ \\\n",
    "    c. $1, -4, 16, -64, ...$ \\\n",
    "    d. $2, 3, \\frac{9}{2}, \\frac{27}{4}, ...$ \\\n",
    "    e. $9, -6, 4, -\\frac{8}{3}, ...$\n",
    "1. Sederhanakan dan tentukan nilai $\\frac{U_3.U_2}{U_1}$ jika $U_4=2$\n",
    "1. Jika $2, k, l, m, 162$ adalah barisan geometri, tentukan $2k+l-m$\n",
    "1. Tentukan hasil deret berikut : \\\n",
    "    a. $1+3+9+27+...$,  $S_7=$ \\\n",
    "    b. $-2+4-8+16-...$,  $S_8=$ \\\n",
    "    c. $4+8+16+...+128=$ \\\n",
    "    d. $2+\\frac{2}{3}+\\frac{2}{9}+\\frac{2}{27}+...=$ \\\n",
    "    e. $8+6+\\frac{9}{2}+\\frac{27}{8}+...=$\n",
    "1. Jika $U_1=3$, $U_t=48$, barisan geometri dengan $n=9$, maka tentukan $U_3$"
   ]
  },
  {
   "cell_type": "code",
   "execution_count": 10,
   "id": "1b2f68e4",
   "metadata": {},
   "outputs": [
    {
     "name": "stdout",
     "output_type": "stream",
     "text": [
      "0.5, 0.3333333333333333, 0.2222222222222222, 0.1481481481481481, 0.09876543209876541, 0.06584362139917693, "
     ]
    },
    {
     "data": {
      "image/png": "[encoded data removed]",
      "text/latex": [
       "$\\displaystyle \\left( 1.36831275720165, \\  1.36831275720165\\right)$"
      ],
      "text/plain": [
       "(1.3683127572016458, 1.368312757201646)"
      ]
     },
     "execution_count": 10,
     "metadata": {},
     "output_type": "execute_result"
    }
   ],
   "source": [
    "a, r, n = 1/2, 2/3, 6\n",
    "s = 0\n",
    "for i in range(1,n+1):\n",
    "    u = a*r**(i-1)\n",
    "    s += u\n",
    "    print(u, end=', ')\n",
    "s, a*(r**n-1)/(r-1)"
   ]
  },
  {
   "cell_type": "code",
   "execution_count": 7,
   "id": "0f574f02",
   "metadata": {},
   "outputs": [
    {
     "data": {
      "image/png": "[encoded data removed]",
      "text/latex": [
       "$\\displaystyle 0.065843621399177$"
      ],
      "text/plain": [
       "0.06584362139917696"
      ]
     },
     "execution_count": 7,
     "metadata": {},
     "output_type": "execute_result"
    }
   ],
   "source": []
  },
  {
   "cell_type": "markdown",
   "id": "b0387016",
   "metadata": {},
   "source": [
    "## Aplikasi barisan dan deret"
   ]
  },
  {
   "cell_type": "markdown",
   "id": "93ac8cb0",
   "metadata": {},
   "source": [
    "### Bunga Tunggal\n",
    "\n",
    "Rumus bunga tunggal :\n",
    "> $M_n=M_0(1+n.i)$"
   ]
  },
  {
   "cell_type": "markdown",
   "id": "49e81dc3",
   "metadata": {},
   "source": [
    "### Bunga Majemuk\n",
    "\n",
    "Rumus bunga tunggal :\n",
    "> $M_n=M_0(1+i)^n$"
   ]
  },
  {
   "cell_type": "markdown",
   "id": "f51a0be6",
   "metadata": {},
   "source": []
  },
  {
   "cell_type": "markdown",
   "id": "e10b1e76",
   "metadata": {},
   "source": []
  },
  {
   "cell_type": "markdown",
   "id": "eaa88e2d",
   "metadata": {},
   "source": []
  }
 ],
 "metadata": {
  "kernelspec": {
   "display_name": "Python 3",
   "language": "python",
   "name": "python3"
  },
  "language_info": {
   "codemirror_mode": {
    "name": "ipython",
    "version": 3
   },
   "file_extension": ".py",
   "mimetype": "text/x-python",
   "name": "python",
   "nbconvert_exporter": "python",
   "pygments_lexer": "ipython3",
   "version": "3.9.1"
  }
 },
 "nbformat": 4,
 "nbformat_minor": 5
}
